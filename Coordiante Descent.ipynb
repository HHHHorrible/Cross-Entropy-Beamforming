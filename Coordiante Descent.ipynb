{
 "cells": [
  {
   "cell_type": "code",
   "execution_count": 1,
   "metadata": {},
   "outputs": [],
   "source": [
    "import scipy.io as io\n",
    "import numpy as np\n",
    "import matplotlib.pyplot as plt\n",
    "from scipy.stats import bernoulli\n",
    "from scipy.stats import multinomial\n",
    "from collections import OrderedDict"
   ]
  },
  {
   "cell_type": "code",
   "execution_count": 2,
   "metadata": {},
   "outputs": [],
   "source": [
    "np.random.seed(1)\n",
    "mat = io.loadmat('tempNs4.mat')\n",
    "model = {}\n",
    "model['H'] = mat['H']\n",
    "model['Wopt'] = mat['Wopt']\n",
    "model['Fopt'] = mat['Fopt']\n",
    "model['Ns'] = mat['Ns'][0,0] ## need to change nb of stream in channel realization, this case 1\n",
    "# model['Ns'] = 2\n",
    "model['Nt'] = mat['Nt'][0,0]\n",
    "model['Nr'] = mat['Nr'][0,0]\n",
    "model['Nc'] = mat['Nc'][0,0]\n",
    "model['Nray'] = mat['Nray'][0,0]\n",
    "model['realization'] = mat['realization'][0,0]\n",
    "model['At'] = mat['At']\n",
    "model['Ar'] = mat['Ar']\n",
    "model['Nrf'] = 4\n",
    "archi = 'FC'"
   ]
  },
  {
   "cell_type": "code",
   "execution_count": 3,
   "metadata": {},
   "outputs": [
    {
     "data": {
      "text/plain": [
       "array([[1, 0, 0, 0],\n",
       "       [0, 2, 0, 0],\n",
       "       [0, 0, 3, 0],\n",
       "       [0, 0, 0, 4]])"
      ]
     },
     "execution_count": 3,
     "metadata": {},
     "output_type": "execute_result"
    }
   ],
   "source": [
    "np.diagflat([1,2,3,4])"
   ]
  },
  {
   "cell_type": "code",
   "execution_count": 4,
   "metadata": {},
   "outputs": [],
   "source": [
    "V_hat = np.zeros((model['Nt'],model['Ns'],model['realization']),dtype=complex)\n",
    "U_hat = np.zeros((model['Nr'],model['Ns'],model['realization']),dtype=complex)\n",
    "sigma_hat = np.zeros((model['Ns'],model['Ns'],model['realization']),dtype=complex)"
   ]
  },
  {
   "cell_type": "code",
   "execution_count": 5,
   "metadata": {},
   "outputs": [],
   "source": [
    "for reali in range(model['realization']):\n",
    "    if (np.linalg.matrix_rank(model['H'][:,:,reali])>=model['Ns']):\n",
    "#         count = count + 1\n",
    "        U, s, V = np.linalg.svd(model['H'][:,:,reali], full_matrices=True)\n",
    "        V = V.conj().T\n",
    "        V_hat[:,:,reali] = V[0:model['Nt'],0:model['Ns']]\n",
    "        U_hat[:,:,reali] = U[0:model['Nr'],0:model['Ns']]\n",
    "        sigma_hat[:,:,reali] = np.diagflat(s[:model['Ns']])"
   ]
  },
  {
   "cell_type": "code",
   "execution_count": 12,
   "metadata": {},
   "outputs": [],
   "source": [
    "alpha = 0.0001\n",
    "n_bit = 2\n",
    "q = 2*np.pi/2**n_bit"
   ]
  },
  {
   "cell_type": "code",
   "execution_count": 13,
   "metadata": {},
   "outputs": [],
   "source": [
    "F_rf_angle = np.zeros((model['Nt'],model['Nrf']))\n",
    "W_rf_angle = np.zeros((model['Nr'],model['Nrf']))\n",
    "F_rf = np.exp(1j*F_rf_angle)\n",
    "W_rf = np.exp(1j*W_rf_angle)"
   ]
  },
  {
   "cell_type": "code",
   "execution_count": 14,
   "metadata": {},
   "outputs": [],
   "source": [
    "def opt_frf(a,b,c,i,q=2*np.pi/2**2):\n",
    "    b_cut = np.delete(b, i, axis=1)\n",
    "    b_i = b[:,[i]]\n",
    "    c_cut = np.delete(c, i, axis=0)\n",
    "\n",
    "    big = a@b_cut@c_cut\n",
    "    small = a@b_i\n",
    "\n",
    "    ang = np.angle(big) - np.angle(small)\n",
    "    ang = q * np.round(ang/q)\n",
    "#     print(ang)\n",
    "    c_new = np.exp(1j*ang)\n",
    "    return c_new"
   ]
  },
  {
   "cell_type": "code",
   "execution_count": 15,
   "metadata": {},
   "outputs": [],
   "source": [
    "def opt_wrf(a,b,c,i,q=2*np.pi/2**2):\n",
    "    b_cut = np.delete(b, i, axis=0)\n",
    "    b_i = b[[i],:]\n",
    "    _a = a.conj().T\n",
    "    _a_cut = np.delete(_a, i, axis=1)\n",
    "    big = _a_cut@b_cut@c\n",
    "    small = b_i@c\n",
    "\n",
    "    ang = np.angle(big) - np.angle(small)\n",
    "    ang = q * np.round(ang/q)\n",
    "    _a[0][i] = np.exp(1j*ang)\n",
    "    return _a\n",
    "\n"
   ]
  },
  {
   "cell_type": "code",
   "execution_count": 17,
   "metadata": {},
   "outputs": [],
   "source": [
    "def data_rate(Ns,SNR,W,H,F):\n",
    "    \"\"\"\n",
    "    Compute the data rate of the beamforming system\n",
    "    \n",
    "    Arguments:\n",
    "    Ns -- number of stream\n",
    "    SNR -- Signal to noise ratio\n",
    "    W -- combiner\n",
    "    H -- channel\n",
    "    F -- precoder\n",
    "    \n",
    "    Returns:\n",
    "    R -- data rate\n",
    "    \"\"\"\n",
    "    R = np.log2(np.linalg.det(np.eye(Ns)+SNR/Ns*np.linalg.pinv(W)@H@F@F.conj().T@H.conj().T@W))\n",
    "    return R.real"
   ]
  },
  {
   "cell_type": "code",
   "execution_count": 20,
   "metadata": {},
   "outputs": [],
   "source": [
    "# SNR = 10**(10/10)\n",
    "# data_rate(model['Ns'],SNR,W_rf/np.sqrt(model['Nr']),H0,F_rf/np.sqrt(model['Nt']))"
   ]
  },
  {
   "cell_type": "code",
   "execution_count": 21,
   "metadata": {
    "scrolled": true
   },
   "outputs": [],
   "source": [
    "# F_rf_angle = np.zeros((model['Nt'],model['Nrf']))\n",
    "# W_rf_angle = np.zeros((model['Nr'],model['Nrf']))\n",
    "# F_rf = np.exp(1j*F_rf_angle)\n",
    "# W_rf = np.exp(1j*W_rf_angle)\n",
    "# SNR = 10**(10/10)\n",
    "\n",
    "# for t in range(5):\n",
    "#     for l in range(model['Ns']):\n",
    "# #         print('-----------')\n",
    "#         Frf_l = np.delete(F_rf, l, axis=1)\n",
    "#         Wrf_l = np.delete(W_rf, l, axis=1)\n",
    "#         fl = F_rf[:,[l]]\n",
    "#         wl = W_rf[:,[l]]\n",
    "#         Ql = U_hat0@np.linalg.inv(alpha*np.eye(model['Ns']) + sigma_hat0@V_hat0.conj().T@Frf_l@Wrf_l.conj().T@U_hat0)@sigma_hat0@V_hat0.conj().T\n",
    "\n",
    "#         for k in range(5):\n",
    "#             for i in range(model['Nt']):\n",
    "#                 fl[i] = opt_frf(wl.conj().T,Ql,fl,i)\n",
    "#             for j in range(model['Nr']):\n",
    "#                 wl = opt_wrf(wl,Ql,fl,j).conj().T\n",
    "#         F_rf[:,[l]] = fl \n",
    "#         W_rf[:,[l]] = wl\n"
   ]
  },
  {
   "cell_type": "code",
   "execution_count": 22,
   "metadata": {},
   "outputs": [],
   "source": [
    "def coordinate_descent(index,Nt=64,Nr=16,Ns=4,Nrf=4):\n",
    "    F_rf_angle = np.zeros((Nt,Nrf))\n",
    "    W_rf_angle = np.zeros((Nr,Nrf))\n",
    "    F_rf = np.exp(1j*F_rf_angle)\n",
    "    W_rf = np.exp(1j*W_rf_angle)\n",
    "    \n",
    "    U_hat0 = U_hat[:,:,index]\n",
    "    V_hat0 = V_hat[:,:,index]\n",
    "    sigma_hat0 = sigma_hat[:,:,index]\n",
    "    \n",
    "    for t in range(5):\n",
    "        for l in range(Ns):\n",
    "    #         print('-----------')\n",
    "            Frf_l = np.delete(F_rf, l, axis=1)\n",
    "            Wrf_l = np.delete(W_rf, l, axis=1)\n",
    "            fl = F_rf[:,[l]]\n",
    "            wl = W_rf[:,[l]]\n",
    "            Ql = U_hat0@np.linalg.inv(alpha*np.eye(Ns) + sigma_hat0@V_hat0.conj().T@Frf_l@Wrf_l.conj().T@U_hat0)@sigma_hat0@V_hat0.conj().T\n",
    "\n",
    "            for k in range(5):\n",
    "                for i in range(model['Nt']):\n",
    "                    fl[i] = opt_frf(wl.conj().T,Ql,fl,i)\n",
    "                for j in range(model['Nr']):\n",
    "                    wl = opt_wrf(wl,Ql,fl,j).conj().T\n",
    "            F_rf[:,[l]] = fl \n",
    "            W_rf[:,[l]] = wl\n",
    "    \n",
    "    F_rf = F_rf/np.sqrt(Nt)\n",
    "    W_rf = W_rf/np.sqrt(Nr)\n",
    "\n",
    "    H_eff = W_rf.conj().T@model['H'][:,:,index]@F_rf\n",
    "    U, s, V = np.linalg.svd(H_eff, full_matrices=True)\n",
    "    V = V.conj().T\n",
    "    F_bb = V\n",
    "    W_bb = U\n",
    "    \n",
    "    F_bb = np.sqrt(Ns)*F_bb/np.linalg.norm(F_rf@F_bb,'fro')\n",
    "    W_bb = np.sqrt(Ns)*W_bb/np.linalg.norm(W_rf@W_bb,'fro')\n",
    "    output = {}\n",
    "    \n",
    "    output['F_rf'] = F_rf\n",
    "    output['W_rf'] = W_rf\n",
    "    output['F_bb'] = F_bb\n",
    "    output['W_bb'] = W_bb\n",
    "    \n",
    "    return output"
   ]
  },
  {
   "cell_type": "code",
   "execution_count": 23,
   "metadata": {},
   "outputs": [],
   "source": [
    "# index = 0\n",
    "# test = coordinate_descent(index)"
   ]
  },
  {
   "cell_type": "code",
   "execution_count": 24,
   "metadata": {},
   "outputs": [],
   "source": [
    "# SNR_dB = np.arange(-30,15,5)\n",
    "# SNR_dB"
   ]
  },
  {
   "cell_type": "code",
   "execution_count": 25,
   "metadata": {},
   "outputs": [],
   "source": [
    "# SNR_dB.shape[0]"
   ]
  },
  {
   "cell_type": "code",
   "execution_count": 26,
   "metadata": {},
   "outputs": [],
   "source": [
    "# sum = np.zeros(SNR_dB.shape)\n",
    "# sum"
   ]
  },
  {
   "cell_type": "code",
   "execution_count": 27,
   "metadata": {},
   "outputs": [
    {
     "name": "stdout",
     "output_type": "stream",
     "text": [
      "[ 0.17199009  0.5232222   1.48880305  3.70347709  7.62163187 12.9866658\n",
      " 19.14509433 25.62445131 32.21505465]\n",
      "[ 0.38802035  1.17765029  3.32980371  8.17118294 16.4796649  27.52574174\n",
      " 39.98335095 52.99269224 66.19062058]\n",
      "[ 0.5299351   1.61164686  4.58092673 11.36117797 23.26388246 39.44783525\n",
      " 57.95868154 77.40879664 97.1844899 ]\n",
      "[  0.67277979   2.04902688   5.8449215   14.59137649  30.12877375\n",
      "  51.4796915   76.05664388 101.95210094 128.30705859]\n",
      "[  0.83049962   2.53178029   7.23778554  18.12942559  37.54580506\n",
      "  64.25433852  94.990714   127.36651101 160.31246871]\n"
     ]
    }
   ],
   "source": [
    "SNR_dB = np.arange(-30,15,5)\n",
    "sum = np.zeros(SNR_dB.shape)\n",
    "for index in range(20,25):\n",
    "    test = coordinate_descent(index)\n",
    "    for i in range(SNR_dB.shape[0]):\n",
    "        rate = data_rate(model['Ns'],10**(SNR_dB[i]/10),test['W_rf']@test['W_bb'],model['H'][:,:,index],test['F_rf']@test['F_bb'])\n",
    "        sum[i] += rate\n",
    "    print(sum)"
   ]
  },
  {
   "cell_type": "code",
   "execution_count": 28,
   "metadata": {},
   "outputs": [],
   "source": [
    "# test['W_rf'].conj().T@model['H'][:,:,10]@test['F_rf']"
   ]
  },
  {
   "cell_type": "code",
   "execution_count": 29,
   "metadata": {},
   "outputs": [
    {
     "name": "stdout",
     "output_type": "stream",
     "text": [
      "Ns 4    Frobenius norm FRF*FBB= 4.0\n"
     ]
    }
   ],
   "source": [
    "# Normalize condition\n",
    "x = np.linalg.norm(test['F_rf']@test['F_bb'],'fro')\n",
    "print(\"Ns\", model['Ns'] , \"   Frobenius norm FRF*FBB=\", x**2)"
   ]
  },
  {
   "cell_type": "code",
   "execution_count": 30,
   "metadata": {},
   "outputs": [
    {
     "data": {
      "text/plain": [
       "array([ 0.16609992,  0.50635606,  1.44755711,  3.62588512,  7.50916101,\n",
       "       12.8508677 , 18.9981428 , 25.4733022 , 32.06249374])"
      ]
     },
     "execution_count": 30,
     "metadata": {},
     "output_type": "execute_result"
    }
   ],
   "source": [
    "sum/5"
   ]
  }
 ],
 "metadata": {
  "kernelspec": {
   "display_name": "Python 3",
   "language": "python",
   "name": "python3"
  },
  "language_info": {
   "codemirror_mode": {
    "name": "ipython",
    "version": 3
   },
   "file_extension": ".py",
   "mimetype": "text/x-python",
   "name": "python",
   "nbconvert_exporter": "python",
   "pygments_lexer": "ipython3",
   "version": "3.6.4"
  }
 },
 "nbformat": 4,
 "nbformat_minor": 2
}
