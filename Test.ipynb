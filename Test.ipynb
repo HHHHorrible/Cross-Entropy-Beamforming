{
 "cells": [
  {
   "cell_type": "markdown",
   "metadata": {},
   "source": [
    "- Load necessary module"
   ]
  },
  {
   "cell_type": "code",
   "execution_count": 1,
   "metadata": {},
   "outputs": [],
   "source": [
    "import scipy.io as io\n",
    "import numpy as np\n",
    "import matplotlib.pyplot as plt\n",
    "from scipy.stats import bernoulli\n",
    "from scipy.stats import multinomial\n",
    "from collections import OrderedDict"
   ]
  },
  {
   "cell_type": "markdown",
   "metadata": {},
   "source": [
    "- Load model that defined in channel realization"
   ]
  },
  {
   "cell_type": "code",
   "execution_count": 2,
   "metadata": {},
   "outputs": [],
   "source": [
    "mat = io.loadmat('temp.mat')\n",
    "model = {}\n",
    "model['H'] = mat['H']\n",
    "model['Wopt'] = mat['Wopt']\n",
    "model['Fopt'] = mat['Fopt']\n",
    "model['Ns'] = 1 ## need to change nb of stream in channel realization, this case 1\n",
    "model['Nt'] = mat['Nt'][0,0]\n",
    "model['Nr'] = mat['Nr'][0,0]\n",
    "model['Nc'] = mat['Nc'][0,0]\n",
    "model['Nray'] = mat['Nray'][0,0]\n",
    "model['realization'] = mat['realization'][0,0]\n",
    "model['At'] = mat['At']\n",
    "model['Ar'] = mat['Ar']\n",
    "model['Nrf'] = 2"
   ]
  },
  {
   "cell_type": "markdown",
   "metadata": {},
   "source": [
    "Load values of phase shifter included:\n",
    "- nb_bit: number of bit\n",
    "- nb_ps: number of phase shifter in the system\n",
    "- nb_state: number of state in each phase shifter (2^nb_bit)"
   ]
  },
  {
   "cell_type": "code",
   "execution_count": 3,
   "metadata": {},
   "outputs": [],
   "source": [
    "nb_bit = 2\n",
    "nb_ps = model['Nt']*model['Nrf']\n",
    "nb_ps\n",
    "nb_state = 2**nb_bit"
   ]
  },
  {
   "cell_type": "code",
   "execution_count": 4,
   "metadata": {},
   "outputs": [
    {
     "name": "stdout",
     "output_type": "stream",
     "text": [
      "realization\n",
      "Nray\n",
      "Ns\n",
      "At\n",
      "Nt\n",
      "Wopt\n",
      "Nrf\n",
      "Nr\n",
      "Fopt\n",
      "Nc\n",
      "Ar\n",
      "H\n"
     ]
    }
   ],
   "source": [
    "for key in model:\n",
    "    print(key)"
   ]
  },
  {
   "cell_type": "code",
   "execution_count": 5,
   "metadata": {},
   "outputs": [],
   "source": [
    "def phase_shifter(N):\n",
    "    \"\"\"\n",
    "    Define phase shifter with N bits resolution\n",
    "    \n",
    "    Arguments:\n",
    "    N -- number of bits resolutions\n",
    "    \n",
    "    Returns:\n",
    "    y -- python dictionnary of phase shifter: index of state and value of phase\n",
    "    \"\"\"\n",
    "    nb_state = 2**N\n",
    "    w = np.exp(1j*2*np.pi/nb_state)\n",
    "    ps = np.zeros(nb_state,dtype=complex)\n",
    "    for i in range(nb_state):\n",
    "        ps[i] = w**i\n",
    "    return np.around(ps, decimals=2)"
   ]
  },
  {
   "cell_type": "code",
   "execution_count": 6,
   "metadata": {},
   "outputs": [
    {
     "data": {
      "text/plain": [
       "array([ 1.+0.j,  0.+1.j, -1.+0.j, -0.-1.j])"
      ]
     },
     "execution_count": 6,
     "metadata": {},
     "output_type": "execute_result"
    }
   ],
   "source": [
    "phase_value = phase_shifter(nb_bit)\n",
    "phase_value"
   ]
  },
  {
   "cell_type": "markdown",
   "metadata": {},
   "source": [
    "### Initialize phase shifter \n",
    "dimension is: NtxNrfxN_state"
   ]
  },
  {
   "cell_type": "code",
   "execution_count": 7,
   "metadata": {},
   "outputs": [],
   "source": [
    "# Initialize phase shifter system\n",
    "ps_system_proba = np.ones((model['Nt'],model['Nrf'],nb_state))*(1/nb_state)\n",
    "# for i in range(nb_ps):\n",
    "#     ps_system[i] = -11/"
   ]
  },
  {
   "cell_type": "code",
   "execution_count": 8,
   "metadata": {
    "scrolled": true
   },
   "outputs": [
    {
     "name": "stdout",
     "output_type": "stream",
     "text": [
      "(64, 2, 4)\n"
     ]
    },
    {
     "data": {
      "text/plain": [
       "array([[[0.25, 0.25, 0.25, 0.25],\n",
       "        [0.25, 0.25, 0.25, 0.25]],\n",
       "\n",
       "       [[0.25, 0.25, 0.25, 0.25],\n",
       "        [0.25, 0.25, 0.25, 0.25]],\n",
       "\n",
       "       [[0.25, 0.25, 0.25, 0.25],\n",
       "        [0.25, 0.25, 0.25, 0.25]],\n",
       "\n",
       "       [[0.25, 0.25, 0.25, 0.25],\n",
       "        [0.25, 0.25, 0.25, 0.25]],\n",
       "\n",
       "       [[0.25, 0.25, 0.25, 0.25],\n",
       "        [0.25, 0.25, 0.25, 0.25]],\n",
       "\n",
       "       [[0.25, 0.25, 0.25, 0.25],\n",
       "        [0.25, 0.25, 0.25, 0.25]],\n",
       "\n",
       "       [[0.25, 0.25, 0.25, 0.25],\n",
       "        [0.25, 0.25, 0.25, 0.25]],\n",
       "\n",
       "       [[0.25, 0.25, 0.25, 0.25],\n",
       "        [0.25, 0.25, 0.25, 0.25]],\n",
       "\n",
       "       [[0.25, 0.25, 0.25, 0.25],\n",
       "        [0.25, 0.25, 0.25, 0.25]],\n",
       "\n",
       "       [[0.25, 0.25, 0.25, 0.25],\n",
       "        [0.25, 0.25, 0.25, 0.25]],\n",
       "\n",
       "       [[0.25, 0.25, 0.25, 0.25],\n",
       "        [0.25, 0.25, 0.25, 0.25]],\n",
       "\n",
       "       [[0.25, 0.25, 0.25, 0.25],\n",
       "        [0.25, 0.25, 0.25, 0.25]],\n",
       "\n",
       "       [[0.25, 0.25, 0.25, 0.25],\n",
       "        [0.25, 0.25, 0.25, 0.25]],\n",
       "\n",
       "       [[0.25, 0.25, 0.25, 0.25],\n",
       "        [0.25, 0.25, 0.25, 0.25]],\n",
       "\n",
       "       [[0.25, 0.25, 0.25, 0.25],\n",
       "        [0.25, 0.25, 0.25, 0.25]],\n",
       "\n",
       "       [[0.25, 0.25, 0.25, 0.25],\n",
       "        [0.25, 0.25, 0.25, 0.25]],\n",
       "\n",
       "       [[0.25, 0.25, 0.25, 0.25],\n",
       "        [0.25, 0.25, 0.25, 0.25]],\n",
       "\n",
       "       [[0.25, 0.25, 0.25, 0.25],\n",
       "        [0.25, 0.25, 0.25, 0.25]],\n",
       "\n",
       "       [[0.25, 0.25, 0.25, 0.25],\n",
       "        [0.25, 0.25, 0.25, 0.25]],\n",
       "\n",
       "       [[0.25, 0.25, 0.25, 0.25],\n",
       "        [0.25, 0.25, 0.25, 0.25]],\n",
       "\n",
       "       [[0.25, 0.25, 0.25, 0.25],\n",
       "        [0.25, 0.25, 0.25, 0.25]],\n",
       "\n",
       "       [[0.25, 0.25, 0.25, 0.25],\n",
       "        [0.25, 0.25, 0.25, 0.25]],\n",
       "\n",
       "       [[0.25, 0.25, 0.25, 0.25],\n",
       "        [0.25, 0.25, 0.25, 0.25]],\n",
       "\n",
       "       [[0.25, 0.25, 0.25, 0.25],\n",
       "        [0.25, 0.25, 0.25, 0.25]],\n",
       "\n",
       "       [[0.25, 0.25, 0.25, 0.25],\n",
       "        [0.25, 0.25, 0.25, 0.25]],\n",
       "\n",
       "       [[0.25, 0.25, 0.25, 0.25],\n",
       "        [0.25, 0.25, 0.25, 0.25]],\n",
       "\n",
       "       [[0.25, 0.25, 0.25, 0.25],\n",
       "        [0.25, 0.25, 0.25, 0.25]],\n",
       "\n",
       "       [[0.25, 0.25, 0.25, 0.25],\n",
       "        [0.25, 0.25, 0.25, 0.25]],\n",
       "\n",
       "       [[0.25, 0.25, 0.25, 0.25],\n",
       "        [0.25, 0.25, 0.25, 0.25]],\n",
       "\n",
       "       [[0.25, 0.25, 0.25, 0.25],\n",
       "        [0.25, 0.25, 0.25, 0.25]],\n",
       "\n",
       "       [[0.25, 0.25, 0.25, 0.25],\n",
       "        [0.25, 0.25, 0.25, 0.25]],\n",
       "\n",
       "       [[0.25, 0.25, 0.25, 0.25],\n",
       "        [0.25, 0.25, 0.25, 0.25]],\n",
       "\n",
       "       [[0.25, 0.25, 0.25, 0.25],\n",
       "        [0.25, 0.25, 0.25, 0.25]],\n",
       "\n",
       "       [[0.25, 0.25, 0.25, 0.25],\n",
       "        [0.25, 0.25, 0.25, 0.25]],\n",
       "\n",
       "       [[0.25, 0.25, 0.25, 0.25],\n",
       "        [0.25, 0.25, 0.25, 0.25]],\n",
       "\n",
       "       [[0.25, 0.25, 0.25, 0.25],\n",
       "        [0.25, 0.25, 0.25, 0.25]],\n",
       "\n",
       "       [[0.25, 0.25, 0.25, 0.25],\n",
       "        [0.25, 0.25, 0.25, 0.25]],\n",
       "\n",
       "       [[0.25, 0.25, 0.25, 0.25],\n",
       "        [0.25, 0.25, 0.25, 0.25]],\n",
       "\n",
       "       [[0.25, 0.25, 0.25, 0.25],\n",
       "        [0.25, 0.25, 0.25, 0.25]],\n",
       "\n",
       "       [[0.25, 0.25, 0.25, 0.25],\n",
       "        [0.25, 0.25, 0.25, 0.25]],\n",
       "\n",
       "       [[0.25, 0.25, 0.25, 0.25],\n",
       "        [0.25, 0.25, 0.25, 0.25]],\n",
       "\n",
       "       [[0.25, 0.25, 0.25, 0.25],\n",
       "        [0.25, 0.25, 0.25, 0.25]],\n",
       "\n",
       "       [[0.25, 0.25, 0.25, 0.25],\n",
       "        [0.25, 0.25, 0.25, 0.25]],\n",
       "\n",
       "       [[0.25, 0.25, 0.25, 0.25],\n",
       "        [0.25, 0.25, 0.25, 0.25]],\n",
       "\n",
       "       [[0.25, 0.25, 0.25, 0.25],\n",
       "        [0.25, 0.25, 0.25, 0.25]],\n",
       "\n",
       "       [[0.25, 0.25, 0.25, 0.25],\n",
       "        [0.25, 0.25, 0.25, 0.25]],\n",
       "\n",
       "       [[0.25, 0.25, 0.25, 0.25],\n",
       "        [0.25, 0.25, 0.25, 0.25]],\n",
       "\n",
       "       [[0.25, 0.25, 0.25, 0.25],\n",
       "        [0.25, 0.25, 0.25, 0.25]],\n",
       "\n",
       "       [[0.25, 0.25, 0.25, 0.25],\n",
       "        [0.25, 0.25, 0.25, 0.25]],\n",
       "\n",
       "       [[0.25, 0.25, 0.25, 0.25],\n",
       "        [0.25, 0.25, 0.25, 0.25]],\n",
       "\n",
       "       [[0.25, 0.25, 0.25, 0.25],\n",
       "        [0.25, 0.25, 0.25, 0.25]],\n",
       "\n",
       "       [[0.25, 0.25, 0.25, 0.25],\n",
       "        [0.25, 0.25, 0.25, 0.25]],\n",
       "\n",
       "       [[0.25, 0.25, 0.25, 0.25],\n",
       "        [0.25, 0.25, 0.25, 0.25]],\n",
       "\n",
       "       [[0.25, 0.25, 0.25, 0.25],\n",
       "        [0.25, 0.25, 0.25, 0.25]],\n",
       "\n",
       "       [[0.25, 0.25, 0.25, 0.25],\n",
       "        [0.25, 0.25, 0.25, 0.25]],\n",
       "\n",
       "       [[0.25, 0.25, 0.25, 0.25],\n",
       "        [0.25, 0.25, 0.25, 0.25]],\n",
       "\n",
       "       [[0.25, 0.25, 0.25, 0.25],\n",
       "        [0.25, 0.25, 0.25, 0.25]],\n",
       "\n",
       "       [[0.25, 0.25, 0.25, 0.25],\n",
       "        [0.25, 0.25, 0.25, 0.25]],\n",
       "\n",
       "       [[0.25, 0.25, 0.25, 0.25],\n",
       "        [0.25, 0.25, 0.25, 0.25]],\n",
       "\n",
       "       [[0.25, 0.25, 0.25, 0.25],\n",
       "        [0.25, 0.25, 0.25, 0.25]],\n",
       "\n",
       "       [[0.25, 0.25, 0.25, 0.25],\n",
       "        [0.25, 0.25, 0.25, 0.25]],\n",
       "\n",
       "       [[0.25, 0.25, 0.25, 0.25],\n",
       "        [0.25, 0.25, 0.25, 0.25]],\n",
       "\n",
       "       [[0.25, 0.25, 0.25, 0.25],\n",
       "        [0.25, 0.25, 0.25, 0.25]],\n",
       "\n",
       "       [[0.25, 0.25, 0.25, 0.25],\n",
       "        [0.25, 0.25, 0.25, 0.25]]])"
      ]
     },
     "execution_count": 8,
     "metadata": {},
     "output_type": "execute_result"
    }
   ],
   "source": [
    "print(ps_system_proba.shape)\n",
    "ps_system_proba"
   ]
  },
  {
   "cell_type": "code",
   "execution_count": 9,
   "metadata": {},
   "outputs": [
    {
     "name": "stdout",
     "output_type": "stream",
     "text": [
      "[3 3 1 4 3 3 4 3 4 2]\n"
     ]
    },
    {
     "data": {
      "text/plain": [
       "array([-0.-1.j])"
      ]
     },
     "execution_count": 9,
     "metadata": {},
     "output_type": "execute_result"
    }
   ],
   "source": [
    "elements = [1, 2, 3, 4]\n",
    "print(np.random.choice(elements, 10, p=ps_system_proba[0,0,:])) #phase_value\n",
    "np.random.choice(phase_value, 1, p=ps_system_proba[0,0,:])"
   ]
  },
  {
   "cell_type": "code",
   "execution_count": 10,
   "metadata": {},
   "outputs": [
    {
     "data": {
      "text/plain": [
       "array([0.25, 0.25, 0.25, 0.25])"
      ]
     },
     "execution_count": 10,
     "metadata": {},
     "output_type": "execute_result"
    }
   ],
   "source": [
    "ps_system_proba[0,0,:]"
   ]
  },
  {
   "cell_type": "markdown",
   "metadata": {},
   "source": [
    "### Step 1: Randomly generate S candidate analog beamformers"
   ]
  },
  {
   "cell_type": "code",
   "execution_count": null,
   "metadata": {},
   "outputs": [],
   "source": [
    "##########################\n",
    "# S = 200\n",
    "# F_rf = np.zeros((S,model['Nt'],model['Nrf']),dtype=complex)\n",
    "# for i in range(S):\n",
    "#     for j in range(model['Nt']):\n",
    "#         for k in range(model['Nrf']):\n",
    "#             F_rf[i,j,k] = np.random.choice(phase_value, 1, p=ps_system_proba[j,k,:])"
   ]
  },
  {
   "cell_type": "code",
   "execution_count": 12,
   "metadata": {},
   "outputs": [],
   "source": [
    "def generate_candidat(S,model,phase_value):\n",
    "    F_rf = np.zeros((S,model['Nt'],model['Nrf']),dtype=complex)\n",
    "    for i in range(S):\n",
    "        for j in range(model['Nt']):\n",
    "            for k in range(model['Nrf']):\n",
    "                F_rf[i,j,k] = np.random.choice(phase_value, 1, p=ps_system_proba[j,k,:])\n",
    "    return F_rf"
   ]
  },
  {
   "cell_type": "code",
   "execution_count": null,
   "metadata": {},
   "outputs": [],
   "source": [
    "F_rf = generate_candidat(S,model,phase_value)\n",
    "F_rf.shape[0]"
   ]
  },
  {
   "cell_type": "markdown",
   "metadata": {},
   "source": [
    "### Step 2: Compute S corresponding digital precoders Fbb based on the effective channel Heq = HFrf"
   ]
  },
  {
   "cell_type": "code",
   "execution_count": 13,
   "metadata": {},
   "outputs": [],
   "source": [
    "### Test with only first channel from 1000 realizations\n",
    "def compute_Fbb(F_rf,model):\n",
    "    S = F_rf.shape[0]\n",
    "    channel_eq = np.zeros((S,model['Nr'],model['Nrf']),dtype=complex)\n",
    "    F_bb = np.zeros((S,model['Nrf'],model['Ns']),dtype=complex)\n",
    "    channel_index = 0 ### need to adjust \n",
    "    for i in range(S):\n",
    "        channel_eq[i,:,:] =  model['H'][:,:,channel_index]@F_rf[i,:,:]\n",
    "        U, s, V = np.linalg.svd(channel_eq[i,:,:], full_matrices=True)\n",
    "        V = V.conj().T\n",
    "        F_bb[i,:,:] = V[0:model['Nt'],0:model['Ns']]\n",
    "    return F_bb"
   ]
  },
  {
   "cell_type": "code",
   "execution_count": null,
   "metadata": {},
   "outputs": [],
   "source": [
    "F_bb = compute_Fbb(F_rf,model)"
   ]
  },
  {
   "cell_type": "code",
   "execution_count": null,
   "metadata": {},
   "outputs": [],
   "source": [
    "# channel_eq = np.zeros((S,model['Nr'],model['Nrf']),dtype=complex)\n",
    "# F_bb = np.zeros((S,model['Nrf'],model['Ns']),dtype=complex)\n",
    "# channel_index = 0\n",
    "# for i in range(S):\n",
    "#     channel_eq[i,:,:] =  model['H'][:,:,channel_index]@F_rf[i,:,:]\n",
    "#     U, s, V = np.linalg.svd(channel_eq[i,:,:], full_matrices=True)\n",
    "#     V = V.conj().T\n",
    "#     F_bb[i,:,:] = V[0:model['Nt'],0:model['Ns']]"
   ]
  },
  {
   "cell_type": "markdown",
   "metadata": {},
   "source": [
    "### Step 3: Calculate the achievable sum-rate"
   ]
  },
  {
   "cell_type": "code",
   "execution_count": 19,
   "metadata": {},
   "outputs": [],
   "source": [
    "def optimal_combiner(model, channel_index = 0):\n",
    "    Wopt = np.zeros((model['Nr'],model['Ns']),dtype=complex)\n",
    "    U, s, V = np.linalg.svd(model['H'][:,:,channel_index], full_matrices=True)\n",
    "    V = V.conj().T\n",
    "    # Fopt[:,:,reali] = V[0:Nt,0:Ns]\n",
    "    Wopt = U[0:model['Nr'],0:model['Ns']]\n",
    "    return Wopt"
   ]
  },
  {
   "cell_type": "code",
   "execution_count": null,
   "metadata": {},
   "outputs": [],
   "source": []
  },
  {
   "cell_type": "code",
   "execution_count": null,
   "metadata": {},
   "outputs": [],
   "source": [
    "## Assume an optimize combining at Receiver\n",
    "\n",
    "# Wopt = np.zeros((model['Nr'],model['Ns']),dtype=complex)\n",
    "# U, s, V = np.linalg.svd(model['H'][:,:,channel_index], full_matrices=True)\n",
    "# V = V.conj().T\n",
    "# # Fopt[:,:,reali] = V[0:Nt,0:Ns]\n",
    "# Wopt = U[0:model['Nr'],0:model['Ns']]\n",
    "    "
   ]
  },
  {
   "cell_type": "code",
   "execution_count": null,
   "metadata": {},
   "outputs": [],
   "source": [
    "# SNR_dB = np.arange(-35,10,5)\n",
    "# SNR = 10**(SNR_dB/10)\n",
    "# smax = SNR.shape[0]\n",
    "SNR = 10**(10/10)\n",
    "R = np.zeros((S))\n",
    "\n",
    "for i in range(S):\n",
    "    R[i] = np.log2(np.linalg.det(np.eye(model['Ns']))+SNR/model['Ns']*np.linalg.pinv(Wopt)@model['H'][:,:,channel_index]@F_rf[i,:,:]@F_bb[i,:,:]@F_bb[i,:,:].conj().T@F_rf[i,:,:].conj().T@model['H'][:,:,channel_index].conj().T@Wopt).real\n"
   ]
  },
  {
   "cell_type": "code",
   "execution_count": null,
   "metadata": {
    "scrolled": true
   },
   "outputs": [],
   "source": [
    "R"
   ]
  },
  {
   "cell_type": "markdown",
   "metadata": {},
   "source": [
    "### Step 4: Sort R in a descend order"
   ]
  },
  {
   "cell_type": "code",
   "execution_count": null,
   "metadata": {},
   "outputs": [],
   "source": [
    "nb_elite = 40"
   ]
  },
  {
   "cell_type": "code",
   "execution_count": null,
   "metadata": {
    "scrolled": true
   },
   "outputs": [],
   "source": [
    "R[49]"
   ]
  },
  {
   "cell_type": "code",
   "execution_count": null,
   "metadata": {},
   "outputs": [],
   "source": [
    "R_sort_index = np.argsort(R)[::-1][:nb_elite]"
   ]
  },
  {
   "cell_type": "code",
   "execution_count": null,
   "metadata": {},
   "outputs": [],
   "source": [
    "R_sort_index"
   ]
  },
  {
   "cell_type": "code",
   "execution_count": null,
   "metadata": {},
   "outputs": [],
   "source": [
    "R_max_index = R_sort_index[0]\n",
    "R_max_index"
   ]
  },
  {
   "cell_type": "code",
   "execution_count": null,
   "metadata": {},
   "outputs": [],
   "source": [
    "print(R[R_sort_index])"
   ]
  },
  {
   "cell_type": "code",
   "execution_count": null,
   "metadata": {
    "scrolled": true
   },
   "outputs": [],
   "source": [
    "F_elites = F_rf[R_sort_index,:,:]"
   ]
  },
  {
   "cell_type": "markdown",
   "metadata": {},
   "source": [
    "### Step 5: Select elites as Frf_1, Frf_2, ..., Frf_elite"
   ]
  },
  {
   "cell_type": "code",
   "execution_count": null,
   "metadata": {},
   "outputs": [],
   "source": [
    "F_elites = F_rf[R_sort_index,:,:]"
   ]
  },
  {
   "cell_type": "markdown",
   "metadata": {},
   "source": [
    "### Step 6: Update new pmf for each phase shifter"
   ]
  },
  {
   "cell_type": "code",
   "execution_count": null,
   "metadata": {
    "scrolled": true
   },
   "outputs": [],
   "source": [
    "F_elites.shape"
   ]
  },
  {
   "cell_type": "code",
   "execution_count": null,
   "metadata": {},
   "outputs": [],
   "source": [
    "phase_value"
   ]
  },
  {
   "cell_type": "code",
   "execution_count": null,
   "metadata": {},
   "outputs": [],
   "source": [
    "unique, counts = np.unique(F_elites[:,0,0], return_counts=True)\n",
    "test = dict(zip(unique, counts))\n",
    "print(test)\n",
    "print(test[phase_value[3]])\n",
    " "
   ]
  },
  {
   "cell_type": "code",
   "execution_count": null,
   "metadata": {},
   "outputs": [],
   "source": [
    "counts"
   ]
  },
  {
   "cell_type": "code",
   "execution_count": null,
   "metadata": {},
   "outputs": [],
   "source": [
    "phase_value.shape[0]"
   ]
  },
  {
   "cell_type": "code",
   "execution_count": null,
   "metadata": {},
   "outputs": [],
   "source": [
    "# stat_count = np.zeros(nb_state)\n",
    "# for i in range(model['Nt']):\n",
    "#     for j in range(model['Nrf']):\n",
    "#         unique, counts = np.unique(F_elites[:,i,j], return_counts=True)\n",
    "#         value_count = dict(zip(unique, counts))\n",
    "#         for k in range(nb_state):\n",
    "#             ps_system_proba[i,j,k] = value_count[phase_value[k]]/nb_elite\n",
    "        \n",
    "        "
   ]
  },
  {
   "cell_type": "code",
   "execution_count": 15,
   "metadata": {},
   "outputs": [],
   "source": [
    "def update_pmf(F_elites,phase_value,nb_elite):\n",
    "    nb_state = phase_value.shape[0]\n",
    "    stat_count = np.zeros(nb_state)\n",
    "    for i in range(model['Nt']):\n",
    "        for j in range(model['Nrf']):\n",
    "            unique, counts = np.unique(F_elites[:,i,j], return_counts=True)\n",
    "            value_count = dict(zip(unique, counts))\n",
    "            for k in range(nb_state):\n",
    "                ps_system_proba[i,j,k] = value_count[phase_value[k]]/nb_elite\n",
    "    return ps_system_proba"
   ]
  },
  {
   "cell_type": "code",
   "execution_count": 22,
   "metadata": {},
   "outputs": [],
   "source": [
    "Wopt = optimal_combiner(model)\n",
    "nb_elite = 40\n",
    "S = 200\n",
    "channel_index = 0\n",
    "F_rf = generate_candidat(S,model,phase_value)\n",
    "F_bb = compute_Fbb(F_rf,model)\n",
    "\n",
    "SNR = 10**(10/10)\n",
    "R = np.zeros((S))\n",
    "\n",
    "for i in range(S):\n",
    "    R[i] = np.log2(np.linalg.det(np.eye(model['Ns']))+SNR/model['Ns']*np.linalg.pinv(Wopt)@model['H'][:,:,channel_index]@F_rf[i,:,:]@F_bb[i,:,:]@F_bb[i,:,:].conj().T@F_rf[i,:,:].conj().T@model['H'][:,:,channel_index].conj().T@Wopt).real\n",
    "\n",
    "R_sort_index = np.argsort(R)[::-1][:nb_elite]\n",
    "R_max_index = R_sort_index[0]\n",
    "\n",
    "F_elites = F_rf[R_sort_index,:,:]\n",
    "ps_system_proba = update_pmf(F_elites,phase_value,nb_elite)\n"
   ]
  },
  {
   "cell_type": "code",
   "execution_count": 23,
   "metadata": {},
   "outputs": [
    {
     "data": {
      "text/plain": [
       "array([[[0.275, 0.375, 0.2  , 0.15 ],\n",
       "        [0.35 , 0.125, 0.25 , 0.275]],\n",
       "\n",
       "       [[0.275, 0.275, 0.175, 0.275],\n",
       "        [0.375, 0.125, 0.225, 0.275]],\n",
       "\n",
       "       [[0.325, 0.35 , 0.05 , 0.275],\n",
       "        [0.2  , 0.3  , 0.175, 0.325]],\n",
       "\n",
       "       [[0.175, 0.25 , 0.25 , 0.325],\n",
       "        [0.35 , 0.3  , 0.225, 0.125]],\n",
       "\n",
       "       [[0.1  , 0.35 , 0.3  , 0.25 ],\n",
       "        [0.225, 0.375, 0.225, 0.175]],\n",
       "\n",
       "       [[0.25 , 0.25 , 0.225, 0.275],\n",
       "        [0.175, 0.275, 0.25 , 0.3  ]],\n",
       "\n",
       "       [[0.25 , 0.275, 0.275, 0.2  ],\n",
       "        [0.2  , 0.25 , 0.375, 0.175]],\n",
       "\n",
       "       [[0.175, 0.15 , 0.275, 0.4  ],\n",
       "        [0.2  , 0.25 , 0.275, 0.275]],\n",
       "\n",
       "       [[0.3  , 0.35 , 0.2  , 0.15 ],\n",
       "        [0.2  , 0.175, 0.35 , 0.275]],\n",
       "\n",
       "       [[0.2  , 0.25 , 0.25 , 0.3  ],\n",
       "        [0.2  , 0.2  , 0.3  , 0.3  ]],\n",
       "\n",
       "       [[0.325, 0.2  , 0.225, 0.25 ],\n",
       "        [0.3  , 0.275, 0.35 , 0.075]],\n",
       "\n",
       "       [[0.225, 0.275, 0.15 , 0.35 ],\n",
       "        [0.325, 0.125, 0.275, 0.275]],\n",
       "\n",
       "       [[0.425, 0.175, 0.175, 0.225],\n",
       "        [0.175, 0.15 , 0.275, 0.4  ]],\n",
       "\n",
       "       [[0.275, 0.3  , 0.275, 0.15 ],\n",
       "        [0.25 , 0.35 , 0.1  , 0.3  ]],\n",
       "\n",
       "       [[0.25 , 0.275, 0.2  , 0.275],\n",
       "        [0.2  , 0.35 , 0.3  , 0.15 ]],\n",
       "\n",
       "       [[0.175, 0.225, 0.275, 0.325],\n",
       "        [0.2  , 0.175, 0.275, 0.35 ]],\n",
       "\n",
       "       [[0.175, 0.25 , 0.275, 0.3  ],\n",
       "        [0.225, 0.2  , 0.25 , 0.325]],\n",
       "\n",
       "       [[0.3  , 0.3  , 0.25 , 0.15 ],\n",
       "        [0.2  , 0.15 , 0.275, 0.375]],\n",
       "\n",
       "       [[0.15 , 0.25 , 0.25 , 0.35 ],\n",
       "        [0.225, 0.325, 0.25 , 0.2  ]],\n",
       "\n",
       "       [[0.25 , 0.4  , 0.2  , 0.15 ],\n",
       "        [0.25 , 0.175, 0.325, 0.25 ]],\n",
       "\n",
       "       [[0.3  , 0.275, 0.175, 0.25 ],\n",
       "        [0.25 , 0.25 , 0.3  , 0.2  ]],\n",
       "\n",
       "       [[0.25 , 0.275, 0.25 , 0.225],\n",
       "        [0.325, 0.225, 0.25 , 0.2  ]],\n",
       "\n",
       "       [[0.25 , 0.175, 0.2  , 0.375],\n",
       "        [0.35 , 0.25 , 0.175, 0.225]],\n",
       "\n",
       "       [[0.2  , 0.25 , 0.35 , 0.2  ],\n",
       "        [0.275, 0.3  , 0.2  , 0.225]],\n",
       "\n",
       "       [[0.275, 0.225, 0.225, 0.275],\n",
       "        [0.25 , 0.3  , 0.3  , 0.15 ]],\n",
       "\n",
       "       [[0.225, 0.25 , 0.25 , 0.275],\n",
       "        [0.15 , 0.275, 0.3  , 0.275]],\n",
       "\n",
       "       [[0.275, 0.15 , 0.35 , 0.225],\n",
       "        [0.125, 0.275, 0.225, 0.375]],\n",
       "\n",
       "       [[0.35 , 0.25 , 0.125, 0.275],\n",
       "        [0.175, 0.35 , 0.35 , 0.125]],\n",
       "\n",
       "       [[0.2  , 0.375, 0.225, 0.2  ],\n",
       "        [0.3  , 0.25 , 0.175, 0.275]],\n",
       "\n",
       "       [[0.325, 0.325, 0.1  , 0.25 ],\n",
       "        [0.1  , 0.425, 0.3  , 0.175]],\n",
       "\n",
       "       [[0.275, 0.275, 0.225, 0.225],\n",
       "        [0.25 , 0.175, 0.25 , 0.325]],\n",
       "\n",
       "       [[0.3  , 0.3  , 0.175, 0.225],\n",
       "        [0.275, 0.2  , 0.275, 0.25 ]],\n",
       "\n",
       "       [[0.2  , 0.15 , 0.275, 0.375],\n",
       "        [0.3  , 0.15 , 0.275, 0.275]],\n",
       "\n",
       "       [[0.3  , 0.4  , 0.175, 0.125],\n",
       "        [0.275, 0.125, 0.325, 0.275]],\n",
       "\n",
       "       [[0.225, 0.275, 0.25 , 0.25 ],\n",
       "        [0.325, 0.175, 0.3  , 0.2  ]],\n",
       "\n",
       "       [[0.25 , 0.325, 0.175, 0.25 ],\n",
       "        [0.2  , 0.35 , 0.175, 0.275]],\n",
       "\n",
       "       [[0.3  , 0.1  , 0.225, 0.375],\n",
       "        [0.15 , 0.325, 0.2  , 0.325]],\n",
       "\n",
       "       [[0.2  , 0.45 , 0.1  , 0.25 ],\n",
       "        [0.225, 0.325, 0.225, 0.225]],\n",
       "\n",
       "       [[0.2  , 0.225, 0.2  , 0.375],\n",
       "        [0.15 , 0.35 , 0.225, 0.275]],\n",
       "\n",
       "       [[0.275, 0.3  , 0.225, 0.2  ],\n",
       "        [0.225, 0.2  , 0.35 , 0.225]],\n",
       "\n",
       "       [[0.225, 0.2  , 0.3  , 0.275],\n",
       "        [0.25 , 0.2  , 0.35 , 0.2  ]],\n",
       "\n",
       "       [[0.175, 0.275, 0.325, 0.225],\n",
       "        [0.25 , 0.35 , 0.2  , 0.2  ]],\n",
       "\n",
       "       [[0.225, 0.25 , 0.225, 0.3  ],\n",
       "        [0.325, 0.25 , 0.175, 0.25 ]],\n",
       "\n",
       "       [[0.3  , 0.125, 0.35 , 0.225],\n",
       "        [0.225, 0.4  , 0.275, 0.1  ]],\n",
       "\n",
       "       [[0.275, 0.225, 0.25 , 0.25 ],\n",
       "        [0.175, 0.325, 0.3  , 0.2  ]],\n",
       "\n",
       "       [[0.2  , 0.3  , 0.175, 0.325],\n",
       "        [0.225, 0.275, 0.25 , 0.25 ]],\n",
       "\n",
       "       [[0.325, 0.25 , 0.225, 0.2  ],\n",
       "        [0.225, 0.3  , 0.225, 0.25 ]],\n",
       "\n",
       "       [[0.3  , 0.25 , 0.225, 0.225],\n",
       "        [0.2  , 0.225, 0.275, 0.3  ]],\n",
       "\n",
       "       [[0.35 , 0.2  , 0.2  , 0.25 ],\n",
       "        [0.225, 0.2  , 0.35 , 0.225]],\n",
       "\n",
       "       [[0.2  , 0.225, 0.3  , 0.275],\n",
       "        [0.35 , 0.25 , 0.275, 0.125]],\n",
       "\n",
       "       [[0.275, 0.25 , 0.15 , 0.325],\n",
       "        [0.225, 0.275, 0.25 , 0.25 ]],\n",
       "\n",
       "       [[0.225, 0.25 , 0.325, 0.2  ],\n",
       "        [0.175, 0.3  , 0.2  , 0.325]],\n",
       "\n",
       "       [[0.175, 0.2  , 0.325, 0.3  ],\n",
       "        [0.2  , 0.25 , 0.175, 0.375]],\n",
       "\n",
       "       [[0.2  , 0.45 , 0.15 , 0.2  ],\n",
       "        [0.25 , 0.3  , 0.275, 0.175]],\n",
       "\n",
       "       [[0.25 , 0.25 , 0.325, 0.175],\n",
       "        [0.2  , 0.25 , 0.2  , 0.35 ]],\n",
       "\n",
       "       [[0.15 , 0.35 , 0.3  , 0.2  ],\n",
       "        [0.225, 0.4  , 0.175, 0.2  ]],\n",
       "\n",
       "       [[0.325, 0.325, 0.175, 0.175],\n",
       "        [0.15 , 0.25 , 0.325, 0.275]],\n",
       "\n",
       "       [[0.325, 0.1  , 0.25 , 0.325],\n",
       "        [0.275, 0.225, 0.275, 0.225]],\n",
       "\n",
       "       [[0.25 , 0.175, 0.325, 0.25 ],\n",
       "        [0.4  , 0.25 , 0.15 , 0.2  ]],\n",
       "\n",
       "       [[0.175, 0.25 , 0.35 , 0.225],\n",
       "        [0.275, 0.25 , 0.225, 0.25 ]],\n",
       "\n",
       "       [[0.4  , 0.125, 0.275, 0.2  ],\n",
       "        [0.25 , 0.3  , 0.15 , 0.3  ]],\n",
       "\n",
       "       [[0.175, 0.275, 0.25 , 0.3  ],\n",
       "        [0.2  , 0.25 , 0.4  , 0.15 ]],\n",
       "\n",
       "       [[0.4  , 0.2  , 0.125, 0.275],\n",
       "        [0.175, 0.25 , 0.4  , 0.175]],\n",
       "\n",
       "       [[0.2  , 0.35 , 0.3  , 0.15 ],\n",
       "        [0.125, 0.3  , 0.175, 0.4  ]]])"
      ]
     },
     "execution_count": 23,
     "metadata": {},
     "output_type": "execute_result"
    }
   ],
   "source": [
    "ps_system_proba"
   ]
  }
 ],
 "metadata": {
  "kernelspec": {
   "display_name": "Python 3",
   "language": "python",
   "name": "python3"
  },
  "language_info": {
   "codemirror_mode": {
    "name": "ipython",
    "version": 3
   },
   "file_extension": ".py",
   "mimetype": "text/x-python",
   "name": "python",
   "nbconvert_exporter": "python",
   "pygments_lexer": "ipython3",
   "version": "3.5.2"
  }
 },
 "nbformat": 4,
 "nbformat_minor": 2
}
