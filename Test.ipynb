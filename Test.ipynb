{
 "cells": [
  {
   "cell_type": "markdown",
   "metadata": {},
   "source": [
    "- Load necessary module"
   ]
  },
  {
   "cell_type": "code",
   "execution_count": 167,
   "metadata": {},
   "outputs": [],
   "source": [
    "import scipy.io as io\n",
    "import numpy as np\n",
    "import matplotlib.pyplot as plt\n",
    "from scipy.stats import bernoulli\n",
    "from scipy.stats import multinomial\n",
    "from collections import OrderedDict"
   ]
  },
  {
   "cell_type": "markdown",
   "metadata": {},
   "source": [
    "- Load model that defined in channel realization"
   ]
  },
  {
   "cell_type": "code",
   "execution_count": 67,
   "metadata": {},
   "outputs": [],
   "source": [
    "mat = io.loadmat('temp.mat')\n",
    "model = {}\n",
    "model['H'] = mat['H']\n",
    "model['Wopt'] = mat['Wopt']\n",
    "model['Fopt'] = mat['Fopt']\n",
    "model['Ns'] = 1 ## need to change nb of stream in channel realization, this case 1\n",
    "model['Nt'] = mat['Nt'][0,0]\n",
    "model['Nr'] = mat['Nr'][0,0]\n",
    "model['Nc'] = mat['Nc'][0,0]\n",
    "model['Nray'] = mat['Nray'][0,0]\n",
    "model['realization'] = mat['realization'][0,0]\n",
    "model['At'] = mat['At']\n",
    "model['Ar'] = mat['Ar']\n",
    "model['Nrf'] = 2"
   ]
  },
  {
   "cell_type": "markdown",
   "metadata": {},
   "source": [
    "Load values of phase shifter included:\n",
    "- nb_bit: number of bit\n",
    "- nb_ps: number of phase shifter in the system\n",
    "- nb_state: number of state in each phase shifter (2^nb_bit)"
   ]
  },
  {
   "cell_type": "code",
   "execution_count": 3,
   "metadata": {},
   "outputs": [],
   "source": [
    "nb_bit = 2\n",
    "nb_ps = model['Nt']*model['Nrf']\n",
    "nb_ps\n",
    "nb_state = 2**nb_bit"
   ]
  },
  {
   "cell_type": "code",
   "execution_count": 4,
   "metadata": {},
   "outputs": [
    {
     "name": "stdout",
     "output_type": "stream",
     "text": [
      "At\n",
      "Fopt\n",
      "H\n",
      "Ns\n",
      "Ar\n",
      "Nr\n",
      "Wopt\n",
      "Nray\n",
      "Nrf\n",
      "Nc\n",
      "Nt\n",
      "realization\n"
     ]
    }
   ],
   "source": [
    "for key in model:\n",
    "    print(key)"
   ]
  },
  {
   "cell_type": "code",
   "execution_count": 40,
   "metadata": {},
   "outputs": [],
   "source": [
    "def phase_shifter(N):\n",
    "    \"\"\"\n",
    "    Define phase shifter with N bits resolution\n",
    "    \n",
    "    Arguments:\n",
    "    N -- number of bits resolutions\n",
    "    \n",
    "    Returns:\n",
    "    y -- python dictionnary of phase shifter: index of state and value of phase\n",
    "    \"\"\"\n",
    "    nb_state = 2**N\n",
    "    w = np.exp(1j*2*np.pi/nb_state)\n",
    "    ps = np.zeros(nb_state,dtype=complex)\n",
    "    for i in range(nb_state):\n",
    "        ps[i] = w**i\n",
    "    return np.around(ps, decimals=2)"
   ]
  },
  {
   "cell_type": "code",
   "execution_count": 41,
   "metadata": {},
   "outputs": [
    {
     "data": {
      "text/plain": [
       "array([ 1.+0.j,  0.+1.j, -1.+0.j, -0.-1.j])"
      ]
     },
     "execution_count": 41,
     "metadata": {},
     "output_type": "execute_result"
    }
   ],
   "source": [
    "phase_value = phase_shifter(nb_bit)\n",
    "phase_value"
   ]
  },
  {
   "cell_type": "markdown",
   "metadata": {},
   "source": [
    "### Initialize phase shifter \n",
    "dimension is: NtxNrfxN_state"
   ]
  },
  {
   "cell_type": "code",
   "execution_count": 42,
   "metadata": {},
   "outputs": [],
   "source": [
    "# Initialize phase shifter system\n",
    "ps_system_proba = np.ones((model['Nt'],model['Nrf'],nb_state))*(1/nb_state)\n",
    "# for i in range(nb_ps):\n",
    "#     ps_system[i] = -11/"
   ]
  },
  {
   "cell_type": "code",
   "execution_count": 43,
   "metadata": {
    "scrolled": true
   },
   "outputs": [
    {
     "name": "stdout",
     "output_type": "stream",
     "text": [
      "(64, 2, 4)\n"
     ]
    },
    {
     "data": {
      "text/plain": [
       "array([[[0.25, 0.25, 0.25, 0.25],\n",
       "        [0.25, 0.25, 0.25, 0.25]],\n",
       "\n",
       "       [[0.25, 0.25, 0.25, 0.25],\n",
       "        [0.25, 0.25, 0.25, 0.25]],\n",
       "\n",
       "       [[0.25, 0.25, 0.25, 0.25],\n",
       "        [0.25, 0.25, 0.25, 0.25]],\n",
       "\n",
       "       [[0.25, 0.25, 0.25, 0.25],\n",
       "        [0.25, 0.25, 0.25, 0.25]],\n",
       "\n",
       "       [[0.25, 0.25, 0.25, 0.25],\n",
       "        [0.25, 0.25, 0.25, 0.25]],\n",
       "\n",
       "       [[0.25, 0.25, 0.25, 0.25],\n",
       "        [0.25, 0.25, 0.25, 0.25]],\n",
       "\n",
       "       [[0.25, 0.25, 0.25, 0.25],\n",
       "        [0.25, 0.25, 0.25, 0.25]],\n",
       "\n",
       "       [[0.25, 0.25, 0.25, 0.25],\n",
       "        [0.25, 0.25, 0.25, 0.25]],\n",
       "\n",
       "       [[0.25, 0.25, 0.25, 0.25],\n",
       "        [0.25, 0.25, 0.25, 0.25]],\n",
       "\n",
       "       [[0.25, 0.25, 0.25, 0.25],\n",
       "        [0.25, 0.25, 0.25, 0.25]],\n",
       "\n",
       "       [[0.25, 0.25, 0.25, 0.25],\n",
       "        [0.25, 0.25, 0.25, 0.25]],\n",
       "\n",
       "       [[0.25, 0.25, 0.25, 0.25],\n",
       "        [0.25, 0.25, 0.25, 0.25]],\n",
       "\n",
       "       [[0.25, 0.25, 0.25, 0.25],\n",
       "        [0.25, 0.25, 0.25, 0.25]],\n",
       "\n",
       "       [[0.25, 0.25, 0.25, 0.25],\n",
       "        [0.25, 0.25, 0.25, 0.25]],\n",
       "\n",
       "       [[0.25, 0.25, 0.25, 0.25],\n",
       "        [0.25, 0.25, 0.25, 0.25]],\n",
       "\n",
       "       [[0.25, 0.25, 0.25, 0.25],\n",
       "        [0.25, 0.25, 0.25, 0.25]],\n",
       "\n",
       "       [[0.25, 0.25, 0.25, 0.25],\n",
       "        [0.25, 0.25, 0.25, 0.25]],\n",
       "\n",
       "       [[0.25, 0.25, 0.25, 0.25],\n",
       "        [0.25, 0.25, 0.25, 0.25]],\n",
       "\n",
       "       [[0.25, 0.25, 0.25, 0.25],\n",
       "        [0.25, 0.25, 0.25, 0.25]],\n",
       "\n",
       "       [[0.25, 0.25, 0.25, 0.25],\n",
       "        [0.25, 0.25, 0.25, 0.25]],\n",
       "\n",
       "       [[0.25, 0.25, 0.25, 0.25],\n",
       "        [0.25, 0.25, 0.25, 0.25]],\n",
       "\n",
       "       [[0.25, 0.25, 0.25, 0.25],\n",
       "        [0.25, 0.25, 0.25, 0.25]],\n",
       "\n",
       "       [[0.25, 0.25, 0.25, 0.25],\n",
       "        [0.25, 0.25, 0.25, 0.25]],\n",
       "\n",
       "       [[0.25, 0.25, 0.25, 0.25],\n",
       "        [0.25, 0.25, 0.25, 0.25]],\n",
       "\n",
       "       [[0.25, 0.25, 0.25, 0.25],\n",
       "        [0.25, 0.25, 0.25, 0.25]],\n",
       "\n",
       "       [[0.25, 0.25, 0.25, 0.25],\n",
       "        [0.25, 0.25, 0.25, 0.25]],\n",
       "\n",
       "       [[0.25, 0.25, 0.25, 0.25],\n",
       "        [0.25, 0.25, 0.25, 0.25]],\n",
       "\n",
       "       [[0.25, 0.25, 0.25, 0.25],\n",
       "        [0.25, 0.25, 0.25, 0.25]],\n",
       "\n",
       "       [[0.25, 0.25, 0.25, 0.25],\n",
       "        [0.25, 0.25, 0.25, 0.25]],\n",
       "\n",
       "       [[0.25, 0.25, 0.25, 0.25],\n",
       "        [0.25, 0.25, 0.25, 0.25]],\n",
       "\n",
       "       [[0.25, 0.25, 0.25, 0.25],\n",
       "        [0.25, 0.25, 0.25, 0.25]],\n",
       "\n",
       "       [[0.25, 0.25, 0.25, 0.25],\n",
       "        [0.25, 0.25, 0.25, 0.25]],\n",
       "\n",
       "       [[0.25, 0.25, 0.25, 0.25],\n",
       "        [0.25, 0.25, 0.25, 0.25]],\n",
       "\n",
       "       [[0.25, 0.25, 0.25, 0.25],\n",
       "        [0.25, 0.25, 0.25, 0.25]],\n",
       "\n",
       "       [[0.25, 0.25, 0.25, 0.25],\n",
       "        [0.25, 0.25, 0.25, 0.25]],\n",
       "\n",
       "       [[0.25, 0.25, 0.25, 0.25],\n",
       "        [0.25, 0.25, 0.25, 0.25]],\n",
       "\n",
       "       [[0.25, 0.25, 0.25, 0.25],\n",
       "        [0.25, 0.25, 0.25, 0.25]],\n",
       "\n",
       "       [[0.25, 0.25, 0.25, 0.25],\n",
       "        [0.25, 0.25, 0.25, 0.25]],\n",
       "\n",
       "       [[0.25, 0.25, 0.25, 0.25],\n",
       "        [0.25, 0.25, 0.25, 0.25]],\n",
       "\n",
       "       [[0.25, 0.25, 0.25, 0.25],\n",
       "        [0.25, 0.25, 0.25, 0.25]],\n",
       "\n",
       "       [[0.25, 0.25, 0.25, 0.25],\n",
       "        [0.25, 0.25, 0.25, 0.25]],\n",
       "\n",
       "       [[0.25, 0.25, 0.25, 0.25],\n",
       "        [0.25, 0.25, 0.25, 0.25]],\n",
       "\n",
       "       [[0.25, 0.25, 0.25, 0.25],\n",
       "        [0.25, 0.25, 0.25, 0.25]],\n",
       "\n",
       "       [[0.25, 0.25, 0.25, 0.25],\n",
       "        [0.25, 0.25, 0.25, 0.25]],\n",
       "\n",
       "       [[0.25, 0.25, 0.25, 0.25],\n",
       "        [0.25, 0.25, 0.25, 0.25]],\n",
       "\n",
       "       [[0.25, 0.25, 0.25, 0.25],\n",
       "        [0.25, 0.25, 0.25, 0.25]],\n",
       "\n",
       "       [[0.25, 0.25, 0.25, 0.25],\n",
       "        [0.25, 0.25, 0.25, 0.25]],\n",
       "\n",
       "       [[0.25, 0.25, 0.25, 0.25],\n",
       "        [0.25, 0.25, 0.25, 0.25]],\n",
       "\n",
       "       [[0.25, 0.25, 0.25, 0.25],\n",
       "        [0.25, 0.25, 0.25, 0.25]],\n",
       "\n",
       "       [[0.25, 0.25, 0.25, 0.25],\n",
       "        [0.25, 0.25, 0.25, 0.25]],\n",
       "\n",
       "       [[0.25, 0.25, 0.25, 0.25],\n",
       "        [0.25, 0.25, 0.25, 0.25]],\n",
       "\n",
       "       [[0.25, 0.25, 0.25, 0.25],\n",
       "        [0.25, 0.25, 0.25, 0.25]],\n",
       "\n",
       "       [[0.25, 0.25, 0.25, 0.25],\n",
       "        [0.25, 0.25, 0.25, 0.25]],\n",
       "\n",
       "       [[0.25, 0.25, 0.25, 0.25],\n",
       "        [0.25, 0.25, 0.25, 0.25]],\n",
       "\n",
       "       [[0.25, 0.25, 0.25, 0.25],\n",
       "        [0.25, 0.25, 0.25, 0.25]],\n",
       "\n",
       "       [[0.25, 0.25, 0.25, 0.25],\n",
       "        [0.25, 0.25, 0.25, 0.25]],\n",
       "\n",
       "       [[0.25, 0.25, 0.25, 0.25],\n",
       "        [0.25, 0.25, 0.25, 0.25]],\n",
       "\n",
       "       [[0.25, 0.25, 0.25, 0.25],\n",
       "        [0.25, 0.25, 0.25, 0.25]],\n",
       "\n",
       "       [[0.25, 0.25, 0.25, 0.25],\n",
       "        [0.25, 0.25, 0.25, 0.25]],\n",
       "\n",
       "       [[0.25, 0.25, 0.25, 0.25],\n",
       "        [0.25, 0.25, 0.25, 0.25]],\n",
       "\n",
       "       [[0.25, 0.25, 0.25, 0.25],\n",
       "        [0.25, 0.25, 0.25, 0.25]],\n",
       "\n",
       "       [[0.25, 0.25, 0.25, 0.25],\n",
       "        [0.25, 0.25, 0.25, 0.25]],\n",
       "\n",
       "       [[0.25, 0.25, 0.25, 0.25],\n",
       "        [0.25, 0.25, 0.25, 0.25]],\n",
       "\n",
       "       [[0.25, 0.25, 0.25, 0.25],\n",
       "        [0.25, 0.25, 0.25, 0.25]]])"
      ]
     },
     "execution_count": 43,
     "metadata": {},
     "output_type": "execute_result"
    }
   ],
   "source": [
    "print(ps_system_proba.shape)\n",
    "ps_system_proba"
   ]
  },
  {
   "cell_type": "code",
   "execution_count": 44,
   "metadata": {},
   "outputs": [
    {
     "name": "stdout",
     "output_type": "stream",
     "text": [
      "[1 3 2 4 2 1 1 4 4 4]\n"
     ]
    },
    {
     "data": {
      "text/plain": [
       "array([-1.+0.j])"
      ]
     },
     "execution_count": 44,
     "metadata": {},
     "output_type": "execute_result"
    }
   ],
   "source": [
    "elements = [1, 2, 3, 4]\n",
    "print(np.random.choice(elements, 10, p=ps_system_proba[0,0,:])) #phase_value\n",
    "np.random.choice(phase_value, 1, p=ps_system_proba[0,0,:])"
   ]
  },
  {
   "cell_type": "code",
   "execution_count": 45,
   "metadata": {},
   "outputs": [
    {
     "data": {
      "text/plain": [
       "array([0.25, 0.25, 0.25, 0.25])"
      ]
     },
     "execution_count": 45,
     "metadata": {},
     "output_type": "execute_result"
    }
   ],
   "source": [
    "ps_system_proba[0,0,:]"
   ]
  },
  {
   "cell_type": "markdown",
   "metadata": {},
   "source": [
    "### Step 1: Randomly generate S candidate analog beamformers"
   ]
  },
  {
   "cell_type": "code",
   "execution_count": 79,
   "metadata": {},
   "outputs": [],
   "source": [
    "S = 200\n",
    "F_rf = np.zeros((S,model['Nt'],model['Nrf']),dtype=complex)\n",
    "for i in range(S):\n",
    "    for j in range(model['Nt']):\n",
    "        for k in range(model['Nrf']):\n",
    "            F_rf[i,j,k] = np.random.choice(phase_value, 1, p=ps_system_proba[j,k,:])"
   ]
  },
  {
   "cell_type": "markdown",
   "metadata": {},
   "source": [
    "### Step 2: Compute S corresponding digital precoders Fbb based on the effective channel Heq = HFrf"
   ]
  },
  {
   "cell_type": "code",
   "execution_count": 80,
   "metadata": {},
   "outputs": [],
   "source": [
    "channel_eq = np.zeros((S,model['Nr'],model['Nrf']),dtype=complex)\n",
    "F_bb = np.zeros((S,model['Nrf'],model['Ns']),dtype=complex)\n",
    "channel_index = 0\n",
    "for i in range(S):\n",
    "    channel_eq[i,:,:] =  model['H'][:,:,channel_index]@F_rf[i,:,:]\n",
    "    U, s, V = np.linalg.svd(channel_eq[i,:,:], full_matrices=True)\n",
    "    V = V.conj().T\n",
    "    F_bb[i,:,:] = V[0:model['Nt'],0:model['Ns']]"
   ]
  },
  {
   "cell_type": "code",
   "execution_count": 81,
   "metadata": {},
   "outputs": [
    {
     "data": {
      "text/plain": [
       "(200, 64, 2)"
      ]
     },
     "execution_count": 81,
     "metadata": {},
     "output_type": "execute_result"
    }
   ],
   "source": [
    "F_rf.shape"
   ]
  },
  {
   "cell_type": "code",
   "execution_count": 73,
   "metadata": {},
   "outputs": [
    {
     "data": {
      "text/plain": [
       "(200, 2, 1)"
      ]
     },
     "execution_count": 73,
     "metadata": {},
     "output_type": "execute_result"
    }
   ],
   "source": [
    "F_bb.shape"
   ]
  },
  {
   "cell_type": "code",
   "execution_count": 56,
   "metadata": {},
   "outputs": [
    {
     "data": {
      "text/plain": [
       "(200, 16, 2)"
      ]
     },
     "execution_count": 56,
     "metadata": {},
     "output_type": "execute_result"
    }
   ],
   "source": [
    "channel_eq.shape"
   ]
  },
  {
   "cell_type": "markdown",
   "metadata": {},
   "source": [
    "### Step 3: Calculate the achievable sum-rate"
   ]
  },
  {
   "cell_type": "code",
   "execution_count": 84,
   "metadata": {},
   "outputs": [],
   "source": [
    "## Assume an optimize combining at Receiver\n",
    "Wopt = np.zeros((model['Nr'],model['Ns']),dtype=complex)\n",
    "U, s, V = np.linalg.svd(model['H'][:,:,channel_index], full_matrices=True)\n",
    "V = V.conj().T\n",
    "# Fopt[:,:,reali] = V[0:Nt,0:Ns]\n",
    "Wopt = U[0:model['Nr'],0:model['Ns']]\n",
    "    "
   ]
  },
  {
   "cell_type": "code",
   "execution_count": 148,
   "metadata": {},
   "outputs": [],
   "source": [
    "# SNR_dB = np.arange(-35,10,5)\n",
    "# SNR = 10**(SNR_dB/10)\n",
    "# smax = SNR.shape[0]\n",
    "SNR = 10**(10/10)\n",
    "R = np.zeros((S))\n",
    "\n",
    "for i in range(S):\n",
    "    R[i] = np.log2(np.linalg.det(np.eye(model['Ns']))+SNR/model['Ns']*np.linalg.pinv(Wopt)@model['H'][:,:,channel_index]@F_rf[i,:,:]@F_bb[i,:,:]@F_bb[i,:,:].conj().T@F_rf[i,:,:].conj().T@model['H'][:,:,channel_index].conj().T@Wopt).real\n"
   ]
  },
  {
   "cell_type": "code",
   "execution_count": 149,
   "metadata": {
    "scrolled": true
   },
   "outputs": [
    {
     "data": {
      "text/plain": [
       "array([12.41687569, 12.17879324, 12.45857315, 12.71576242, 12.66714872,\n",
       "       12.42252569, 12.29083104, 11.42861497, 11.41751666, 12.13078948,\n",
       "       10.70304817, 13.11951118, 12.63239294,  8.1362591 , 13.15886758,\n",
       "        9.97612054, 13.61553919, 13.11112659, 13.71064335, 12.6875507 ,\n",
       "       10.08570746, 11.00050714, 13.54171531, 13.17446275, 11.40429897,\n",
       "       13.36996242, 11.2895382 , 11.73028035, 10.44167064, 12.54640355,\n",
       "       12.6365979 , 11.62695371, 12.94987384, 13.0872801 , 11.83585636,\n",
       "       12.32905878, 11.3646456 , 10.54214789, 13.63559468, 11.33249931,\n",
       "        8.61074   ,  9.83221926, 10.77478797, 13.68829704, 13.05365116,\n",
       "       13.05881052, 11.67510199, 11.62351825, 12.30029987, 14.12037492,\n",
       "       13.1801765 , 10.52092659, 11.44241367,  9.18635436, 11.67001136,\n",
       "       11.90861421, 11.71703229, 11.99182521, 11.91478702, 12.48164562,\n",
       "       11.4951693 , 11.64259101, 13.00646743, 11.04186195,  9.97922411,\n",
       "       13.32207059, 11.40975289, 11.8759346 , 11.58409468, 12.13875041,\n",
       "       11.82524303, 12.40409431, 12.55958101, 12.74811066, 10.57985114,\n",
       "       12.04613251, 12.05339303, 10.8101758 , 13.01479686, 13.25489538,\n",
       "       10.23678005, 10.42839985, 12.56606739, 12.20504474, 12.44629089,\n",
       "       12.41230006, 12.51089296, 12.64723817, 12.90078937, 11.18209506,\n",
       "       12.31657543, 10.86794525, 12.0651065 ,  7.5836661 , 10.87874755,\n",
       "       10.36323812, 10.87017284, 10.43452719,  9.23414577, 12.33763325,\n",
       "        8.98617028, 12.16041578, 13.36920087, 13.66089872, 13.00188184,\n",
       "       11.17415962, 10.62184267, 10.58338668,  9.56198221, 10.56753473,\n",
       "       10.32635692, 13.51748673,  9.35838986, 12.55692104, 10.40958413,\n",
       "       11.28027033, 12.59613562, 12.8352944 , 13.64081961,  9.60315711,\n",
       "       13.59011902, 12.8153922 , 11.74407407,  9.38360528, 13.47457156,\n",
       "       12.39080609,  8.30996495, 12.63623352, 12.40929343, 12.3128958 ,\n",
       "       12.98173214, 13.89559266, 11.3629785 ,  8.61671662, 12.71980552,\n",
       "       10.89858883, 12.104664  ,  8.39319432, 11.62658727, 12.78544448,\n",
       "       10.45387353,  9.78273786, 13.08679901, 12.25795957, 11.01283643,\n",
       "       11.65070058, 12.93452344, 11.20246005, 10.26017134, 12.57172012,\n",
       "       12.10430792, 12.07427115,  8.48722007,  9.50971958, 11.34573655,\n",
       "       12.71550058, 13.21832575,  9.98035793, 12.78286776, 10.44516116,\n",
       "       13.20165971, 11.79535272, 12.22113454, 13.11158574, 12.97233232,\n",
       "       10.22129516, 12.6705188 , 11.58599837, 12.15684713,  8.70415622,\n",
       "        9.73207775, 10.23190795,  9.1504199 , 11.44736651, 10.52961402,\n",
       "       12.12170195, 10.09978651, 12.30772126, 13.03564913,  7.65757103,\n",
       "       12.67126228,  8.08361931, 12.92784426, 11.59666135,  9.18921281,\n",
       "       10.22295957, 11.75437345,  8.07814429, 11.7669254 ,  6.981907  ,\n",
       "       11.7774784 , 10.29530683, 10.87302069, 11.26886982, 12.88388772,\n",
       "       11.48675124, 11.58287278, 12.04367318, 11.62224061, 12.51407877])"
      ]
     },
     "execution_count": 149,
     "metadata": {},
     "output_type": "execute_result"
    }
   ],
   "source": [
    "R"
   ]
  },
  {
   "cell_type": "markdown",
   "metadata": {},
   "source": [
    "### Step 4: Sort R in a descend order"
   ]
  },
  {
   "cell_type": "code",
   "execution_count": 202,
   "metadata": {},
   "outputs": [],
   "source": [
    "nb_elite = 40"
   ]
  },
  {
   "cell_type": "code",
   "execution_count": 197,
   "metadata": {
    "scrolled": true
   },
   "outputs": [
    {
     "data": {
      "text/plain": [
       "14.12037491709517"
      ]
     },
     "execution_count": 197,
     "metadata": {},
     "output_type": "execute_result"
    }
   ],
   "source": [
    "R[49]"
   ]
  },
  {
   "cell_type": "code",
   "execution_count": 203,
   "metadata": {},
   "outputs": [],
   "source": [
    "R_sort_index = np.argsort(R)[::-1][:nb_elite]"
   ]
  },
  {
   "cell_type": "code",
   "execution_count": 204,
   "metadata": {},
   "outputs": [
    {
     "data": {
      "text/plain": [
       "array([ 49, 131,  18,  43, 103, 118,  38,  16, 120,  22, 111, 124,  25,\n",
       "       102,  65,  79, 156, 160,  50,  23,  14,  11, 163,  17,  33, 142,\n",
       "        45,  44, 178,  78,  62, 104, 130, 164,  32, 146, 182,  88, 194,\n",
       "       117])"
      ]
     },
     "execution_count": 204,
     "metadata": {},
     "output_type": "execute_result"
    }
   ],
   "source": [
    "R_sort_index"
   ]
  },
  {
   "cell_type": "code",
   "execution_count": 211,
   "metadata": {},
   "outputs": [
    {
     "data": {
      "text/plain": [
       "49"
      ]
     },
     "execution_count": 211,
     "metadata": {},
     "output_type": "execute_result"
    }
   ],
   "source": [
    "R_max_index = R_sort_index[0]\n",
    "R_max_index"
   ]
  },
  {
   "cell_type": "code",
   "execution_count": 205,
   "metadata": {},
   "outputs": [
    {
     "name": "stdout",
     "output_type": "stream",
     "text": [
      "[14.12037492 13.89559266 13.71064335 13.68829704 13.66089872 13.64081961\n",
      " 13.63559468 13.61553919 13.59011902 13.54171531 13.51748673 13.47457156\n",
      " 13.36996242 13.36920087 13.32207059 13.25489538 13.21832575 13.20165971\n",
      " 13.1801765  13.17446275 13.15886758 13.11951118 13.11158574 13.11112659\n",
      " 13.0872801  13.08679901 13.05881052 13.05365116 13.03564913 13.01479686\n",
      " 13.00646743 13.00188184 12.98173214 12.97233232 12.94987384 12.93452344\n",
      " 12.92784426 12.90078937 12.88388772 12.8352944 ]\n"
     ]
    }
   ],
   "source": [
    "print(R[R_sort_index])"
   ]
  },
  {
   "cell_type": "code",
   "execution_count": 213,
   "metadata": {
    "scrolled": true
   },
   "outputs": [
    {
     "data": {
      "text/plain": [
       "(40, 64, 2)"
      ]
     },
     "execution_count": 213,
     "metadata": {},
     "output_type": "execute_result"
    }
   ],
   "source": [
    "F_elites = F_rf[R_sort_index,:,:]"
   ]
  },
  {
   "cell_type": "markdown",
   "metadata": {},
   "source": [
    "### Step 5: Select elites as Frf_1, Frf_2, ..., Frf_elite"
   ]
  },
  {
   "cell_type": "code",
   "execution_count": 214,
   "metadata": {},
   "outputs": [],
   "source": [
    "F_elites = F_rf[R_sort_index,:,:]"
   ]
  }
 ],
 "metadata": {
  "kernelspec": {
   "display_name": "Python 3",
   "language": "python",
   "name": "python3"
  },
  "language_info": {
   "codemirror_mode": {
    "name": "ipython",
    "version": 3
   },
   "file_extension": ".py",
   "mimetype": "text/x-python",
   "name": "python",
   "nbconvert_exporter": "python",
   "pygments_lexer": "ipython3",
   "version": "3.5.2"
  }
 },
 "nbformat": 4,
 "nbformat_minor": 2
}
