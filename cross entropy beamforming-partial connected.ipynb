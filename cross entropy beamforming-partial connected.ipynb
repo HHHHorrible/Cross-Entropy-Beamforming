{
 "cells": [
  {
   "cell_type": "markdown",
   "metadata": {},
   "source": [
    "- Load necessary module"
   ]
  },
  {
   "cell_type": "code",
   "execution_count": 1,
   "metadata": {},
   "outputs": [],
   "source": [
    "import scipy.io as io\n",
    "import numpy as np\n",
    "import matplotlib.pyplot as plt\n",
    "from scipy.stats import bernoulli\n",
    "from scipy.stats import multinomial\n",
    "from collections import OrderedDict"
   ]
  },
  {
   "cell_type": "markdown",
   "metadata": {},
   "source": [
    "- Load model that defined in channel realization"
   ]
  },
  {
   "cell_type": "code",
   "execution_count": 28,
   "metadata": {},
   "outputs": [],
   "source": [
    "np.random.seed(1)\n",
    "mat = io.loadmat('tempNs4.mat')\n",
    "model = {}\n",
    "model['H'] = mat['H']\n",
    "model['Wopt'] = mat['Wopt']\n",
    "model['Fopt'] = mat['Fopt']\n",
    "model['Ns'] = mat['Ns'][0,0] ## need to change nb of stream in channel realization, this case 1\n",
    "# model['Ns'] = 2\n",
    "model['Nt'] = mat['Nt'][0,0]\n",
    "model['Nr'] = mat['Nr'][0,0]\n",
    "model['Nc'] = mat['Nc'][0,0]\n",
    "model['Nray'] = mat['Nray'][0,0]\n",
    "model['realization'] = mat['realization'][0,0]\n",
    "model['At'] = mat['At']\n",
    "model['Ar'] = mat['Ar']\n",
    "model['Nrf'] = 4\n",
    "archi = 'FC'"
   ]
  },
  {
   "cell_type": "code",
   "execution_count": 3,
   "metadata": {
    "scrolled": true
   },
   "outputs": [
    {
     "name": "stdout",
     "output_type": "stream",
     "text": [
      "H\n",
      "Wopt\n",
      "Fopt\n",
      "Ns\n",
      "Nt\n",
      "Nr\n",
      "Nc\n",
      "Nray\n",
      "realization\n",
      "At\n",
      "Ar\n",
      "Nrf\n"
     ]
    }
   ],
   "source": [
    "for key in model:\n",
    "    print(key)"
   ]
  },
  {
   "cell_type": "code",
   "execution_count": 4,
   "metadata": {},
   "outputs": [
    {
     "data": {
      "text/plain": [
       "3"
      ]
     },
     "execution_count": 4,
     "metadata": {},
     "output_type": "execute_result"
    }
   ],
   "source": [
    "model['Ns']"
   ]
  },
  {
   "cell_type": "markdown",
   "metadata": {},
   "source": [
    "Load values of phase shifter included:\n",
    "- nb_bit: number of bit\n",
    "- nb_ps: number of phase shifter in the system\n",
    "- nb_state: number of state in each phase shifter (2^nb_bit)"
   ]
  },
  {
   "cell_type": "markdown",
   "metadata": {},
   "source": [
    "# Cross Entropy Beamforming"
   ]
  },
  {
   "cell_type": "markdown",
   "metadata": {},
   "source": [
    "### Helper function for Cross entropy Beamforming"
   ]
  },
  {
   "cell_type": "code",
   "execution_count": 90,
   "metadata": {},
   "outputs": [],
   "source": [
    "def phase_shifter(n_bit,n_ant):\n",
    "    \"\"\"\n",
    "    Define phase shifter with N bits resolution\n",
    "    \n",
    "    Arguments:\n",
    "    N -- number of bits resolutions\n",
    "    \n",
    "    Returns:\n",
    "    y -- python dictionnary of phase shifter: index of state and value of phase\n",
    "    \"\"\"\n",
    "    nb_state = 2**n_bit\n",
    "    w = np.exp(1j*2*np.pi/nb_state)\n",
    "    ps = np.zeros(nb_state,dtype=complex)\n",
    "    for i in range(nb_state):\n",
    "        ps[i] = w**i/np.sqrt(n_ant)\n",
    "    return np.around(ps, decimals=3)\n",
    "\n",
    "def generate_candidat(S,model,phase_value,ps_system_proba,archi):\n",
    "    \"\"\"\n",
    "    generate S candidates from the previous pmf\n",
    "    \n",
    "    Arguments: \n",
    "    S -- Number of candidates to generate\n",
    "    model -- channel model\n",
    "    phase_value -- possible phase shifted value\n",
    "    ps_system_proba -- pmf of phase shifters\n",
    "    \n",
    "    Returns\n",
    "    F_rf -- S analog precoder system\n",
    "    \"\"\"\n",
    "#     print(ps_system_proba)\n",
    "    F_rf = np.zeros((S,model['Nt'],model['Nrf']),dtype=complex)\n",
    "    if archi == 'FC':\n",
    "        for i in range(S):\n",
    "            for j in range(model['Nt']):\n",
    "                for k in range(model['Nrf']):\n",
    "                    F_rf[i,j,k] = np.random.choice(phase_value, 1, p=ps_system_proba[j,k,:])\n",
    "    if archi == 'PC':\n",
    "        only_PS = np.zeros((S,model['Nt']),dtype=complex)\n",
    "        m = int(model['Nt']/model['Nrf'])\n",
    "        for i in range(S):\n",
    "            for j in range(model['Nt']):\n",
    "                only_PS[i,j] = np.random.choice(phase_value, 1, p=ps_system_proba[j,:])\n",
    "            for k in range(model['Nrf']):\n",
    "                F_rf[i,k*m:(k+1)*m,k] = only_PS[i,k*m:(k+1)*m]\n",
    "    return F_rf\n",
    "\n",
    "def compute_Fbb(F_rf,model,channel):\n",
    "    \"\"\"\n",
    "    Compute baseband precoder base on the effective channel (Heq = H*Frf)\n",
    "    \n",
    "    Arguments:\n",
    "    F_rf -- analog precoder\n",
    "    model -- channel model\n",
    "    \n",
    "    Returns:\n",
    "    F_bb -- S baseband precoder\n",
    "    \"\"\"\n",
    "    S = F_rf.shape[0]\n",
    "    channel_eq = np.zeros((S,model['Nr'],model['Nrf']),dtype=complex)\n",
    "    F_bb = np.zeros((S,model['Nrf'],model['Ns']),dtype=complex)\n",
    "#     channel_index = 0 ### need to adjust \n",
    "    for i in range(S):\n",
    "        channel_eq[i,:,:] =  channel@F_rf[i,:,:]\n",
    "        U, s, V = np.linalg.svd(channel_eq[i,:,:], full_matrices=True)\n",
    "        V = V.conj().T\n",
    "        F_bb[i,:,:] = V[0:model['Nt'],0:model['Ns']]\n",
    "        F_bb[i,:,:] = np.sqrt(model['Ns'])*F_bb[i,:,:]/np.linalg.norm(F_rf[i,:,:]@F_bb[i,:,:],'fro')\n",
    "    return F_bb\n",
    "\n",
    "def optimal_beamformer(model, channel):\n",
    "    \"\"\"\n",
    "    Compute the optimal beamformer by SVD\n",
    "    \n",
    "    Arguments:\n",
    "    model -- channel model\n",
    "    channel_index -- index in 1000 realization channel\n",
    "    \n",
    "    Returns:\n",
    "    Fopt -- optimal precoder\n",
    "    Wopt -- optimal combiner\n",
    "    \"\"\"\n",
    "    Wopt = np.zeros((model['Nr'],model['Ns']),dtype=complex)\n",
    "    Fopt = np.zeros((model['Nt'],model['Ns']),dtype=complex)\n",
    "    U, s, V = np.linalg.svd(channel, full_matrices=True)\n",
    "    V = V.conj().T\n",
    "    Fopt = V[0:model['Nt'],0:model['Ns']]\n",
    "    Wopt = U[0:model['Nr'],0:model['Ns']]\n",
    "    return Fopt, Wopt\n",
    "\n",
    "\n",
    "def update_pmf(F_elites,phase_value,nb_elite,R_elite,ps_system_proba,archi):\n",
    "    \"\"\"\n",
    "    Update new phase shifters's pmf base on previous candidates's results\n",
    "    \n",
    "    Arguments:\n",
    "    F_elites -- elites analog precoder\n",
    "    phase_value -- phase shift value\n",
    "    nb_elite -- number of elites \n",
    "    \n",
    "    Returns:\n",
    "    ps_system_proba -- pmf of phase shifter\n",
    "    \"\"\"\n",
    "    alpha = 0.9\n",
    "    nb_state = phase_value.shape[0]\n",
    "    stat_count = np.zeros(nb_state)\n",
    "    assign = np.zeros(nb_elite)\n",
    "    weight = R_elite/np.mean(R_elite)\n",
    "#     print(weight.shape)\n",
    "#     print(assign.shape)\n",
    "#     print(F_elites.shape)\n",
    "    if archi == 'FC':\n",
    "        for i in range(model['Nt']):\n",
    "            for j in range(model['Nrf']):\n",
    "                for k in range(nb_state):\n",
    "                    assign = F_elites[:,i,j] == phase_value[k]\n",
    "#                     print(assign.shape)\n",
    "#                     print(weight.shape)\n",
    "                    proba_est = np.sum(assign*weight)/nb_elite\n",
    "#                     proba_est = np.sum(assign)/nb_elite\n",
    "                    ps_system_proba[i,j,k] = alpha*proba_est + (1-alpha)*ps_system_proba[i,j,k] \n",
    "    if archi == 'PC':\n",
    "        # Convert to PC form\n",
    "        F_RF_conv = np.zeros((F_elites.shape[0],model['Nt']),dtype=complex)\n",
    "        \n",
    "        m = int(model['Nt']/model['Nrf'])\n",
    "        for i in range(F_elites.shape[0]):\n",
    "            f_rf = F_elites[i,:]\n",
    "            f_rf_conv = f_rf[0:m,0]\n",
    "            for j in range(model['Nrf']-1):\n",
    "                f_rf_conv = np.concatenate((f_rf_conv,f_rf[(j+1)*m:(j+2)*m,j+1]))\n",
    "            F_RF_conv[i,:] = f_rf_conv\n",
    "    \n",
    "    \n",
    "        for i in range(model['Nt']):\n",
    "            for k in range(nb_state):\n",
    "                assign = F_RF_conv[:,i] == phase_value[k]\n",
    "                proba_est = np.sum(assign*weight)/nb_elite\n",
    "#                 proba_est = np.sum(assign)/nb_elite\n",
    "                ps_system_proba[i,k] = alpha*proba_est + (1-alpha)*ps_system_proba[i,k]   \n",
    "    return ps_system_proba\n",
    "\n",
    "def data_rate(Ns,SNR,W,H,F):\n",
    "    \"\"\"\n",
    "    Compute the data rate of the beamforming system\n",
    "    \n",
    "    Arguments:\n",
    "    Ns -- number of stream\n",
    "    SNR -- Signal to noise ratio\n",
    "    W -- combiner\n",
    "    H -- channel\n",
    "    F -- precoder\n",
    "    \n",
    "    Returns:\n",
    "    R -- data rate\n",
    "    \"\"\"\n",
    "    R = np.log2(np.linalg.det(np.eye(Ns)+SNR/Ns*np.linalg.pinv(W)@H@F@F.conj().T@H.conj().T@W))\n",
    "    return R.real"
   ]
  },
  {
   "cell_type": "markdown",
   "metadata": {},
   "source": [
    "### Define Phase shiter"
   ]
  },
  {
   "cell_type": "code",
   "execution_count": 4,
   "metadata": {},
   "outputs": [],
   "source": [
    "nb_bit = 2\n",
    "nb_ps = model['Nt']*model['Nrf']\n",
    "nb_ps\n",
    "nb_state = 2**nb_bit"
   ]
  },
  {
   "cell_type": "code",
   "execution_count": 5,
   "metadata": {},
   "outputs": [
    {
     "data": {
      "text/plain": [
       "array([ 0.125+0.   j,  0.   +0.125j, -0.125+0.   j, -0.   -0.125j])"
      ]
     },
     "execution_count": 5,
     "metadata": {},
     "output_type": "execute_result"
    }
   ],
   "source": [
    "phase_value = phase_shifter(nb_bit,model['Nt'])\n",
    "phase_value"
   ]
  },
  {
   "cell_type": "markdown",
   "metadata": {},
   "source": [
    "Phase shifter system dimension is: NtxNrfxN_state"
   ]
  },
  {
   "cell_type": "markdown",
   "metadata": {},
   "source": [
    "### Cross entropy beamforming Algorithm\n",
    " Step 1: Randomly generate S candidate analog beamformers\n",
    "\n",
    " Step 2: Compute S corresponding digital precoders Fbb based on the effective channel Heq = HFrf\n",
    "\n",
    " Step 3: Calculate the achievable sum-rate\n",
    "\n",
    " Step 4: Sort R in a descend order\n",
    "\n",
    " Step 5: Select elites as Frf_1, Frf_2, ..., Frf_elite\n",
    "\n",
    " Step 6: Update new pmf for each phase shifter"
   ]
  },
  {
   "cell_type": "code",
   "execution_count": 39,
   "metadata": {},
   "outputs": [],
   "source": [
    "ps_system_proba = np.ones((model['Nt'],nb_state))*(1/nb_state)\n",
    "F_rf = generate_candidat(S,model,phase_value,ps_system_proba,'PC')"
   ]
  },
  {
   "cell_type": "code",
   "execution_count": 87,
   "metadata": {
    "scrolled": true
   },
   "outputs": [
    {
     "data": {
      "text/plain": [
       "array([-0.   -0.125j, -0.125+0.   j,  0.   +0.125j, -0.125+0.   j,\n",
       "        0.   +0.125j, -0.   -0.125j, -0.125+0.   j,  0.125+0.   j,\n",
       "       -0.125+0.   j,  0.125+0.   j,  0.125+0.   j, -0.125+0.   j,\n",
       "       -0.   -0.125j, -0.   -0.125j, -0.125+0.   j, -0.125+0.   j,\n",
       "        0.   +0.125j, -0.   -0.125j,  0.125+0.   j, -0.125+0.   j,\n",
       "        0.125+0.   j, -0.   -0.125j, -0.   -0.125j,  0.125+0.   j,\n",
       "       -0.125+0.   j,  0.   +0.125j,  0.   +0.125j, -0.125+0.   j,\n",
       "        0.   +0.125j,  0.   +0.125j,  0.   +0.125j,  0.   +0.125j,\n",
       "        0.125+0.   j,  0.   +0.125j,  0.125+0.   j, -0.125+0.   j,\n",
       "        0.125+0.   j,  0.   +0.125j,  0.125+0.   j,  0.   +0.125j,\n",
       "        0.125+0.   j, -0.125+0.   j,  0.125+0.   j, -0.   -0.125j,\n",
       "        0.   +0.125j, -0.   -0.125j, -0.125+0.   j,  0.   +0.125j,\n",
       "        0.125+0.   j,  0.125+0.   j,  0.   +0.125j, -0.125+0.   j,\n",
       "        0.   +0.125j,  0.125+0.   j, -0.   -0.125j,  0.   +0.125j,\n",
       "        0.   +0.125j, -0.   -0.125j, -0.   -0.125j, -0.125+0.   j,\n",
       "       -0.   -0.125j, -0.125+0.   j, -0.   -0.125j, -0.125+0.   j])"
      ]
     },
     "execution_count": 87,
     "metadata": {},
     "output_type": "execute_result"
    }
   ],
   "source": [
    "F_RF_conv[0,:]"
   ]
  },
  {
   "cell_type": "code",
   "execution_count": 85,
   "metadata": {},
   "outputs": [],
   "source": [
    "F_RF_conv = np.zeros((F_rf.shape[0],model['Nt']),dtype=complex)\n",
    "m = int(model['Nt']/model['Nrf'])\n",
    "for i in range(F_rf.shape[0]):\n",
    "    f_rf = F_rf[i,:]\n",
    "    f_rf_conv = f_rf[0:m,0]\n",
    "    for j in range(model['Nrf']-1):\n",
    "        f_rf_conv = np.concatenate((f_rf_conv,f_rf[(j+1)*m:(j+2)*m,j+1]))\n",
    "    F_RF_conv[i,:] = f_rf_conv"
   ]
  },
  {
   "cell_type": "code",
   "execution_count": 43,
   "metadata": {},
   "outputs": [],
   "source": [
    "test = F_rf[0,:]\n",
    "m = int(model['Nt']/model['Nrf'])"
   ]
  },
  {
   "cell_type": "code",
   "execution_count": 71,
   "metadata": {},
   "outputs": [
    {
     "name": "stdout",
     "output_type": "stream",
     "text": [
      "[-0.   -0.125j -0.125+0.   j  0.   +0.125j -0.125+0.   j  0.   +0.125j\n",
      " -0.   -0.125j -0.125+0.   j  0.125+0.   j -0.125+0.   j  0.125+0.   j\n",
      "  0.125+0.   j -0.125+0.   j -0.   -0.125j -0.   -0.125j -0.125+0.   j\n",
      " -0.125+0.   j]\n",
      "1\n",
      "2\n",
      "3\n"
     ]
    }
   ],
   "source": [
    "test2 = test[0:m,0]\n",
    "print(test2)\n",
    "for i in range(model['Nrf']-1):\n",
    "    print(i+1)\n",
    "    test2 = np.concatenate((test2,test[(i+1)*m:(i+2)*m,i+1]))\n",
    "#     print(test[(i+1)*m:(i+2)*m,i+1])"
   ]
  },
  {
   "cell_type": "code",
   "execution_count": 74,
   "metadata": {},
   "outputs": [
    {
     "data": {
      "text/plain": [
       "array([-0.   -0.125j, -0.125+0.   j,  0.   +0.125j, -0.125+0.   j,\n",
       "        0.   +0.125j, -0.   -0.125j, -0.125+0.   j,  0.125+0.   j,\n",
       "       -0.125+0.   j,  0.125+0.   j,  0.125+0.   j, -0.125+0.   j,\n",
       "       -0.   -0.125j, -0.   -0.125j, -0.125+0.   j, -0.125+0.   j,\n",
       "        0.   +0.125j, -0.   -0.125j,  0.125+0.   j, -0.125+0.   j,\n",
       "        0.125+0.   j, -0.   -0.125j, -0.   -0.125j,  0.125+0.   j,\n",
       "       -0.125+0.   j,  0.   +0.125j,  0.   +0.125j, -0.125+0.   j,\n",
       "        0.   +0.125j,  0.   +0.125j,  0.   +0.125j,  0.   +0.125j,\n",
       "        0.125+0.   j,  0.   +0.125j,  0.125+0.   j, -0.125+0.   j,\n",
       "        0.125+0.   j,  0.   +0.125j,  0.125+0.   j,  0.   +0.125j,\n",
       "        0.125+0.   j, -0.125+0.   j,  0.125+0.   j, -0.   -0.125j,\n",
       "        0.   +0.125j, -0.   -0.125j, -0.125+0.   j,  0.   +0.125j,\n",
       "        0.125+0.   j,  0.125+0.   j,  0.   +0.125j, -0.125+0.   j,\n",
       "        0.   +0.125j,  0.125+0.   j, -0.   -0.125j,  0.   +0.125j,\n",
       "        0.   +0.125j, -0.   -0.125j, -0.   -0.125j, -0.125+0.   j,\n",
       "       -0.   -0.125j, -0.125+0.   j, -0.   -0.125j, -0.125+0.   j])"
      ]
     },
     "execution_count": 74,
     "metadata": {},
     "output_type": "execute_result"
    }
   ],
   "source": [
    "test2"
   ]
  },
  {
   "cell_type": "code",
   "execution_count": 57,
   "metadata": {},
   "outputs": [
    {
     "data": {
      "text/plain": [
       "array([ 0.   +0.125j, -0.   -0.125j,  0.125+0.   j, -0.125+0.   j,\n",
       "        0.125+0.   j, -0.   -0.125j, -0.   -0.125j,  0.125+0.   j,\n",
       "       -0.125+0.   j,  0.   +0.125j,  0.   +0.125j, -0.125+0.   j,\n",
       "        0.   +0.125j,  0.   +0.125j,  0.   +0.125j,  0.   +0.125j])"
      ]
     },
     "execution_count": 57,
     "metadata": {},
     "output_type": "execute_result"
    }
   ],
   "source": [
    "test[m:2*m,1]"
   ]
  },
  {
   "cell_type": "code",
   "execution_count": 41,
   "metadata": {
    "scrolled": true
   },
   "outputs": [
    {
     "data": {
      "text/plain": [
       "array([[-0.   -0.125j,  0.   +0.   j,  0.   +0.   j,  0.   +0.   j],\n",
       "       [-0.125+0.   j,  0.   +0.   j,  0.   +0.   j,  0.   +0.   j],\n",
       "       [ 0.   +0.125j,  0.   +0.   j,  0.   +0.   j,  0.   +0.   j],\n",
       "       [-0.125+0.   j,  0.   +0.   j,  0.   +0.   j,  0.   +0.   j],\n",
       "       [ 0.   +0.125j,  0.   +0.   j,  0.   +0.   j,  0.   +0.   j],\n",
       "       [-0.   -0.125j,  0.   +0.   j,  0.   +0.   j,  0.   +0.   j],\n",
       "       [-0.125+0.   j,  0.   +0.   j,  0.   +0.   j,  0.   +0.   j],\n",
       "       [ 0.125+0.   j,  0.   +0.   j,  0.   +0.   j,  0.   +0.   j],\n",
       "       [-0.125+0.   j,  0.   +0.   j,  0.   +0.   j,  0.   +0.   j],\n",
       "       [ 0.125+0.   j,  0.   +0.   j,  0.   +0.   j,  0.   +0.   j],\n",
       "       [ 0.125+0.   j,  0.   +0.   j,  0.   +0.   j,  0.   +0.   j],\n",
       "       [-0.125+0.   j,  0.   +0.   j,  0.   +0.   j,  0.   +0.   j],\n",
       "       [-0.   -0.125j,  0.   +0.   j,  0.   +0.   j,  0.   +0.   j],\n",
       "       [-0.   -0.125j,  0.   +0.   j,  0.   +0.   j,  0.   +0.   j],\n",
       "       [-0.125+0.   j,  0.   +0.   j,  0.   +0.   j,  0.   +0.   j],\n",
       "       [-0.125+0.   j,  0.   +0.   j,  0.   +0.   j,  0.   +0.   j],\n",
       "       [ 0.   +0.   j,  0.   +0.125j,  0.   +0.   j,  0.   +0.   j],\n",
       "       [ 0.   +0.   j, -0.   -0.125j,  0.   +0.   j,  0.   +0.   j],\n",
       "       [ 0.   +0.   j,  0.125+0.   j,  0.   +0.   j,  0.   +0.   j],\n",
       "       [ 0.   +0.   j, -0.125+0.   j,  0.   +0.   j,  0.   +0.   j],\n",
       "       [ 0.   +0.   j,  0.125+0.   j,  0.   +0.   j,  0.   +0.   j],\n",
       "       [ 0.   +0.   j, -0.   -0.125j,  0.   +0.   j,  0.   +0.   j],\n",
       "       [ 0.   +0.   j, -0.   -0.125j,  0.   +0.   j,  0.   +0.   j],\n",
       "       [ 0.   +0.   j,  0.125+0.   j,  0.   +0.   j,  0.   +0.   j],\n",
       "       [ 0.   +0.   j, -0.125+0.   j,  0.   +0.   j,  0.   +0.   j],\n",
       "       [ 0.   +0.   j,  0.   +0.125j,  0.   +0.   j,  0.   +0.   j],\n",
       "       [ 0.   +0.   j,  0.   +0.125j,  0.   +0.   j,  0.   +0.   j],\n",
       "       [ 0.   +0.   j, -0.125+0.   j,  0.   +0.   j,  0.   +0.   j],\n",
       "       [ 0.   +0.   j,  0.   +0.125j,  0.   +0.   j,  0.   +0.   j],\n",
       "       [ 0.   +0.   j,  0.   +0.125j,  0.   +0.   j,  0.   +0.   j],\n",
       "       [ 0.   +0.   j,  0.   +0.125j,  0.   +0.   j,  0.   +0.   j],\n",
       "       [ 0.   +0.   j,  0.   +0.125j,  0.   +0.   j,  0.   +0.   j],\n",
       "       [ 0.   +0.   j,  0.   +0.   j,  0.125+0.   j,  0.   +0.   j],\n",
       "       [ 0.   +0.   j,  0.   +0.   j,  0.   +0.125j,  0.   +0.   j],\n",
       "       [ 0.   +0.   j,  0.   +0.   j,  0.125+0.   j,  0.   +0.   j],\n",
       "       [ 0.   +0.   j,  0.   +0.   j, -0.125+0.   j,  0.   +0.   j],\n",
       "       [ 0.   +0.   j,  0.   +0.   j,  0.125+0.   j,  0.   +0.   j],\n",
       "       [ 0.   +0.   j,  0.   +0.   j,  0.   +0.125j,  0.   +0.   j],\n",
       "       [ 0.   +0.   j,  0.   +0.   j,  0.125+0.   j,  0.   +0.   j],\n",
       "       [ 0.   +0.   j,  0.   +0.   j,  0.   +0.125j,  0.   +0.   j],\n",
       "       [ 0.   +0.   j,  0.   +0.   j,  0.125+0.   j,  0.   +0.   j],\n",
       "       [ 0.   +0.   j,  0.   +0.   j, -0.125+0.   j,  0.   +0.   j],\n",
       "       [ 0.   +0.   j,  0.   +0.   j,  0.125+0.   j,  0.   +0.   j],\n",
       "       [ 0.   +0.   j,  0.   +0.   j, -0.   -0.125j,  0.   +0.   j],\n",
       "       [ 0.   +0.   j,  0.   +0.   j,  0.   +0.125j,  0.   +0.   j],\n",
       "       [ 0.   +0.   j,  0.   +0.   j, -0.   -0.125j,  0.   +0.   j],\n",
       "       [ 0.   +0.   j,  0.   +0.   j, -0.125+0.   j,  0.   +0.   j],\n",
       "       [ 0.   +0.   j,  0.   +0.   j,  0.   +0.125j,  0.   +0.   j],\n",
       "       [ 0.   +0.   j,  0.   +0.   j,  0.   +0.   j,  0.125+0.   j],\n",
       "       [ 0.   +0.   j,  0.   +0.   j,  0.   +0.   j,  0.125+0.   j],\n",
       "       [ 0.   +0.   j,  0.   +0.   j,  0.   +0.   j,  0.   +0.125j],\n",
       "       [ 0.   +0.   j,  0.   +0.   j,  0.   +0.   j, -0.125+0.   j],\n",
       "       [ 0.   +0.   j,  0.   +0.   j,  0.   +0.   j,  0.   +0.125j],\n",
       "       [ 0.   +0.   j,  0.   +0.   j,  0.   +0.   j,  0.125+0.   j],\n",
       "       [ 0.   +0.   j,  0.   +0.   j,  0.   +0.   j, -0.   -0.125j],\n",
       "       [ 0.   +0.   j,  0.   +0.   j,  0.   +0.   j,  0.   +0.125j],\n",
       "       [ 0.   +0.   j,  0.   +0.   j,  0.   +0.   j,  0.   +0.125j],\n",
       "       [ 0.   +0.   j,  0.   +0.   j,  0.   +0.   j, -0.   -0.125j],\n",
       "       [ 0.   +0.   j,  0.   +0.   j,  0.   +0.   j, -0.   -0.125j],\n",
       "       [ 0.   +0.   j,  0.   +0.   j,  0.   +0.   j, -0.125+0.   j],\n",
       "       [ 0.   +0.   j,  0.   +0.   j,  0.   +0.   j, -0.   -0.125j],\n",
       "       [ 0.   +0.   j,  0.   +0.   j,  0.   +0.   j, -0.125+0.   j],\n",
       "       [ 0.   +0.   j,  0.   +0.   j,  0.   +0.   j, -0.   -0.125j],\n",
       "       [ 0.   +0.   j,  0.   +0.   j,  0.   +0.   j, -0.125+0.   j]])"
      ]
     },
     "execution_count": 41,
     "metadata": {},
     "output_type": "execute_result"
    }
   ],
   "source": []
  },
  {
   "cell_type": "code",
   "execution_count": 6,
   "metadata": {},
   "outputs": [],
   "source": [
    "def CE_beamforming(nb_elite,S,nb_iterate,model,nb_bit,nb_state,channel_index,SNR,archi):\n",
    "    \"\"\"\n",
    "    Hybrid beamforming by Cross-entropy method\n",
    "    \n",
    "    \"\"\"\n",
    "    Fopt, Wopt = model['Fopt'][:,:,channel_index],model['Wopt'][:,:,channel_index]\n",
    "    if archi == 'FC':\n",
    "        ps_system_proba = np.ones((model['Nt'],model['Nrf'],nb_state))*(1/nb_state)\n",
    "#         proba_evo = np.copy(ps_system_proba[0,0,:])\n",
    "    elif archi == 'PC':\n",
    "        ps_system_proba = np.ones((model['Nt'],nb_state))*(1/nb_state)\n",
    "#         proba_evo = np.copy(ps_system_proba[0,:])\n",
    "#     print(ps_system_proba)\n",
    "    relative_std = 1000 # initialize high value of relative standard deviation\n",
    "    i = 0\n",
    "    while ((i<nb_iterate) and (relative_std>3)):\n",
    "#         print(i)\n",
    "        F_rf = generate_candidat(S,model,phase_value,ps_system_proba,archi)\n",
    "        F_bb = compute_Fbb(F_rf,model,model['H'][:,:,channel_index])\n",
    "        R = np.zeros((S))\n",
    "        for j in range(S):\n",
    "            R[j] = data_rate(model['Ns'],SNR,Wopt,model['H'][:,:,channel_index],F_rf[j,:,:]@F_bb[j,:,:])\n",
    "        R_sort_index = np.argsort(R)[::-1][:nb_elite]\n",
    "        if i==0:\n",
    "            R_max = R[R_sort_index[0]]\n",
    "        else:\n",
    "            R_max = np.append(R_max,R[R_sort_index[0]])\n",
    "        F_elites = F_rf[R_sort_index,:,:]\n",
    "        Frf_max = F_rf[R_sort_index[0],:,:]\n",
    "        Fbb_max = F_bb[R_sort_index[0],:,:]\n",
    "        ps_system_proba = update_pmf(F_elites,phase_value,nb_elite,R[R_sort_index],ps_system_proba,archi)\n",
    "#         if archi == 'FC':\n",
    "#             proba_evo = np.vstack((proba_evo,ps_system_proba[0,0,:]))\n",
    "#         elif archi == 'PC':\n",
    "#             proba_evo = np.vstack((proba_evo,ps_system_proba[0,:]))\n",
    "        if i>=5:\n",
    "            R_max_normalize = R_max-np.min(R_max) ## Need to review\n",
    "            relative_std = 100*np.std(R_max_normalize[i-5:i])/np.mean(R_max_normalize[i-5:i])\n",
    "#             print(relative_std)\n",
    "        i +=1\n",
    "    output = {}\n",
    "    output['R_max'] = R_max\n",
    "    output['Frf_max'] = Frf_max\n",
    "    output['Fbb_max'] = Fbb_max\n",
    "    output['nb_ite'] = i\n",
    "#     output['proba_evo'] = proba_evo\n",
    "    output['ps_system_proba'] = ps_system_proba\n",
    "    return output"
   ]
  },
  {
   "cell_type": "code",
   "execution_count": 7,
   "metadata": {},
   "outputs": [],
   "source": [
    "nb_elite = 40\n",
    "S = 200\n",
    "channel_index = 0\n",
    "nb_iterate = 30\n",
    "# if archi == 'FC':\n",
    "#     ps_system_proba = np.ones((model['Nt'],model['Nrf'],nb_state))*(1/nb_state)\n",
    "# elif archi == 'PC':\n",
    "#     ps_system_proba = np.ones((model['Nt'],nb_state))*(1/nb_state)\n",
    "SNR_dB = np.arange(-30,15,5)\n",
    "# SNR = 10**(SNR_dB/10)\n",
    "# SNR = 10**(10/10)\n",
    "# smax = SNR.shape[0]"
   ]
  },
  {
   "cell_type": "code",
   "execution_count": 91,
   "metadata": {
    "scrolled": true
   },
   "outputs": [
    {
     "name": "stdout",
     "output_type": "stream",
     "text": [
      "index: 0\n",
      "[ 0.08345036  0.25685648  0.75293114  1.98849104  4.49094549  8.54930829\n",
      " 13.93186645 20.08067553 26.55394483]\n",
      "index: 1\n",
      "[ 0.12005994  0.36830845  1.06988133  2.76698812  6.01008326 10.83501222\n",
      " 16.71668845 23.08923937 29.64360316]\n",
      "index: 2\n",
      "[ 0.0713214   0.22190192  0.66869533  1.85974478  4.44482126  8.73237974\n",
      " 14.32326642 20.5785465  27.09230135]\n",
      "index: 3\n",
      "[ 0.10846691  0.3321507   0.9607883   2.4694792   5.3561104   9.76385798\n",
      " 15.35925399 21.60212689 28.10949307]\n",
      "index: 4\n",
      "[ 0.1400592   0.4208982   1.16768626  2.82513655  5.82448599 10.31144845\n",
      " 15.95738927 22.22355194 28.73946963]\n"
     ]
    }
   ],
   "source": [
    "rate_CE_PC = np.zeros((SNR_dB.shape[0]))\n",
    "sum_rate_CE_PC = np.zeros((SNR_dB.shape[0]))\n",
    "for channel_index in range(5):\n",
    "    print('index: ' + str(channel_index))\n",
    "    CE_result = CE_beamforming(nb_elite,S,nb_iterate,model,nb_bit,nb_state,channel_index,10**(10/10),'PC')\n",
    "    for i in range(SNR_dB.shape[0]):\n",
    "        rate_CE_PC[i] = data_rate(model['Ns'],10**(SNR_dB[i]/10),model['Wopt'][:,:,channel_index],model['H'][:,:,channel_index],CE_result['Frf_max']@CE_result['Fbb_max'])\n",
    "    sum_rate_CE_PC = sum_rate_CE_PC + rate_CE_PC\n",
    "    print(rate_CE_PC)"
   ]
  },
  {
   "cell_type": "code",
   "execution_count": 29,
   "metadata": {},
   "outputs": [
    {
     "name": "stdout",
     "output_type": "stream",
     "text": [
      "index: 0\n",
      "[ 0.14690568  0.44721096  1.27633175  3.20983973  6.76310869 11.85490151\n",
      " 17.88231816 24.31289411 30.88717701]\n",
      "index: 1\n",
      "[ 0.18585249  0.56306519  1.58723019  3.89110098  7.89181363 13.30555333\n",
      " 19.48474925 25.97149081 32.56452574]\n"
     ]
    }
   ],
   "source": [
    "rate_CE_FC = np.zeros((SNR_dB.shape[0]))\n",
    "sum_rate_CE_FC = np.zeros((SNR_dB.shape[0]))\n",
    "for channel_index in range(2):\n",
    "    print('index: ' + str(channel_index))\n",
    "    CE_result = CE_beamforming(nb_elite,S,nb_iterate,model,nb_bit,nb_state,channel_index,10**(10/10),'FC')\n",
    "    for i in range(SNR_dB.shape[0]):\n",
    "        rate_CE_FC[i] = data_rate(model['Ns'],10**(SNR_dB[i]/10),model['Wopt'][:,:,channel_index],model['H'][:,:,channel_index],CE_result['Frf_max']@CE_result['Fbb_max'])\n",
    "    sum_rate_CE_FC = sum_rate_CE_FC + rate_CE_FC\n",
    "    print(rate_CE_FC)"
   ]
  },
  {
   "cell_type": "code",
   "execution_count": 31,
   "metadata": {},
   "outputs": [
    {
     "data": {
      "text/plain": [
       "array([  19.54922669,   58.2922556 ,  158.79208973,  369.28672871,\n",
       "        706.87896155, 1135.99094508, 1609.32176865, 2099.33372726,\n",
       "       2594.96375472])"
      ]
     },
     "execution_count": 31,
     "metadata": {},
     "output_type": "execute_result"
    }
   ],
   "source": [
    "sum_rate_CE_FC"
   ]
  },
  {
   "cell_type": "code",
   "execution_count": null,
   "metadata": {
    "scrolled": true
   },
   "outputs": [],
   "source": [
    "# Evolution of pmf of 1 phase shifter\n",
    "# np.around(CE_result['ps_system_proba'], decimals=3)"
   ]
  },
  {
   "cell_type": "code",
   "execution_count": null,
   "metadata": {},
   "outputs": [],
   "source": [
    "# print('Data rate evolution: ' + str(CE_result['R_max']))\n",
    "# plt.plot(CE_result['R_max'])\n",
    "# plt.title('data rate against iteration - 2 bits PS')\n",
    "# plt.ylabel('data rate (bps/Hz)')\n",
    "# plt.xlabel('iteration')\n",
    "# print('Number of iteration: ' + str(CE_result['nb_ite']))\n",
    "# print('Phase shifter pmf' + str(np.around(CE_result['proba_evo'], decimals=3)))"
   ]
  },
  {
   "cell_type": "markdown",
   "metadata": {},
   "source": [
    "Test:\n",
    "\n",
    "2 bits -- 17.56 bps/Hz - 16 iterate\n",
    "\n",
    "3 bits -- 17.68 bps/Hz - 18 iterate\n",
    "\n",
    "4 bits -- 17.71 bps/Hz - 18 iterate\n",
    "\n",
    "6 bits -- 17.68 bps/Hz - 19 iterate"
   ]
  },
  {
   "cell_type": "markdown",
   "metadata": {},
   "source": [
    "# Digital Beamforming"
   ]
  },
  {
   "cell_type": "code",
   "execution_count": 93,
   "metadata": {},
   "outputs": [
    {
     "data": {
      "text/plain": [
       "4"
      ]
     },
     "execution_count": 93,
     "metadata": {},
     "output_type": "execute_result"
    }
   ],
   "source": [
    "model['Ns']"
   ]
  },
  {
   "cell_type": "code",
   "execution_count": 38,
   "metadata": {},
   "outputs": [
    {
     "name": "stdout",
     "output_type": "stream",
     "text": [
      "Data rate by digital beamforming: 33.972702082410066\n"
     ]
    }
   ],
   "source": [
    "R_o = data_rate(model['Ns'],10**(10/10),model['Wopt'][:,:,0],model['H'][:,:,0],model['Fopt'][:,:,0])\n",
    "print('Data rate by digital beamforming: ' + str(R_o))"
   ]
  },
  {
   "cell_type": "code",
   "execution_count": null,
   "metadata": {},
   "outputs": [],
   "source": [
    "# Normalize condition\n",
    "x = np.linalg.norm(CE_result['Frf_max']@CE_result['Fbb_max'],'fro')\n",
    "print(\"Ns\", model['Ns'] , \"   Frobenius norm FRF*FBB=\", x**2)"
   ]
  },
  {
   "cell_type": "code",
   "execution_count": 95,
   "metadata": {},
   "outputs": [
    {
     "name": "stdout",
     "output_type": "stream",
     "text": [
      "index: 0\n",
      "[ 0.24317124  0.72501157  1.9764534   4.62237289  8.95660096 14.57909155\n",
      " 20.84951137 27.36889984 33.97270208]\n",
      "index: 1\n",
      "[ 0.3552594   1.04276617  2.7470846   6.07582505 11.03196503 17.00167637\n",
      " 23.41185005 29.97943359 36.59892032]\n",
      "index: 2\n",
      "[ 0.26007257  0.78174539  2.15954938  5.08385356  9.74546387 15.57563134\n",
      " 21.93407663 28.48437966 35.09830317]\n",
      "index: 3\n",
      "[ 0.39137026  1.12845176  2.87731198  6.14686846 10.96011163 16.82566136\n",
      " 23.19032616 29.7418145  36.3560219 ]\n",
      "index: 4\n",
      "[ 0.34164035  0.99726939  2.60796649  5.76089097 10.54360007 16.41655525\n",
      " 22.78832832 29.34276915 35.95799086]\n"
     ]
    }
   ],
   "source": [
    "digital_rate = np.zeros((SNR_dB.shape[0]))\n",
    "sum_digital_rate = np.zeros((SNR_dB.shape[0]))\n",
    "for channel_index in range(5):\n",
    "    print('index: ' + str(channel_index))\n",
    "    for i in range(SNR_dB.shape[0]):\n",
    "        digital_rate[i] = data_rate(model['Ns'],10**(SNR_dB[i]/10),model['Wopt'][:,:,channel_index],model['H'][:,:,channel_index],model['Fopt'][:,:,channel_index])\n",
    "    sum_digital_rate = sum_digital_rate + digital_rate\n",
    "    print(digital_rate)"
   ]
  },
  {
   "cell_type": "markdown",
   "metadata": {},
   "source": [
    "array([  19.54922669,   58.2922556 ,  158.79208973,  369.28672871,\n",
    "        706.87896155, 1135.99094508, 1609.32176865, 2099.33372726,\n",
    "       2594.96375472])"
   ]
  },
  {
   "cell_type": "code",
   "execution_count": 120,
   "metadata": {},
   "outputs": [],
   "source": [
    "OMP = np.array([ 0.22317937,  0.65307923,  1.7242831 ,  3.89130729,  7.38210255,\n",
    "       12.0446525 , 17.52735967, 23.49692577, 29.73026376])\n",
    "quan_OMP = np.array([ 0.15360772,  0.46233855,  1.28936884,  3.13826287,  6.41532018,\n",
    "       11.08009538, 16.72319897, 22.90968806, 29.3595054 ])"
   ]
  },
  {
   "cell_type": "code",
   "execution_count": 123,
   "metadata": {},
   "outputs": [
    {
     "data": {
      "image/png": "[encoded data removed]",
      "text/plain": [
       "<matplotlib.figure.Figure at 0x1d69637f3c8>"
      ]
     },
     "metadata": {},
     "output_type": "display_data"
    }
   ],
   "source": [
    "plt.plot(SNR_dB, sum_rate_CE_PC/5, label='gACE - Partial Connected Archi')\n",
    "plt.plot(SNR_dB, sum_rate_CE_FC/2, label='gACE - Fully Connected Archi')\n",
    "plt.plot(SNR_dB, sum_digital_rate/5, label='Optimal Precoder')\n",
    "plt.plot(SNR_dB, OMP, label='OMP Precoder')\n",
    "# plt.plot(SNR_dB, quan_OMP, label='quan_OMP')\n",
    "# plt.plot(SNR_dB, (sum_rate_CE_FC-sum_rate_CE_PC)/5, label='FC')\n",
    "plt.legend(loc='upper left')\n",
    "plt.xlabel('SNR(dB)')\n",
    "plt.ylabel('Spectral Efficiency (bits/s/Hz)')\n",
    "plt.grid()\n",
    "plt.show()"
   ]
  }
 ],
 "metadata": {
  "kernelspec": {
   "display_name": "Python 3",
   "language": "python",
   "name": "python3"
  },
  "language_info": {
   "codemirror_mode": {
    "name": "ipython",
    "version": 3
   },
   "file_extension": ".py",
   "mimetype": "text/x-python",
   "name": "python",
   "nbconvert_exporter": "python",
   "pygments_lexer": "ipython3",
   "version": "3.6.4"
  }
 },
 "nbformat": 4,
 "nbformat_minor": 2
}
