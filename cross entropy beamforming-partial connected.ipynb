{
 "cells": [
  {
   "cell_type": "markdown",
   "metadata": {},
   "source": [
    "- Load necessary module"
   ]
  },
  {
   "cell_type": "code",
   "execution_count": 21,
   "metadata": {},
   "outputs": [],
   "source": [
    "import scipy.io as io\n",
    "import numpy as np\n",
    "import matplotlib.pyplot as plt\n",
    "from scipy.stats import bernoulli\n",
    "from scipy.stats import multinomial\n",
    "from collections import OrderedDict"
   ]
  },
  {
   "cell_type": "markdown",
   "metadata": {},
   "source": [
    "- Load model that defined in channel realization"
   ]
  },
  {
   "cell_type": "code",
   "execution_count": 40,
   "metadata": {},
   "outputs": [],
   "source": [
    "np.random.seed(1)\n",
    "mat = io.loadmat('temp.mat')\n",
    "model = {}\n",
    "model['H'] = mat['H']\n",
    "model['Wopt'] = mat['Wopt']\n",
    "model['Fopt'] = mat['Fopt']\n",
    "model['Ns'] = mat['Ns'][0,0] ## need to change nb of stream in channel realization, this case 1\n",
    "# model['Ns'] = 2\n",
    "model['Nt'] = mat['Nt'][0,0]\n",
    "model['Nr'] = mat['Nr'][0,0]\n",
    "model['Nc'] = mat['Nc'][0,0]\n",
    "model['Nray'] = mat['Nray'][0,0]\n",
    "model['realization'] = mat['realization'][0,0]\n",
    "model['At'] = mat['At']\n",
    "model['Ar'] = mat['Ar']\n",
    "model['Nrf'] = 2\n",
    "archi = 'FC'"
   ]
  },
  {
   "cell_type": "code",
   "execution_count": 23,
   "metadata": {
    "scrolled": true
   },
   "outputs": [
    {
     "name": "stdout",
     "output_type": "stream",
     "text": [
      "H\n",
      "Wopt\n",
      "Fopt\n",
      "Ns\n",
      "Nt\n",
      "Nr\n",
      "Nc\n",
      "Nray\n",
      "realization\n",
      "At\n",
      "Ar\n",
      "Nrf\n"
     ]
    }
   ],
   "source": [
    "for key in model:\n",
    "    print(key)"
   ]
  },
  {
   "cell_type": "markdown",
   "metadata": {},
   "source": [
    "Load values of phase shifter included:\n",
    "- nb_bit: number of bit\n",
    "- nb_ps: number of phase shifter in the system\n",
    "- nb_state: number of state in each phase shifter (2^nb_bit)"
   ]
  },
  {
   "cell_type": "markdown",
   "metadata": {},
   "source": [
    "# Cross Entropy Beamforming"
   ]
  },
  {
   "cell_type": "markdown",
   "metadata": {},
   "source": [
    "### Helper function for Cross entropy Beamforming"
   ]
  },
  {
   "cell_type": "code",
   "execution_count": 24,
   "metadata": {},
   "outputs": [],
   "source": [
    "def phase_shifter(n_bit,n_ant):\n",
    "    \"\"\"\n",
    "    Define phase shifter with N bits resolution\n",
    "    \n",
    "    Arguments:\n",
    "    N -- number of bits resolutions\n",
    "    \n",
    "    Returns:\n",
    "    y -- python dictionnary of phase shifter: index of state and value of phase\n",
    "    \"\"\"\n",
    "    nb_state = 2**n_bit\n",
    "    w = np.exp(1j*2*np.pi/nb_state)\n",
    "    ps = np.zeros(nb_state,dtype=complex)\n",
    "    for i in range(nb_state):\n",
    "        ps[i] = w**i/np.sqrt(n_ant)\n",
    "    return np.around(ps, decimals=3)\n",
    "\n",
    "def generate_candidat(S,model,phase_value,ps_system_proba,archi):\n",
    "    \"\"\"\n",
    "    generate S candidates from the previous pmf\n",
    "    \n",
    "    Arguments: \n",
    "    S -- Number of candidates to generate\n",
    "    model -- channel model\n",
    "    phase_value -- possible phase shifted value\n",
    "    ps_system_proba -- pmf of phase shifters\n",
    "    \n",
    "    Returns\n",
    "    F_rf -- S analog precoder system\n",
    "    \"\"\"\n",
    "    F_rf = np.zeros((S,model['Nt'],model['Nrf']),dtype=complex)\n",
    "    if archi == 'FC':\n",
    "        for i in range(S):\n",
    "            for j in range(model['Nt']):\n",
    "                for k in range(model['Nrf']):\n",
    "                    F_rf[i,j,k] = np.random.choice(phase_value, 1, p=ps_system_proba[j,k,:])\n",
    "    if archi == 'PC':\n",
    "        only_PS = np.zeros((S,model['Nt']),dtype=complex)\n",
    "        m = int(model['Nt']/model['Nrf'])\n",
    "        for i in range(S):\n",
    "            for j in range(model['Nt']):\n",
    "                only_PS[i,j] = np.random.choice(phase_value, 1, p=ps_system_proba[j,:])\n",
    "            for k in range(model['Nrf']):\n",
    "                F_rf[i,k*m:(k+1)*m,k] = only_PS[i,k*m:(k+1)*m]\n",
    "    return F_rf\n",
    "\n",
    "def compute_Fbb(F_rf,model,channel):\n",
    "    \"\"\"\n",
    "    Compute baseband precoder base on the effective channel (Heq = H*Frf)\n",
    "    \n",
    "    Arguments:\n",
    "    F_rf -- analog precoder\n",
    "    model -- channel model\n",
    "    \n",
    "    Returns:\n",
    "    F_bb -- S baseband precoder\n",
    "    \"\"\"\n",
    "    S = F_rf.shape[0]\n",
    "    channel_eq = np.zeros((S,model['Nr'],model['Nrf']),dtype=complex)\n",
    "    F_bb = np.zeros((S,model['Nrf'],model['Ns']),dtype=complex)\n",
    "#     channel_index = 0 ### need to adjust \n",
    "    for i in range(S):\n",
    "        channel_eq[i,:,:] =  channel@F_rf[i,:,:]\n",
    "        U, s, V = np.linalg.svd(channel_eq[i,:,:], full_matrices=True)\n",
    "        V = V.conj().T\n",
    "        F_bb[i,:,:] = V[0:model['Nt'],0:model['Ns']]\n",
    "        F_bb[i,:,:] = np.sqrt(model['Ns'])*F_bb[i,:,:]/np.linalg.norm(F_rf[i,:,:]@F_bb[i,:,:],'fro')\n",
    "    return F_bb\n",
    "\n",
    "def optimal_beamformer(model, channel):\n",
    "    \"\"\"\n",
    "    Compute the optimal beamformer by SVD\n",
    "    \n",
    "    Arguments:\n",
    "    model -- channel model\n",
    "    channel_index -- index in 1000 realization channel\n",
    "    \n",
    "    Returns:\n",
    "    Fopt -- optimal precoder\n",
    "    Wopt -- optimal combiner\n",
    "    \"\"\"\n",
    "    Wopt = np.zeros((model['Nr'],model['Ns']),dtype=complex)\n",
    "    Fopt = np.zeros((model['Nt'],model['Ns']),dtype=complex)\n",
    "    U, s, V = np.linalg.svd(channel, full_matrices=True)\n",
    "    V = V.conj().T\n",
    "    Fopt = V[0:model['Nt'],0:model['Ns']]\n",
    "    Wopt = U[0:model['Nr'],0:model['Ns']]\n",
    "    return Fopt, Wopt\n",
    "\n",
    "\n",
    "def update_pmf(F_elites,phase_value,nb_elite,R_elite,ps_system_proba,archi):\n",
    "    \"\"\"\n",
    "    Update new phase shifters's pmf base on previous candidates's results\n",
    "    \n",
    "    Arguments:\n",
    "    F_elites -- elites analog precoder\n",
    "    phase_value -- phase shift value\n",
    "    nb_elite -- number of elites \n",
    "    \n",
    "    Returns:\n",
    "    ps_system_proba -- pmf of phase shifter\n",
    "    \"\"\"\n",
    "    alpha = 0.9\n",
    "    nb_state = phase_value.shape[0]\n",
    "    stat_count = np.zeros(nb_state)\n",
    "    assign = np.zeros(nb_elite)\n",
    "    weight = R_elite/np.mean(R_elite)\n",
    "    if archi == 'FC':\n",
    "        for i in range(model['Nt']):\n",
    "            for j in range(model['Nrf']):\n",
    "                for k in range(nb_state):\n",
    "                    assign = F_elites[:,i,j] == phase_value[k]\n",
    "    #                 proba_est = np.sum(assign*weight)/nb_elite\n",
    "                    proba_est = np.sum(assign)/nb_elite\n",
    "                    ps_system_proba[i,j,k] = alpha*proba_est + (1-alpha)*ps_system_proba[i,j,k] \n",
    "    if archi == 'PC':\n",
    "        for i in range(model['Nt']):\n",
    "            for k in range(nb_state):\n",
    "                assign = F_elites[:,i] == phase_value[k]\n",
    "    #                 proba_est = np.sum(assign*weight)/nb_elite\n",
    "                proba_est = np.sum(assign)/nb_elite\n",
    "                ps_system_proba[i,k] = alpha*proba_est + (1-alpha)*ps_system_proba[i,k]   \n",
    "    return ps_system_proba\n",
    "\n",
    "def data_rate(Ns,SNR,W,H,F):\n",
    "    \"\"\"\n",
    "    Compute the data rate of the beamforming system\n",
    "    \n",
    "    Arguments:\n",
    "    Ns -- number of stream\n",
    "    SNR -- Signal to noise ratio\n",
    "    W -- combiner\n",
    "    H -- channel\n",
    "    F -- precoder\n",
    "    \n",
    "    Returns:\n",
    "    R -- data rate\n",
    "    \"\"\"\n",
    "    R = np.log2(np.linalg.det(np.eye(Ns)+SNR/Ns*np.linalg.pinv(W)@H@F@F.conj().T@H.conj().T@W))\n",
    "    return R.real"
   ]
  },
  {
   "cell_type": "markdown",
   "metadata": {},
   "source": [
    "### Define Phase shiter"
   ]
  },
  {
   "cell_type": "code",
   "execution_count": 25,
   "metadata": {},
   "outputs": [],
   "source": [
    "nb_bit = 2\n",
    "nb_ps = model['Nt']*model['Nrf']\n",
    "nb_ps\n",
    "nb_state = 2**nb_bit"
   ]
  },
  {
   "cell_type": "code",
   "execution_count": 26,
   "metadata": {},
   "outputs": [
    {
     "data": {
      "text/plain": [
       "array([ 0.125+0.   j,  0.   +0.125j, -0.125+0.   j, -0.   -0.125j])"
      ]
     },
     "execution_count": 26,
     "metadata": {},
     "output_type": "execute_result"
    }
   ],
   "source": [
    "phase_value = phase_shifter(nb_bit,model['Nt'])\n",
    "phase_value"
   ]
  },
  {
   "cell_type": "markdown",
   "metadata": {},
   "source": [
    "Phase shifter system dimension is: NtxNrfxN_state"
   ]
  },
  {
   "cell_type": "markdown",
   "metadata": {},
   "source": [
    "### Cross entropy beamforming Algorithm\n",
    " Step 1: Randomly generate S candidate analog beamformers\n",
    "\n",
    " Step 2: Compute S corresponding digital precoders Fbb based on the effective channel Heq = HFrf\n",
    "\n",
    " Step 3: Calculate the achievable sum-rate\n",
    "\n",
    " Step 4: Sort R in a descend order\n",
    "\n",
    " Step 5: Select elites as Frf_1, Frf_2, ..., Frf_elite\n",
    "\n",
    " Step 6: Update new pmf for each phase shifter"
   ]
  },
  {
   "cell_type": "code",
   "execution_count": 7,
   "metadata": {},
   "outputs": [],
   "source": [
    "# channel_index = 0\n",
    "# model['Fopt'], model['Wopt'] = optimal_beamformer(model,channel_index)\n"
   ]
  },
  {
   "cell_type": "code",
   "execution_count": 73,
   "metadata": {},
   "outputs": [],
   "source": [
    "def CE_beamforming(nb_elite,S,nb_iterate,model,nb_bit,nb_state,channel_index,SNR,archi):\n",
    "    \"\"\"\n",
    "    Hybrid beamforming by Cross-entropy method\n",
    "    \n",
    "    \"\"\"\n",
    "    Fopt, Wopt = model['Fopt'][:,:,channel_index],model['Wopt'][:,:,channel_index]\n",
    "    if archi == 'FC':\n",
    "        ps_system_proba = np.ones((model['Nt'],model['Nrf'],nb_state))*(1/nb_state)\n",
    "#         proba_evo = np.copy(ps_system_proba[0,0,:])\n",
    "    elif archi == 'PC':\n",
    "        ps_system_proba = np.ones((model['Nt'],nb_state))*(1/nb_state)\n",
    "#         proba_evo = np.copy(ps_system_proba[0,:])\n",
    "#     print(ps_system_proba)\n",
    "    relative_std = 1000 # initialize high value of relative standard deviation\n",
    "    i = 0\n",
    "    while ((i<nb_iterate) and (relative_std>3)):\n",
    "#         print(i)\n",
    "        F_rf = generate_candidat(S,model,phase_value,ps_system_proba,archi)\n",
    "        F_bb = compute_Fbb(F_rf,model,model['H'][:,:,channel_index])\n",
    "        R = np.zeros((S))\n",
    "        for j in range(S):\n",
    "            R[j] = data_rate(model['Ns'],SNR,Wopt,model['H'][:,:,channel_index],F_rf[j,:,:]@F_bb[j,:,:])\n",
    "        R_sort_index = np.argsort(R)[::-1][:nb_elite]\n",
    "        if i==0:\n",
    "            R_max = R[R_sort_index[0]]\n",
    "        else:\n",
    "            R_max = np.append(R_max,R[R_sort_index[0]])\n",
    "        F_elites = F_rf[R_sort_index,:,:]\n",
    "        Frf_max = F_rf[R_sort_index[0],:,:]\n",
    "        Fbb_max = F_bb[R_sort_index[0],:,:]\n",
    "        ps_system_proba = update_pmf(F_elites,phase_value,nb_elite,R[R_sort_index],ps_system_proba,archi)\n",
    "#         if archi == 'FC':\n",
    "#             proba_evo = np.vstack((proba_evo,ps_system_proba[0,0,:]))\n",
    "#         elif archi == 'PC':\n",
    "#             proba_evo = np.vstack((proba_evo,ps_system_proba[0,:]))\n",
    "        if i>=5:\n",
    "            R_max_normalize = R_max-np.min(R_max) ## Need to review\n",
    "            relative_std = 100*np.std(R_max_normalize[i-5:i])/np.mean(R_max_normalize[i-5:i])\n",
    "#             print(relative_std)\n",
    "        i +=1\n",
    "    output = {}\n",
    "    output['R_max'] = R_max\n",
    "    output['Frf_max'] = Frf_max\n",
    "    output['Fbb_max'] = Fbb_max\n",
    "    output['nb_ite'] = i\n",
    "#     output['proba_evo'] = proba_evo\n",
    "    output['ps_system_proba'] = ps_system_proba\n",
    "    return output"
   ]
  },
  {
   "cell_type": "code",
   "execution_count": 161,
   "metadata": {},
   "outputs": [],
   "source": [
    "nb_elite = 40\n",
    "S = 200\n",
    "channel_index = 0\n",
    "nb_iterate = 30\n",
    "# if archi == 'FC':\n",
    "#     ps_system_proba = np.ones((model['Nt'],model['Nrf'],nb_state))*(1/nb_state)\n",
    "# elif archi == 'PC':\n",
    "#     ps_system_proba = np.ones((model['Nt'],nb_state))*(1/nb_state)\n",
    "SNR_dB = np.arange(-30,15,5)\n",
    "# SNR = 10**(SNR_dB/10)\n",
    "# SNR = 10**(10/10)\n",
    "# smax = SNR.shape[0]"
   ]
  },
  {
   "cell_type": "code",
   "execution_count": 95,
   "metadata": {},
   "outputs": [
    {
     "data": {
      "text/plain": [
       "11.572286579376094"
      ]
     },
     "execution_count": 95,
     "metadata": {},
     "output_type": "execute_result"
    }
   ],
   "source": [
    "data_rate(model['Ns'],10**(10/10),model['Wopt'][:,:,0],model['H'][:,:,channel_index],test['Frf_max']@test['Fbb_max'])"
   ]
  },
  {
   "cell_type": "code",
   "execution_count": 162,
   "metadata": {},
   "outputs": [
    {
     "data": {
      "text/plain": [
       "array([-30, -25, -20, -15, -10,  -5,   0,   5,  10])"
      ]
     },
     "execution_count": 162,
     "metadata": {},
     "output_type": "execute_result"
    }
   ],
   "source": [
    "SNR_dB"
   ]
  },
  {
   "cell_type": "code",
   "execution_count": 75,
   "metadata": {},
   "outputs": [
    {
     "data": {
      "text/plain": [
       "array([ 9.00061469,  9.11674506,  9.19418111,  9.43042221,  9.83057727,\n",
       "        9.94216701, 10.32700815, 10.57002158, 10.78025141, 10.83176591,\n",
       "       11.04114858, 11.16978164, 11.29842888, 11.37502188, 11.4456515 ,\n",
       "       11.50933022, 11.5591301 , 11.56912152, 11.57228658])"
      ]
     },
     "execution_count": 75,
     "metadata": {},
     "output_type": "execute_result"
    }
   ],
   "source": [
    "test['R_max']"
   ]
  },
  {
   "cell_type": "code",
   "execution_count": 74,
   "metadata": {},
   "outputs": [],
   "source": [
    "test = CE_beamforming(nb_elite,S,nb_iterate,model,nb_bit,nb_state,0,SNR,'PC')"
   ]
  },
  {
   "cell_type": "code",
   "execution_count": 159,
   "metadata": {
    "scrolled": true
   },
   "outputs": [
    {
     "name": "stdout",
     "output_type": "stream",
     "text": [
      "index: 0\n",
      "[0.12987122 0.37615032 0.95751369 1.9923116  3.38122836 4.94426809\n",
      " 6.57282946 8.22339355 9.88105318]\n",
      "index: 1\n",
      "[0.07554852 0.22651977 0.62069529 1.43300813 2.67268792 4.16999809\n",
      " 5.7750928  7.41792945 9.07311338]\n",
      "index: 2\n",
      "[0.13257368 0.38334391 0.97267501 2.01564613 3.40935835 4.97435326\n",
      " 6.60359075 8.25437501 9.91210492]\n",
      "index: 3\n",
      "[0.10120705 0.29842895 0.78802206 1.72161093 3.04737353 4.58378661\n",
      " 6.20301616 7.85052732 9.50721095]\n",
      "index: 4\n",
      "[0.10800277 0.31709602 0.82972955 1.7900227  3.13315602 4.67705903\n",
      " 6.29893713 7.94731744 9.60427921]\n"
     ]
    }
   ],
   "source": [
    "rate_CE_PC = np.zeros((SNR_dB.shape[0]))\n",
    "sum_rate_CE_PC = np.zeros((SNR_dB.shape[0]))\n",
    "for channel_index in range(5):\n",
    "    print('index: ' + str(channel_index))\n",
    "    CE_result = CE_beamforming(nb_elite,S,nb_iterate,model,nb_bit,nb_state,channel_index,10**(10/10),'PC')\n",
    "    for i in range(SNR_dB.shape[0]):\n",
    "        rate_CE_PC[i] = data_rate(model['Ns'],10**(SNR_dB[i]/10),model['Wopt'][:,:,channel_index],model['H'][:,:,channel_index],CE_result['Frf_max']@CE_result['Fbb_max'])\n",
    "    sum_rate_CE_PC = sum_rate_CE_PC + rate_CE_PC\n",
    "    print(rate_CE_PC)"
   ]
  },
  {
   "cell_type": "code",
   "execution_count": null,
   "metadata": {},
   "outputs": [
    {
     "name": "stdout",
     "output_type": "stream",
     "text": [
      "index: 0\n",
      "[ 0.38554521  0.97729785  2.02273491  3.41788553  4.98346512  6.61290455\n",
      "  8.26375455  9.92150545 11.58145192]\n",
      "index: 1\n",
      "[ 0.25445995  0.68703286  1.55035459  2.82775593  4.34261958  5.95412405\n",
      "  7.59908802  9.25495525 10.91430378]\n",
      "index: 2\n",
      "[ 0.45156309  1.11250249  2.22503148  3.65787293  5.23848538  6.87307957\n",
      "  8.52560342 10.18388813 11.84400386]\n",
      "index: 3\n"
     ]
    }
   ],
   "source": [
    "rate_CE_FC = np.zeros((SNR_dB.shape[0]))\n",
    "sum_rate_CE_FC = np.zeros((SNR_dB.shape[0]))\n",
    "for channel_index in range(5):\n",
    "    print('index: ' + str(channel_index))\n",
    "    CE_result = CE_beamforming(nb_elite,S,nb_iterate,model,nb_bit,nb_state,channel_index,10**(10/10),'FC')\n",
    "    for i in range(SNR_dB.shape[0]):\n",
    "        rate_CE_FC[i] = data_rate(model['Ns'],10**(SNR_dB[i]/10),model['Wopt'][:,:,channel_index],model['H'][:,:,channel_index],CE_result['Frf_max']@CE_result['Fbb_max'])\n",
    "    sum_rate_CE_FC = sum_rate_CE_FC + sum_rate_CE_FC\n",
    "    print(rate_CE_FC)"
   ]
  },
  {
   "cell_type": "code",
   "execution_count": 150,
   "metadata": {},
   "outputs": [
    {
     "data": {
      "image/png": "[encoded data removed]",
      "text/plain": [
       "<matplotlib.figure.Figure at 0x1cee154a748>"
      ]
     },
     "metadata": {},
     "output_type": "display_data"
    }
   ],
   "source": [
    "plt.plot(SNR_dB, sum_rate_CE/5, label='test')\n",
    "plt.legend(loc='upper left')\n",
    "plt.xlabel('SNR(dB)')\n",
    "plt.ylabel('Spectral Efficiency (bits/s/Hz)')\n",
    "plt.grid()\n",
    "plt.show()"
   ]
  },
  {
   "cell_type": "code",
   "execution_count": 15,
   "metadata": {
    "scrolled": true
   },
   "outputs": [
    {
     "data": {
      "text/plain": [
       "array([[0.15 , 0.795, 0.   , 0.056],\n",
       "       [1.   , 0.   , 0.   , 0.   ],\n",
       "       [0.   , 0.   , 0.001, 0.999],\n",
       "       [1.   , 0.   , 0.   , 0.   ],\n",
       "       [0.   , 0.083, 0.359, 0.558],\n",
       "       [0.   , 1.   , 0.   , 0.   ],\n",
       "       [0.   , 1.   , 0.   , 0.   ],\n",
       "       [1.   , 0.   , 0.   , 0.   ],\n",
       "       [0.   , 0.   , 0.439, 0.561],\n",
       "       [0.   , 0.   , 1.   , 0.   ],\n",
       "       [0.   , 0.07 , 0.93 , 0.   ],\n",
       "       [0.   , 1.   , 0.   , 0.   ],\n",
       "       [0.016, 0.984, 0.   , 0.   ],\n",
       "       [1.   , 0.   , 0.   , 0.   ],\n",
       "       [0.123, 0.   , 0.005, 0.872],\n",
       "       [0.   , 0.   , 0.84 , 0.16 ],\n",
       "       [0.   , 1.   , 0.   , 0.   ],\n",
       "       [0.001, 0.999, 0.   , 0.   ],\n",
       "       [1.   , 0.   , 0.   , 0.   ],\n",
       "       [1.   , 0.   , 0.   , 0.   ],\n",
       "       [0.004, 0.996, 0.   , 0.   ],\n",
       "       [1.   , 0.   , 0.   , 0.   ],\n",
       "       [0.972, 0.028, 0.   , 0.   ],\n",
       "       [1.   , 0.   , 0.   , 0.   ],\n",
       "       [0.   , 1.   , 0.   , 0.   ],\n",
       "       [1.   , 0.   , 0.   , 0.   ],\n",
       "       [0.   , 0.   , 1.   , 0.   ],\n",
       "       [0.   , 0.   , 0.   , 1.   ],\n",
       "       [0.   , 0.   , 0.378, 0.622],\n",
       "       [0.   , 0.   , 0.   , 1.   ],\n",
       "       [0.   , 0.   , 1.   , 0.   ],\n",
       "       [0.   , 0.087, 0.913, 0.   ],\n",
       "       [0.   , 0.   , 0.   , 1.   ],\n",
       "       [0.   , 0.   , 0.997, 0.003],\n",
       "       [0.   , 0.   , 0.892, 0.108],\n",
       "       [0.   , 0.   , 0.997, 0.003],\n",
       "       [0.   , 0.003, 0.997, 0.   ],\n",
       "       [0.   , 0.   , 1.   , 0.   ],\n",
       "       [0.   , 0.991, 0.009, 0.   ],\n",
       "       [0.   , 0.003, 0.   , 0.997],\n",
       "       [0.108, 0.01 , 0.03 , 0.852],\n",
       "       [0.   , 0.   , 0.   , 1.   ],\n",
       "       [0.919, 0.081, 0.   , 0.   ],\n",
       "       [0.   , 0.   , 0.967, 0.033],\n",
       "       [0.   , 1.   , 0.   , 0.   ],\n",
       "       [1.   , 0.   , 0.   , 0.   ],\n",
       "       [1.   , 0.   , 0.   , 0.   ],\n",
       "       [0.003, 0.   , 0.   , 0.997],\n",
       "       [0.   , 1.   , 0.   , 0.   ],\n",
       "       [0.   , 0.   , 1.   , 0.   ],\n",
       "       [0.   , 0.023, 0.977, 0.   ],\n",
       "       [0.023, 0.977, 0.   , 0.   ],\n",
       "       [1.   , 0.   , 0.   , 0.   ],\n",
       "       [0.   , 0.   , 0.   , 1.   ],\n",
       "       [0.   , 0.   , 1.   , 0.   ],\n",
       "       [0.   , 0.   , 1.   , 0.   ],\n",
       "       [0.031, 0.969, 0.   , 0.   ],\n",
       "       [1.   , 0.   , 0.   , 0.   ],\n",
       "       [1.   , 0.   , 0.   , 0.   ],\n",
       "       [0.   , 0.   , 0.   , 1.   ],\n",
       "       [0.003, 0.   , 0.   , 0.997],\n",
       "       [0.813, 0.006, 0.   , 0.18 ],\n",
       "       [0.997, 0.003, 0.   , 0.   ],\n",
       "       [0.014, 0.   , 0.   , 0.986]])"
      ]
     },
     "execution_count": 15,
     "metadata": {},
     "output_type": "execute_result"
    }
   ],
   "source": [
    "# Evolution of pmf of 1 phase shifter\n",
    "np.around(CE_result['ps_system_proba'], decimals=3)"
   ]
  },
  {
   "cell_type": "code",
   "execution_count": 16,
   "metadata": {},
   "outputs": [
    {
     "name": "stdout",
     "output_type": "stream",
     "text": [
      "Data rate evolution: [12.23867096 12.27597053 13.17645162 14.11500101 14.47453745 15.16455224\n",
      " 15.58488354 15.97411588 16.37816747 16.63764473 16.95175092 17.05461886\n",
      " 17.22186491 17.25692882 17.36881351 17.4355577  17.47026738]\n",
      "Number of iteration: 17\n",
      "Phase shifter pmf[[0.25  0.25  0.25  0.25 ]\n",
      " [0.318 0.205 0.25  0.228]\n",
      " [0.279 0.2   0.205 0.315]\n",
      " [0.253 0.2   0.156 0.392]\n",
      " [0.205 0.2   0.218 0.377]\n",
      " [0.178 0.245 0.112 0.465]\n",
      " [0.243 0.407 0.079 0.272]\n",
      " [0.227 0.423 0.098 0.252]\n",
      " [0.248 0.38  0.077 0.295]\n",
      " [0.227 0.465 0.03  0.277]\n",
      " [0.18  0.497 0.026 0.298]\n",
      " [0.153 0.612 0.003 0.232]\n",
      " [0.173 0.624 0.    0.203]\n",
      " [0.13  0.715 0.    0.155]\n",
      " [0.103 0.701 0.    0.196]\n",
      " [0.1   0.745 0.    0.155]\n",
      " [0.145 0.75  0.    0.105]\n",
      " [0.15  0.795 0.    0.056]]\n"
     ]
    },
    {
     "data": {
      "image/png": "[encoded data removed]",
      "text/plain": [
       "<matplotlib.figure.Figure at 0x7fe880e16400>"
      ]
     },
     "metadata": {},
     "output_type": "display_data"
    }
   ],
   "source": [
    "print('Data rate evolution: ' + str(CE_result['R_max']))\n",
    "plt.plot(CE_result['R_max'])\n",
    "plt.title('data rate against iteration - 2 bits PS')\n",
    "plt.ylabel('data rate (bps/Hz)')\n",
    "plt.xlabel('iteration')\n",
    "print('Number of iteration: ' + str(CE_result['nb_ite']))\n",
    "print('Phase shifter pmf' + str(np.around(CE_result['proba_evo'], decimals=3)))"
   ]
  },
  {
   "cell_type": "markdown",
   "metadata": {},
   "source": [
    "Test:\n",
    "\n",
    "2 bits -- 17.56 bps/Hz - 16 iterate\n",
    "\n",
    "3 bits -- 17.68 bps/Hz - 18 iterate\n",
    "\n",
    "4 bits -- 17.71 bps/Hz - 18 iterate\n",
    "\n",
    "6 bits -- 17.68 bps/Hz - 19 iterate"
   ]
  },
  {
   "cell_type": "markdown",
   "metadata": {},
   "source": [
    "# Digital Beamforming"
   ]
  },
  {
   "cell_type": "code",
   "execution_count": 17,
   "metadata": {},
   "outputs": [
    {
     "data": {
      "text/plain": [
       "(18, 4)"
      ]
     },
     "execution_count": 17,
     "metadata": {},
     "output_type": "execute_result"
    }
   ],
   "source": [
    "CE_result['proba_evo'].shape"
   ]
  },
  {
   "cell_type": "code",
   "execution_count": 18,
   "metadata": {},
   "outputs": [
    {
     "name": "stdout",
     "output_type": "stream",
     "text": [
      "Data rate by digital beamforming: 20.272395739424006\n"
     ]
    }
   ],
   "source": [
    "R_o = data_rate(model['Ns'],SNR,model['Wopt'],model['H'][:,:,channel_index],model['Fopt'])\n",
    "print('Data rate by digital beamforming: ' + str(R_o))"
   ]
  },
  {
   "cell_type": "code",
   "execution_count": 19,
   "metadata": {},
   "outputs": [
    {
     "name": "stdout",
     "output_type": "stream",
     "text": [
      "Ns 2    Frobenius norm FRF*FBB= 2.000000000000001\n"
     ]
    }
   ],
   "source": [
    "# Normalize condition\n",
    "x = np.linalg.norm(CE_result['Frf_max']@CE_result['Fbb_max'],'fro')\n",
    "print(\"Ns\", model['Ns'] , \"   Frobenius norm FRF*FBB=\", x**2)"
   ]
  }
 ],
 "metadata": {
  "kernelspec": {
   "display_name": "Python 3",
   "language": "python",
   "name": "python3"
  },
  "language_info": {
   "codemirror_mode": {
    "name": "ipython",
    "version": 3
   },
   "file_extension": ".py",
   "mimetype": "text/x-python",
   "name": "python",
   "nbconvert_exporter": "python",
   "pygments_lexer": "ipython3",
   "version": "3.6.4"
  }
 },
 "nbformat": 4,
 "nbformat_minor": 2
}
