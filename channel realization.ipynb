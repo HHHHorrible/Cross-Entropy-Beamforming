{
 "cells": [
  {
   "cell_type": "markdown",
   "metadata": {
    "collapsed": true
   },
   "source": [
    "# Channel Model\n",
    "\n",
    "This notebook is used to create Channel Model for mmWave base on extended Saleh-Valenzuela model, which allows us to accurately capture the mathematical structure present in mmWave channels.\n",
    "Most content is base on the paper:\n",
    "\n",
    "O. El Ayach, S. Rajagopal, S. Abu-Surra, Z. Pi, and R. Heath, “Spatially sparse precoding in millimeter wave MIMO systems,” IEEE Transactions on WirelessCommunications, vol. 13, no. 3, pp. 1499–1513, March 2014\n",
    "\n",
    "and Matlab Sourcode from repository https://github.com/xyuam/Alternating-minimization-algorithms-for-hybrid-precoding-in-millimeter-wave-MIMO-systems\n",
    "\n",
    "$$H = \\sqrt{\\frac{N_{t}N_{r}}{N_{cl}N_{ray}}}\\sum_{i=1}^{N_{cl}}\\sum_{l=1}^{N_{ray}}\\alpha_{il}\\mathbf{a_{r}}(\\phi _{il}^{r},\\theta _{il}^{r} )\\mathbf{a_{t}}(\\phi _{il}^{t},\\theta _{il}^{t} )^{H}$$\n",
    "\n",
    "Where $N_{cl}$ and $N_{ray}$ represent the number of clusters and the number of rays in each cluster, and $\\alpha_{il}$ denotes the gain of the $l^{th}$ ray in the $i^{th}$ propagation cluster. We assume that $\\alpha_{il}$ are i.i.d and follow the distribution $\\mathcal{C}\\mathcal{N}(0,\\sigma _{\\alpha ,i}^{2})$ and $\\sum _{i=1}^{N_{cl}}\\sigma _{\\alpha ,i}^{2} = \\hat{\\gamma }$, which is the normalization factor to satisfy $\\mathbf{E}\\left [ \\left \\| \\mathbf{H} \\right \\|_{F}^{2}\\right ] = N_{t}N_{r}$. In addition $\\mathbf{a_{r}}(\\phi _{il}^{r},\\theta _{il}^{r} )$ and $\\mathbf{a_{t}}(\\phi _{il}^{t},\\theta _{il}^{t} )$ represent the receive and transmit array response vectors, where $\\phi _{il}^{r}$($\\phi _{il}^{t}$) and $\\theta _{il}^{r}$($\\theta _{il}^{t}$) stand for azimuth and elevation angles of arrival and departure, respectively. We use the uniform square planar array (USPA) with $\\sqrt{N}$x$\\sqrt{N}$ antenna elements."
   ]
  },
  {
   "cell_type": "code",
   "execution_count": 1,
   "metadata": {},
   "outputs": [],
   "source": [
    "# import necessary module \n",
    "%matplotlib inline\n",
    "import numpy as np\n",
    "import matplotlib.pyplot as plt\n",
    "import scipy.io as io\n",
    "from array_response import *\n"
   ]
  },
  {
   "cell_type": "markdown",
   "metadata": {},
   "source": [
    "### Array Response\n",
    "\n",
    "This function is used to calculate the array response in uniform square planar array (USPA) with given azimuth, elevation angle and number of element\n",
    "$$\\mathbf{a}(\\phi _{il},\\theta _{il}) = \\frac{1}{\\sqrt{N}}[1,...,e^{j\\frac{2\\pi }{\\lambda}d(psin\\phi _{il}sin\\theta _{il}+qcos\\theta _{il})},...,e^{j\\frac{2\\pi }{\\lambda}d((\\sqrt{N}-1)sin\\phi _{il}sin\\theta _{il}+(\\sqrt{N}-1)cos\\theta _{il})}]^{T}$$\n",
    "\n",
    "array_response is defined in array_response.py"
   ]
  },
  {
   "cell_type": "markdown",
   "metadata": {},
   "source": [
    "### Parameters declaration\n",
    "\n",
    "Declare parameters needed for channel realization"
   ]
  },
  {
   "cell_type": "code",
   "execution_count": 2,
   "metadata": {
    "scrolled": true
   },
   "outputs": [],
   "source": [
    "Ns = 4 # number of streams\n",
    "\n",
    "Nc = 8 # number of cluster\n",
    "Nray = 10 # number of rays in each cluster\n",
    "\n",
    "Nt = 64 # number of transmit antennas\n",
    "Nr = 16 # number of receive antennas\n",
    "\n",
    "angle_sigma = 10/180*np.pi # standard deviation of the angles in azimuth and elevation both of Rx and Tx\n",
    "\n",
    "gamma = np.sqrt((Nt*Nr)/(Nc*Nray))\n",
    "sigma = 1 # according to the normalization condition of H\n",
    "\n",
    "realization = 1000 # equivalent to number of taking sample\n",
    "count = 0\n"
   ]
  },
  {
   "cell_type": "markdown",
   "metadata": {},
   "source": [
    "### Example of Laplacian Distribution\n",
    "Using Laplacian distributed for declaration of azimuth and elevation angles of arrival and departure (has been found to be a good fit for a variaty of propagation scenarios)"
   ]
  },
  {
   "cell_type": "code",
   "execution_count": 3,
   "metadata": {},
   "outputs": [
    {
     "data": {
      "image/png": "[encoded data removed]",
      "text/plain": [
       "<matplotlib.figure.Figure at 0x1e07dc6c390>"
      ]
     },
     "metadata": {},
     "output_type": "display_data"
    }
   ],
   "source": [
    "# plot the probability density function (PDF) of Laplacian Distribution\n",
    "loc, scale = 0., 1.\n",
    "s = np.random.laplace(loc, scale, 1000)\n",
    "# count, bins, ignored = plt.hist(s, 30, normed=True)\n",
    "x = np.arange(-8., 8., .01)\n",
    "pdf = np.exp(-abs(x-loc)/scale)/(2.*scale)\n",
    "plt.plot(x, pdf)\n",
    "# example of create matrix of laplacian variables\n",
    "y = np.random.laplace(loc, scale, (2,3))\n"
   ]
  },
  {
   "cell_type": "markdown",
   "metadata": {
    "collapsed": true
   },
   "source": [
    "### Channel Realization\n",
    "\n",
    "Create Channel Matrix H and also the optimal Precoder and Combiner (Fopt and Wopt) for MIMO system"
   ]
  },
  {
   "cell_type": "code",
   "execution_count": 4,
   "metadata": {},
   "outputs": [],
   "source": [
    "H = np.zeros((Nr,Nt,realization),dtype=complex)\n",
    "At = np.zeros((Nt,Nc*Nray,realization),dtype=complex)\n",
    "Ar = np.zeros((Nr,Nc*Nray,realization),dtype=complex)\n",
    "alpha = np.zeros((Nc*Nray,realization),dtype=complex)\n",
    "Fopt = np.zeros((Nt,Ns,realization),dtype=complex)\n",
    "Wopt = np.zeros((Nr,Ns,realization),dtype=complex)\n",
    "\n",
    "AoD = np.zeros((2,Nc*Nray),dtype=complex)\n",
    "AoA = np.zeros((2,Nc*Nray),dtype=complex)\n",
    "\n",
    "for reali in range(realization):\n",
    "    for c in range(1,Nc+1):\n",
    "        AoD_azi_m = np.random.uniform(0,2*np.pi,1) # Mean Angle of Departure _ azimuth\n",
    "        AoD_ele_m = np.random.uniform(0,np.pi,1) # Mean Angle of Departure _ elevation\n",
    "        AoA_azi_m = np.random.uniform(0,2*np.pi,1) # Mean Angle of Arrival_ azimuth\n",
    "        AoA_ele_m = np.random.uniform(0,np.pi,1) # Mean Angle of Arrival_ elevation\n",
    "        AoD[0,(c-1)*Nray:Nray*c] = np.random.laplace(AoD_azi_m, angle_sigma, (1,Nray))\n",
    "        AoD[1,(c-1)*Nray:Nray*c] = np.random.laplace(AoD_ele_m, angle_sigma, (1,Nray))\n",
    "        AoA[0,(c-1)*Nray:Nray*c] = np.random.laplace(AoA_azi_m, angle_sigma, (1,Nray))\n",
    "        AoA[1,(c-1)*Nray:Nray*c] = np.random.laplace(AoA_ele_m, angle_sigma, (1,Nray))\n",
    "    for j in range(Nc*Nray):\n",
    "        At[:,j,reali] = array_response(AoD[0,j],AoD[1,j],Nt) # UPA array response\n",
    "        Ar[:,j,reali] = array_response(AoA[0,j],AoA[1,j],Nr)\n",
    "        alpha[j,reali] = np.random.normal(0, np.sqrt(sigma/2)) + 1j*np.random.normal(0, np.sqrt(sigma/2)) # related to power normalization\n",
    "        H[:,:,reali] = H[:,:,reali] + alpha[j,reali]*Ar[:,[j],reali]@At[:,[j],reali].conj().T\n",
    "    H[:,:,reali] = gamma* H[:,:,reali]\n",
    "    if (np.linalg.matrix_rank(H[:,:,reali])>=Ns):\n",
    "        count = count + 1\n",
    "        U, s, V = np.linalg.svd(H[:,:,reali], full_matrices=True)\n",
    "        V = V.conj().T\n",
    "        Fopt[:,:,reali] = V[0:Nt,0:Ns]\n",
    "        Wopt[:,:,reali] = U[0:Nr,0:Ns]"
   ]
  },
  {
   "cell_type": "code",
   "execution_count": 5,
   "metadata": {},
   "outputs": [
    {
     "data": {
      "text/plain": [
       "64"
      ]
     },
     "execution_count": 5,
     "metadata": {},
     "output_type": "execute_result"
    }
   ],
   "source": [
    "Nt"
   ]
  },
  {
   "cell_type": "markdown",
   "metadata": {},
   "source": [
    "### Check normalized condition"
   ]
  },
  {
   "cell_type": "code",
   "execution_count": 6,
   "metadata": {},
   "outputs": [
    {
     "name": "stdout",
     "output_type": "stream",
     "text": [
      "Nt*Nr = 1024    Frobenius norm = 1032.7763024378114\n"
     ]
    }
   ],
   "source": [
    "channel_fro = np.zeros(realization)\n",
    "for reali in range(realization):\n",
    "    channel_fro[reali] = np.linalg.norm(H[:,:,reali],'fro')\n",
    "print(\"Nt*Nr =\", Nt*Nr , \"   Frobenius norm =\", np.mean(channel_fro**2))\n"
   ]
  },
  {
   "cell_type": "code",
   "execution_count": 7,
   "metadata": {},
   "outputs": [
    {
     "data": {
      "text/plain": [
       "(80, 1000)"
      ]
     },
     "execution_count": 7,
     "metadata": {},
     "output_type": "execute_result"
    }
   ],
   "source": [
    "alpha.shape"
   ]
  },
  {
   "cell_type": "markdown",
   "metadata": {},
   "source": [
    "**Store Variables to reuse**"
   ]
  },
  {
   "cell_type": "code",
   "execution_count": 8,
   "metadata": {},
   "outputs": [],
   "source": [
    "var = {}\n",
    "var['H']=H\n",
    "var['Wopt']=Wopt\n",
    "var['Fopt']=Fopt\n",
    "var['Ns']=[[Ns]]\n",
    "var['Nt']=[[Nt]]\n",
    "var['Nr']=[[Nr]]\n",
    "var['Nc']=[[Nc]]\n",
    "var['Nray']=[[Nray]]\n",
    "var['realization']=[[realization]]\n",
    "var['At']=At\n",
    "var['Ar']=Ar\n",
    "\n",
    "io.savemat('tempNs4',var)\n"
   ]
  }
 ],
 "metadata": {
  "kernelspec": {
   "display_name": "Python 3",
   "language": "python",
   "name": "python3"
  },
  "language_info": {
   "codemirror_mode": {
    "name": "ipython",
    "version": 3
   },
   "file_extension": ".py",
   "mimetype": "text/x-python",
   "name": "python",
   "nbconvert_exporter": "python",
   "pygments_lexer": "ipython3",
   "version": "3.6.4"
  }
 },
 "nbformat": 4,
 "nbformat_minor": 2
}
