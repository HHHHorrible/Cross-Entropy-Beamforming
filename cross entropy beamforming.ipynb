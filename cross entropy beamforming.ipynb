{
 "cells": [
  {
   "cell_type": "markdown",
   "metadata": {},
   "source": [
    "- Load necessary module"
   ]
  },
  {
   "cell_type": "code",
   "execution_count": 1,
   "metadata": {},
   "outputs": [],
   "source": [
    "import scipy.io as io\n",
    "import numpy as np\n",
    "import matplotlib.pyplot as plt\n",
    "from scipy.stats import bernoulli\n",
    "from scipy.stats import multinomial\n",
    "from collections import OrderedDict"
   ]
  },
  {
   "cell_type": "markdown",
   "metadata": {},
   "source": [
    "- Load model that defined in channel realization"
   ]
  },
  {
   "cell_type": "code",
   "execution_count": 2,
   "metadata": {},
   "outputs": [],
   "source": [
    "mat = io.loadmat('temp.mat')\n",
    "model = {}\n",
    "model['H'] = mat['H']\n",
    "model['Wopt'] = mat['Wopt']\n",
    "model['Fopt'] = mat['Fopt']\n",
    "# model['Ns'] = mat['Ns'][0,0] ## need to change nb of stream in channel realization, this case 1\n",
    "model['Ns'] = 2\n",
    "model['Nt'] = mat['Nt'][0,0]\n",
    "model['Nr'] = mat['Nr'][0,0]\n",
    "model['Nc'] = mat['Nc'][0,0]\n",
    "model['Nray'] = mat['Nray'][0,0]\n",
    "model['realization'] = mat['realization'][0,0]\n",
    "model['At'] = mat['At']\n",
    "model['Ar'] = mat['Ar']\n",
    "model['Nrf'] = 2"
   ]
  },
  {
   "cell_type": "code",
   "execution_count": 3,
   "metadata": {
    "scrolled": true
   },
   "outputs": [
    {
     "name": "stdout",
     "output_type": "stream",
     "text": [
      "H\n",
      "Wopt\n",
      "Fopt\n",
      "Ns\n",
      "Nt\n",
      "Nr\n",
      "Nc\n",
      "Nray\n",
      "realization\n",
      "At\n",
      "Ar\n",
      "Nrf\n"
     ]
    }
   ],
   "source": [
    "for key in model:\n",
    "    print(key)"
   ]
  },
  {
   "cell_type": "markdown",
   "metadata": {},
   "source": [
    "Load values of phase shifter included:\n",
    "- nb_bit: number of bit\n",
    "- nb_ps: number of phase shifter in the system\n",
    "- nb_state: number of state in each phase shifter (2^nb_bit)"
   ]
  },
  {
   "cell_type": "markdown",
   "metadata": {},
   "source": [
    "# Cross Entropy Beamforming"
   ]
  },
  {
   "cell_type": "markdown",
   "metadata": {},
   "source": [
    "### Helper function for Cross entropy Beamforming"
   ]
  },
  {
   "cell_type": "code",
   "execution_count": 4,
   "metadata": {},
   "outputs": [
    {
     "data": {
      "text/plain": [
       "2"
      ]
     },
     "execution_count": 4,
     "metadata": {},
     "output_type": "execute_result"
    }
   ],
   "source": [
    "model['Ns']"
   ]
  },
  {
   "cell_type": "code",
   "execution_count": 5,
   "metadata": {},
   "outputs": [],
   "source": [
    "def phase_shifter(n_bit,n_ant):\n",
    "    \"\"\"\n",
    "    Define phase shifter with N bits resolution\n",
    "    \n",
    "    Arguments:\n",
    "    N -- number of bits resolutions\n",
    "    \n",
    "    Returns:\n",
    "    y -- python dictionnary of phase shifter: index of state and value of phase\n",
    "    \"\"\"\n",
    "    nb_state = 2**n_bit\n",
    "    w = np.exp(1j*2*np.pi/nb_state)\n",
    "    ps = np.zeros(nb_state,dtype=complex)\n",
    "    for i in range(nb_state):\n",
    "        ps[i] = w**i/np.sqrt(n_ant)\n",
    "    return np.around(ps, decimals=3)\n",
    "\n",
    "def generate_candidat(S,model,phase_value,ps_system_proba):\n",
    "    \"\"\"\n",
    "    generate S candidates from the previous pmf\n",
    "    \n",
    "    Arguments: \n",
    "    S -- Number of candidates to generate\n",
    "    model -- channel model\n",
    "    phase_value -- possible phase shifted value\n",
    "    ps_system_proba -- pmf of phase shifters\n",
    "    \n",
    "    Returns\n",
    "    F_rf -- S analog precoder system\n",
    "    \"\"\"\n",
    "    F_rf = np.zeros((S,model['Nt'],model['Nrf']),dtype=complex)\n",
    "    for i in range(S):\n",
    "        for j in range(model['Nt']):\n",
    "            for k in range(model['Nrf']):\n",
    "                F_rf[i,j,k] = np.random.choice(phase_value, 1, p=ps_system_proba[j,k,:])\n",
    "    return F_rf\n",
    "\n",
    "def compute_Fbb(F_rf,model):\n",
    "    \"\"\"\n",
    "    Compute baseband precoder base on the effective channel (Heq = H*Frf)\n",
    "    \n",
    "    Arguments:\n",
    "    F_rf -- analog precoder\n",
    "    model -- channel model\n",
    "    \n",
    "    Returns:\n",
    "    F_bb -- S baseband precoder\n",
    "    \"\"\"\n",
    "    S = F_rf.shape[0]\n",
    "    channel_eq = np.zeros((S,model['Nr'],model['Nrf']),dtype=complex)\n",
    "    F_bb = np.zeros((S,model['Nrf'],model['Ns']),dtype=complex)\n",
    "    channel_index = 0 ### need to adjust \n",
    "    for i in range(S):\n",
    "        channel_eq[i,:,:] =  model['H'][:,:,channel_index]@F_rf[i,:,:]\n",
    "        U, s, V = np.linalg.svd(channel_eq[i,:,:], full_matrices=True)\n",
    "        V = V.conj().T\n",
    "        F_bb[i,:,:] = V[0:model['Nt'],0:model['Ns']]\n",
    "        F_bb[i,:,:] = np.sqrt(model['Ns'])*F_bb[i,:,:]/np.linalg.norm(F_rf[i,:,:]@F_bb[i,:,:],'fro')\n",
    "    return F_bb\n",
    "\n",
    "def optimal_beamformer(model, channel_index):\n",
    "    \"\"\"\n",
    "    Compute the optimal beamformer by SVD\n",
    "    \n",
    "    Arguments:\n",
    "    model -- channel model\n",
    "    channel_index -- index in 1000 realization channel\n",
    "    \n",
    "    Returns:\n",
    "    Fopt -- optimal precoder\n",
    "    Wopt -- optimal combiner\n",
    "    \"\"\"\n",
    "    Wopt = np.zeros((model['Nr'],model['Ns']),dtype=complex)\n",
    "    Fopt = np.zeros((model['Nt'],model['Ns']),dtype=complex)\n",
    "    U, s, V = np.linalg.svd(model['H'][:,:,channel_index], full_matrices=True)\n",
    "    V = V.conj().T\n",
    "    Fopt = V[0:model['Nt'],0:model['Ns']]\n",
    "    Wopt = U[0:model['Nr'],0:model['Ns']]\n",
    "    return Fopt, Wopt\n",
    "\n",
    "\n",
    "def update_pmf(F_elites,phase_value,nb_elite):\n",
    "    \"\"\"\n",
    "    Update new phase shifters's pmf base on previous candidates's results\n",
    "    \n",
    "    Arguments:\n",
    "    F_elites -- elites analog precoder\n",
    "    phase_value -- phase shift value\n",
    "    nb_elite -- number of elites \n",
    "    \n",
    "    Returns:\n",
    "    ps_system_proba -- pmf of phase shifter\n",
    "    \"\"\"\n",
    "    alpha = 0.9\n",
    "    nb_state = phase_value.shape[0]\n",
    "    stat_count = np.zeros(nb_state)\n",
    "    for i in range(model['Nt']):\n",
    "        for j in range(model['Nrf']):\n",
    "            unique, counts = np.unique(F_elites[:,i,j], return_counts=True)\n",
    "            value_count = dict(zip(unique, counts))\n",
    "            for k in range(nb_state):\n",
    "                if phase_value[k] in value_count:   \n",
    "                    proba_est = value_count[phase_value[k]]/nb_elite\n",
    "                else:\n",
    "                    proba_est = 0\n",
    "                ps_system_proba[i,j,k] = alpha*proba_est + (1-alpha)*ps_system_proba[i,j,k] \n",
    "    return ps_system_proba\n",
    "\n",
    "def data_rate(Ns,SNR,W,H,F):\n",
    "    \"\"\"\n",
    "    Compute the data rate of the beamforming system\n",
    "    \n",
    "    Arguments:\n",
    "    Ns -- number of stream\n",
    "    SNR -- Signal to noise ratio\n",
    "    W -- combiner\n",
    "    H -- channel\n",
    "    F -- precoder\n",
    "    \n",
    "    Returns:\n",
    "    R -- data rate\n",
    "    \"\"\"\n",
    "    R = np.log2(np.linalg.det(np.eye(Ns)+SNR/Ns*np.linalg.pinv(W)@H@F@F.conj().T@H.conj().T@W))\n",
    "    return R.real"
   ]
  },
  {
   "cell_type": "markdown",
   "metadata": {},
   "source": [
    "### Define Phase shiter"
   ]
  },
  {
   "cell_type": "code",
   "execution_count": 6,
   "metadata": {},
   "outputs": [],
   "source": [
    "nb_bit = 2\n",
    "nb_ps = model['Nt']*model['Nrf']\n",
    "nb_ps\n",
    "nb_state = 2**nb_bit"
   ]
  },
  {
   "cell_type": "code",
   "execution_count": 7,
   "metadata": {},
   "outputs": [
    {
     "data": {
      "text/plain": [
       "array([ 0.125+0.   j,  0.   +0.125j, -0.125+0.   j, -0.   -0.125j])"
      ]
     },
     "execution_count": 7,
     "metadata": {},
     "output_type": "execute_result"
    }
   ],
   "source": [
    "phase_value = phase_shifter(nb_bit,model['Nt'])\n",
    "phase_value"
   ]
  },
  {
   "cell_type": "markdown",
   "metadata": {},
   "source": [
    "Phase shifter system dimension is: NtxNrfxN_state"
   ]
  },
  {
   "cell_type": "markdown",
   "metadata": {},
   "source": [
    "### Cross entropy beamforming Algorithm\n",
    " Step 1: Randomly generate S candidate analog beamformers\n",
    "\n",
    " Step 2: Compute S corresponding digital precoders Fbb based on the effective channel Heq = HFrf\n",
    "\n",
    " Step 3: Calculate the achievable sum-rate\n",
    "\n",
    " Step 4: Sort R in a descend order\n",
    "\n",
    " Step 5: Select elites as Frf_1, Frf_2, ..., Frf_elite\n",
    "\n",
    " Step 6: Update new pmf for each phase shifter"
   ]
  },
  {
   "cell_type": "code",
   "execution_count": 8,
   "metadata": {
    "scrolled": true
   },
   "outputs": [
    {
     "name": "stdout",
     "output_type": "stream",
     "text": [
      "[0.25 0.25 0.25 0.25]\n",
      "0\n",
      "1\n",
      "2\n",
      "3\n",
      "4\n",
      "5\n",
      "103.38618900933675\n",
      "6\n",
      "80.58011096006454\n",
      "7\n",
      "68.94763551694557\n",
      "8\n",
      "54.15643502020425\n",
      "9\n",
      "36.46933118497604\n",
      "10\n",
      "27.689929174986794\n",
      "11\n",
      "19.792781189025916\n",
      "12\n",
      "16.173064541116798\n",
      "13\n",
      "11.508045791525936\n",
      "14\n",
      "8.063105424550196\n",
      "15\n",
      "5.6788107833391805\n",
      "16\n",
      "5.828684916634461\n",
      "17\n",
      "4.563090898184828\n",
      "18\n",
      "4.278472153806928\n",
      "19\n",
      "3.280704752443115\n",
      "20\n",
      "2.158496724360242\n"
     ]
    }
   ],
   "source": [
    "nb_elite = 40\n",
    "S = 200\n",
    "channel_index = 0\n",
    "Fopt, Wopt = optimal_beamformer(model,channel_index)\n",
    "nb_iterate = 30\n",
    "ps_system_proba = np.ones((model['Nt'],model['Nrf'],nb_state))*(1/nb_state)\n",
    "# R_max = np.zeros((nb_iterate))\n",
    "proba_evo = np.copy(ps_system_proba[0,0,:])\n",
    "print(proba_evo)\n",
    "i = 0\n",
    "relative_std = 1000 # initialize high value of relative standard deviation\n",
    "SNR = 10**(10/10)\n",
    "while ((i<nb_iterate) and (relative_std>3)):\n",
    "    print(i)\n",
    "    F_rf = generate_candidat(S,model,phase_value,ps_system_proba)\n",
    "    F_bb = compute_Fbb(F_rf,model)\n",
    "    R = np.zeros((S))\n",
    "    for j in range(S):\n",
    "        R[j] = data_rate(model['Ns'],SNR,Wopt,model['H'][:,:,channel_index],F_rf[j,:,:]@F_bb[j,:,:])\n",
    "#         R[j] = np.log2(np.linalg.det(np.eye(model['Ns']))+SNR/model['Ns']*np.linalg.pinv(Wopt)@model['H'][:,:,channel_index]@F_rf[j,:,:]@F_bb[j,:,:]@F_bb[j,:,:].conj().T@F_rf[j,:,:].conj().T@model['H'][:,:,channel_index].conj().T@Wopt).real\n",
    "    R_sort_index = np.argsort(R)[::-1][:nb_elite]\n",
    "    if i==0:\n",
    "        R_max = R[R_sort_index[0]]\n",
    "    else:\n",
    "        R_max = np.append(R_max,R[R_sort_index[0]])\n",
    "    F_elites = F_rf[R_sort_index,:,:]\n",
    "    Frf_max = F_rf[R_sort_index[0],:,:]\n",
    "    Fbb_max = F_bb[R_sort_index[0],:,:]\n",
    "    ps_system_proba = update_pmf(F_elites,phase_value,nb_elite)\n",
    "    proba_evo = np.vstack((proba_evo,ps_system_proba[0,0,:]))\n",
    "    if i>=5:\n",
    "        R_max_normalize = R_max-np.min(R_max) ## Need to review\n",
    "        relative_std = 100*np.std(R_max_normalize[i-5:i])/np.mean(R_max_normalize[i-5:i])\n",
    "        print(relative_std)\n",
    "    i +=1\n",
    "    "
   ]
  },
  {
   "cell_type": "code",
   "execution_count": 9,
   "metadata": {},
   "outputs": [
    {
     "data": {
      "text/plain": [
       "array([[0.25 , 0.25 , 0.25 , 0.25 ],\n",
       "       [0.272, 0.228, 0.228, 0.272],\n",
       "       [0.252, 0.248, 0.158, 0.342],\n",
       "       [0.183, 0.317, 0.218, 0.282],\n",
       "       [0.243, 0.324, 0.202, 0.231],\n",
       "       [0.204, 0.37 , 0.11 , 0.316],\n",
       "       [0.088, 0.329, 0.146, 0.437],\n",
       "       [0.121, 0.303, 0.15 , 0.426],\n",
       "       [0.102, 0.255, 0.15 , 0.493],\n",
       "       [0.078, 0.318, 0.127, 0.477],\n",
       "       [0.075, 0.234, 0.17 , 0.52 ],\n",
       "       [0.053, 0.158, 0.22 , 0.57 ],\n",
       "       [0.05 , 0.173, 0.292, 0.484],\n",
       "       [0.073, 0.152, 0.299, 0.476],\n",
       "       [0.097, 0.083, 0.232, 0.588],\n",
       "       [0.01 , 0.053, 0.181, 0.756],\n",
       "       [0.023, 0.005, 0.153, 0.818],\n",
       "       [0.002, 0.001, 0.083, 0.914],\n",
       "       [0.   , 0.   , 0.031, 0.969],\n",
       "       [0.   , 0.   , 0.026, 0.974],\n",
       "       [0.   , 0.   , 0.003, 0.997],\n",
       "       [0.   , 0.   , 0.   , 1.   ]])"
      ]
     },
     "execution_count": 9,
     "metadata": {},
     "output_type": "execute_result"
    }
   ],
   "source": [
    "# Evolution of pmf of 1 phase shifter\n",
    "np.around(proba_evo, decimals=3)"
   ]
  },
  {
   "cell_type": "code",
   "execution_count": 10,
   "metadata": {},
   "outputs": [
    {
     "data": {
      "text/plain": [
       "(22, 4)"
      ]
     },
     "execution_count": 10,
     "metadata": {},
     "output_type": "execute_result"
    }
   ],
   "source": [
    "proba_evo.shape"
   ]
  },
  {
   "cell_type": "code",
   "execution_count": 11,
   "metadata": {},
   "outputs": [
    {
     "name": "stdout",
     "output_type": "stream",
     "text": [
      "[12.74894194 12.83187379 13.16275153 13.13392866 13.98723905 14.51788894\n",
      " 15.58085834 15.88260067 16.56351199 17.09372154 17.62103609 17.71039579\n",
      " 18.11297592 18.23360091 18.39128269 18.67700116 18.79985204 18.89947507\n",
      " 18.93653798 19.07057769 19.08635491]\n"
     ]
    },
    {
     "data": {
      "text/plain": [
       "Text(0.5,0,'iteration')"
      ]
     },
     "execution_count": 11,
     "metadata": {},
     "output_type": "execute_result"
    },
    {
     "data": {
      "image/png": "[encoded data removed]",
      "text/plain": [
       "<matplotlib.figure.Figure at 0x1f58cbd3b70>"
      ]
     },
     "metadata": {},
     "output_type": "display_data"
    }
   ],
   "source": [
    "print(R_max)\n",
    "plt.plot(R_max)\n",
    "plt.title('data rate against iteration - 2 bits PS')\n",
    "plt.ylabel('data rate (bps/Hz)')\n",
    "plt.xlabel('iteration')"
   ]
  },
  {
   "cell_type": "markdown",
   "metadata": {},
   "source": [
    "Test:\n",
    "\n",
    "2 bits -- 17.56 bps/Hz - 16 iterate\n",
    "\n",
    "3 bits -- 17.68 bps/Hz - 18 iterate\n",
    "\n",
    "4 bits -- 17.71 bps/Hz - 18 iterate\n",
    "\n",
    "6 bits -- 17.68 bps/Hz - 19 iterate"
   ]
  },
  {
   "cell_type": "markdown",
   "metadata": {},
   "source": [
    "# Digital Beamforming"
   ]
  },
  {
   "cell_type": "code",
   "execution_count": 12,
   "metadata": {},
   "outputs": [
    {
     "name": "stdout",
     "output_type": "stream",
     "text": [
      "20.41756613013491\n"
     ]
    }
   ],
   "source": [
    "R_o = data_rate(model['Ns'],SNR,Wopt,model['H'][:,:,channel_index],Fopt)\n",
    "print(R_o)"
   ]
  },
  {
   "cell_type": "code",
   "execution_count": 13,
   "metadata": {},
   "outputs": [
    {
     "name": "stdout",
     "output_type": "stream",
     "text": [
      "Ns 2    Frobenius norm FRF*FBB= 1.9999999999999996\n"
     ]
    }
   ],
   "source": [
    "# Normalize condition\n",
    "x = np.linalg.norm(F_rf[1,:,:]@F_bb[1,:,:],'fro')\n",
    "print(\"Ns\", model['Ns'] , \"   Frobenius norm FRF*FBB=\", x**2)"
   ]
  },
  {
   "cell_type": "code",
   "execution_count": 14,
   "metadata": {},
   "outputs": [
    {
     "data": {
      "text/plain": [
       "(16, 2)"
      ]
     },
     "execution_count": 14,
     "metadata": {},
     "output_type": "execute_result"
    }
   ],
   "source": [
    "Wopt.shape"
   ]
  },
  {
   "cell_type": "markdown",
   "metadata": {},
   "source": [
    "# OMP Beamforming"
   ]
  },
  {
   "cell_type": "code",
   "execution_count": 15,
   "metadata": {},
   "outputs": [],
   "source": [
    "def OMP(_Fopt,_NRF,_At):\n",
    "    _FRF = np.empty((_At.shape[0],0))\n",
    "    _Fres = _Fopt\n",
    "    for k in range(_NRF):\n",
    "        PU = _At.conj().T@_Fres\n",
    "        ind = np.argmax(np.sum((np.absolute(PU))**2,axis=1))\n",
    "        _FRF = np.append(_FRF,_At[:,[ind]],axis=1)\n",
    "        _FBB = (np.linalg.pinv(_FRF))@_Fopt\n",
    "        _Fres = (_Fopt-_FRF@_FBB)/np.linalg.norm((_Fopt-_FRF@_FBB),'fro')\n",
    "#         _Fres = (_Fopt-_FRF@_FBB)\n",
    "    return _FRF,_FBB"
   ]
  },
  {
   "cell_type": "code",
   "execution_count": 16,
   "metadata": {},
   "outputs": [],
   "source": [
    "FRF_omp, FBB_omp = OMP( Fopt, model['Nrf'], model['At'][:,:,channel_index] ) "
   ]
  },
  {
   "cell_type": "code",
   "execution_count": 17,
   "metadata": {},
   "outputs": [
    {
     "name": "stdout",
     "output_type": "stream",
     "text": [
      "16.7201107591366\n"
     ]
    }
   ],
   "source": [
    "R_omp = data_rate(model['Ns'],SNR,Wopt,model['H'][:,:,channel_index],FRF_omp@FBB_omp)\n",
    "print(R_omp)"
   ]
  },
  {
   "cell_type": "code",
   "execution_count": 18,
   "metadata": {
    "scrolled": true
   },
   "outputs": [
    {
     "data": {
      "text/plain": [
       "(64, 2)"
      ]
     },
     "execution_count": 18,
     "metadata": {},
     "output_type": "execute_result"
    }
   ],
   "source": [
    "FRF_omp.shape"
   ]
  },
  {
   "cell_type": "code",
   "execution_count": 19,
   "metadata": {
    "scrolled": true
   },
   "outputs": [
    {
     "data": {
      "text/plain": [
       "array([[-0.   -0.125j,  0.125+0.   j],\n",
       "       [ 0.   +0.125j, -0.125+0.   j],\n",
       "       [-0.125+0.   j,  0.   +0.125j],\n",
       "       [ 0.125+0.   j, -0.125+0.   j],\n",
       "       [ 0.   +0.125j,  0.125+0.   j],\n",
       "       [ 0.125+0.   j, -0.125+0.   j],\n",
       "       [-0.125+0.   j,  0.125+0.   j],\n",
       "       [ 0.125+0.   j, -0.125+0.   j],\n",
       "       [ 0.125+0.   j,  0.   +0.125j],\n",
       "       [-0.125+0.   j, -0.   -0.125j],\n",
       "       [ 0.125+0.   j,  0.   +0.125j],\n",
       "       [-0.125+0.   j, -0.125+0.   j],\n",
       "       [ 0.   +0.125j,  0.125+0.   j],\n",
       "       [ 0.125+0.   j, -0.125+0.   j],\n",
       "       [-0.125+0.   j,  0.125+0.   j],\n",
       "       [ 0.125+0.   j, -0.125+0.   j],\n",
       "       [ 0.   +0.125j,  0.   +0.125j],\n",
       "       [-0.   -0.125j, -0.   -0.125j],\n",
       "       [ 0.125+0.   j,  0.   +0.125j],\n",
       "       [-0.125+0.   j, -0.   -0.125j],\n",
       "       [ 0.   +0.125j,  0.125+0.   j],\n",
       "       [-0.   -0.125j, -0.125+0.   j],\n",
       "       [-0.125+0.   j,  0.125+0.   j],\n",
       "       [ 0.125+0.   j, -0.125+0.   j],\n",
       "       [ 0.   +0.125j,  0.   +0.125j],\n",
       "       [-0.   -0.125j,  0.125+0.   j],\n",
       "       [ 0.   +0.125j, -0.125+0.   j],\n",
       "       [-0.   -0.125j, -0.125+0.   j],\n",
       "       [ 0.   +0.125j, -0.   -0.125j],\n",
       "       [-0.   -0.125j, -0.   -0.125j],\n",
       "       [-0.125+0.   j,  0.   +0.125j],\n",
       "       [ 0.125+0.   j, -0.   -0.125j],\n",
       "       [-0.125+0.   j,  0.   +0.125j],\n",
       "       [-0.   -0.125j, -0.   -0.125j],\n",
       "       [ 0.   +0.125j,  0.   +0.125j],\n",
       "       [-0.   -0.125j,  0.125+0.   j],\n",
       "       [ 0.   +0.125j,  0.   +0.125j],\n",
       "       [-0.   -0.125j,  0.125+0.   j],\n",
       "       [-0.125+0.   j,  0.   +0.125j],\n",
       "       [-0.125+0.   j, -0.   -0.125j],\n",
       "       [-0.125+0.   j,  0.   +0.125j],\n",
       "       [ 0.125+0.   j, -0.   -0.125j],\n",
       "       [ 0.   +0.125j,  0.   +0.125j],\n",
       "       [-0.   -0.125j, -0.   -0.125j],\n",
       "       [ 0.   +0.125j, -0.125+0.   j],\n",
       "       [-0.   -0.125j, -0.   -0.125j],\n",
       "       [ 0.   +0.125j,  0.   +0.125j],\n",
       "       [ 0.125+0.   j, -0.   -0.125j],\n",
       "       [-0.   -0.125j,  0.   +0.125j],\n",
       "       [-0.125+0.   j, -0.   -0.125j],\n",
       "       [ 0.125+0.   j,  0.   +0.125j],\n",
       "       [-0.   -0.125j, -0.   -0.125j],\n",
       "       [ 0.   +0.125j,  0.   +0.125j],\n",
       "       [-0.   -0.125j, -0.   -0.125j],\n",
       "       [-0.125+0.   j,  0.   +0.125j],\n",
       "       [ 0.125+0.   j, -0.125+0.   j],\n",
       "       [-0.   -0.125j,  0.   +0.125j],\n",
       "       [-0.125+0.   j, -0.   -0.125j],\n",
       "       [ 0.125+0.   j,  0.   +0.125j],\n",
       "       [-0.125+0.   j, -0.   -0.125j],\n",
       "       [ 0.125+0.   j,  0.125+0.   j],\n",
       "       [-0.   -0.125j, -0.   -0.125j],\n",
       "       [-0.125+0.   j,  0.   +0.125j],\n",
       "       [ 0.125+0.   j, -0.   -0.125j]])"
      ]
     },
     "execution_count": 19,
     "metadata": {},
     "output_type": "execute_result"
    }
   ],
   "source": [
    "Frf_max"
   ]
  },
  {
   "cell_type": "markdown",
   "metadata": {},
   "source": [
    "### Quantize omp beamforming"
   ]
  },
  {
   "cell_type": "code",
   "execution_count": 20,
   "metadata": {},
   "outputs": [],
   "source": [
    "def quantize_Frf(model,n_bit,F_rf,channel_index):\n",
    "    q = 2*np.pi/2**n_bit\n",
    "    amplitude = 1/np.sqrt(model['Nt'])\n",
    "    Frf_angle = np.angle(F_rf)\n",
    "    angle_quantized = q * np.round(Frf_angle/q)\n",
    "    Frf_quantized = amplitude*np.exp(1j*angle_quantized)\n",
    "    Frf_quantized = np.around(Frf_quantized, decimals=3)\n",
    "    \n",
    "    channel_eq =  model['H'][:,:,channel_index]@Frf_quantized\n",
    "    U, s, V = np.linalg.svd(channel_eq, full_matrices=True)\n",
    "    V = V.conj().T\n",
    "    F_bb = V[0:model['Nt'],0:model['Ns']]\n",
    "    F_bb = np.sqrt(model['Ns'])*F_bb/np.linalg.norm(Frf_quantized@F_bb,'fro')\n",
    "    \n",
    "    return Frf_quantized, F_bb"
   ]
  },
  {
   "cell_type": "code",
   "execution_count": 21,
   "metadata": {
    "scrolled": true
   },
   "outputs": [],
   "source": [
    "Frf_quantize, Fbb_quantize = quantize_Frf(model,nb_bit,FRF_omp,channel_index)"
   ]
  },
  {
   "cell_type": "code",
   "execution_count": 22,
   "metadata": {},
   "outputs": [
    {
     "data": {
      "text/plain": [
       "array([[-0.98438001+0.        j, -0.17605677+0.        j],\n",
       "       [ 0.06092777+0.16517807j, -0.34066329-0.9235543 j]])"
      ]
     },
     "execution_count": 22,
     "metadata": {},
     "output_type": "execute_result"
    }
   ],
   "source": [
    "Fbb_quantize"
   ]
  },
  {
   "cell_type": "code",
   "execution_count": 23,
   "metadata": {},
   "outputs": [
    {
     "name": "stdout",
     "output_type": "stream",
     "text": [
      "17.96717163142237\n"
     ]
    }
   ],
   "source": [
    "R_omp_quantized = data_rate(model['Ns'],SNR,Wopt,model['H'][:,:,channel_index],Frf_quantize@Fbb_quantize)\n",
    "print(R_omp_quantized)"
   ]
  },
  {
   "cell_type": "code",
   "execution_count": 24,
   "metadata": {},
   "outputs": [
    {
     "name": "stdout",
     "output_type": "stream",
     "text": [
      "Ns 2    Frobenius norm FRF*FBB= 2.0000000000000004\n"
     ]
    }
   ],
   "source": [
    "# Normalize condition\n",
    "x = np.linalg.norm(Frf_quantize@Fbb_quantize,'fro')\n",
    "print(\"Ns\", model['Ns'] , \"   Frobenius norm FRF*FBB=\", x**2)"
   ]
  },
  {
   "cell_type": "markdown",
   "metadata": {},
   "source": [
    "### Initialize pmf with OMP"
   ]
  },
  {
   "cell_type": "code",
   "execution_count": 25,
   "metadata": {
    "scrolled": true
   },
   "outputs": [
    {
     "data": {
      "text/plain": [
       "(64, 2, 4)"
      ]
     },
     "execution_count": 25,
     "metadata": {},
     "output_type": "execute_result"
    }
   ],
   "source": [
    "ps_system_proba.shape"
   ]
  },
  {
   "cell_type": "code",
   "execution_count": 26,
   "metadata": {},
   "outputs": [
    {
     "data": {
      "text/plain": [
       "(64, 2, 4)"
      ]
     },
     "execution_count": 26,
     "metadata": {},
     "output_type": "execute_result"
    }
   ],
   "source": [
    "np.around(ps_system_proba, decimals=3).shape"
   ]
  },
  {
   "cell_type": "code",
   "execution_count": 27,
   "metadata": {},
   "outputs": [
    {
     "data": {
      "text/plain": [
       "array([ 0.125+0.   j,  0.   +0.125j, -0.125+0.   j, -0.   -0.125j])"
      ]
     },
     "execution_count": 27,
     "metadata": {},
     "output_type": "execute_result"
    }
   ],
   "source": [
    "phase_value"
   ]
  },
  {
   "cell_type": "code",
   "execution_count": 28,
   "metadata": {
    "scrolled": true
   },
   "outputs": [
    {
     "data": {
      "text/plain": [
       "array([[ 0.125+0.   j,  0.125+0.   j],\n",
       "       [-0.125+0.   j, -0.125-0.   j],\n",
       "       [ 0.125+0.   j,  0.   +0.125j],\n",
       "       [-0.125+0.   j,  0.   -0.125j],\n",
       "       [ 0.125+0.   j, -0.125+0.   j],\n",
       "       [-0.125+0.   j,  0.125+0.   j],\n",
       "       [ 0.125+0.   j,  0.   -0.125j],\n",
       "       [-0.125+0.   j,  0.   +0.125j],\n",
       "       [ 0.125+0.   j,  0.125+0.   j],\n",
       "       [-0.125-0.   j, -0.125-0.   j],\n",
       "       [ 0.125+0.   j,  0.   +0.125j],\n",
       "       [-0.125-0.   j,  0.   -0.125j],\n",
       "       [ 0.125+0.   j, -0.125+0.   j],\n",
       "       [-0.125-0.   j,  0.125+0.   j],\n",
       "       [ 0.125+0.   j, -0.125-0.   j],\n",
       "       [-0.125-0.   j,  0.   +0.125j],\n",
       "       [ 0.125+0.   j,  0.125+0.   j],\n",
       "       [-0.125-0.   j, -0.125-0.   j],\n",
       "       [ 0.125+0.   j,  0.   +0.125j],\n",
       "       [-0.125-0.   j,  0.   -0.125j],\n",
       "       [ 0.125+0.   j, -0.125+0.   j],\n",
       "       [-0.125-0.   j,  0.125+0.   j],\n",
       "       [ 0.125+0.   j, -0.125-0.   j],\n",
       "       [-0.125-0.   j,  0.   +0.125j],\n",
       "       [ 0.125+0.   j,  0.125+0.   j],\n",
       "       [-0.125-0.   j, -0.125-0.   j],\n",
       "       [ 0.125+0.   j,  0.   +0.125j],\n",
       "       [-0.125-0.   j,  0.   -0.125j],\n",
       "       [ 0.125+0.   j, -0.125+0.   j],\n",
       "       [-0.125-0.   j,  0.125+0.   j],\n",
       "       [ 0.125+0.   j, -0.125-0.   j],\n",
       "       [-0.125-0.   j,  0.   +0.125j],\n",
       "       [ 0.   +0.125j,  0.125+0.   j],\n",
       "       [ 0.   -0.125j, -0.125-0.   j],\n",
       "       [ 0.   +0.125j,  0.   +0.125j],\n",
       "       [ 0.   -0.125j,  0.   -0.125j],\n",
       "       [ 0.   +0.125j, -0.125+0.   j],\n",
       "       [-0.125-0.   j,  0.125+0.   j],\n",
       "       [ 0.125+0.   j, -0.125-0.   j],\n",
       "       [-0.125-0.   j,  0.   +0.125j],\n",
       "       [ 0.   +0.125j,  0.125+0.   j],\n",
       "       [ 0.   -0.125j, -0.125-0.   j],\n",
       "       [ 0.   +0.125j,  0.   +0.125j],\n",
       "       [ 0.   -0.125j,  0.   -0.125j],\n",
       "       [ 0.   +0.125j, -0.125+0.   j],\n",
       "       [ 0.   -0.125j,  0.125+0.   j],\n",
       "       [ 0.   +0.125j, -0.125-0.   j],\n",
       "       [ 0.   -0.125j,  0.   +0.125j],\n",
       "       [ 0.   +0.125j,  0.125+0.   j],\n",
       "       [ 0.   -0.125j, -0.125-0.   j],\n",
       "       [ 0.   +0.125j,  0.   +0.125j],\n",
       "       [ 0.   -0.125j,  0.   -0.125j],\n",
       "       [ 0.   +0.125j, -0.125+0.   j],\n",
       "       [ 0.   -0.125j,  0.125+0.   j],\n",
       "       [ 0.   +0.125j, -0.125-0.   j],\n",
       "       [ 0.   -0.125j,  0.   +0.125j],\n",
       "       [ 0.   +0.125j,  0.125+0.   j],\n",
       "       [ 0.   -0.125j, -0.125-0.   j],\n",
       "       [ 0.   +0.125j,  0.   +0.125j],\n",
       "       [ 0.   -0.125j,  0.   -0.125j],\n",
       "       [ 0.   +0.125j, -0.125+0.   j],\n",
       "       [ 0.   -0.125j,  0.125+0.   j],\n",
       "       [ 0.   +0.125j, -0.125-0.   j],\n",
       "       [ 0.   -0.125j,  0.   +0.125j]])"
      ]
     },
     "execution_count": 28,
     "metadata": {},
     "output_type": "execute_result"
    }
   ],
   "source": [
    "Frf_quantize"
   ]
  },
  {
   "cell_type": "code",
   "execution_count": 29,
   "metadata": {},
   "outputs": [],
   "source": [
    "def initialize_pmf_omp(model,nb_bit,Frf_omp_quantize,phase_value,ratio):\n",
    "    low_proba = 1/(2**nb_bit-1+ratio)\n",
    "    high_proba = ratio*low_proba\n",
    "    proba_init = np.zeros((model['Nt'],model['Nrf'],2**nb_bit))\n",
    "    for i in range(phase_value.shape[0]):\n",
    "        assign = Frf_quantize == phase_value[i]\n",
    "        proba_init[:,:,i] = assign*high_proba + np.invert(assign)*low_proba\n",
    "    return proba_init"
   ]
  },
  {
   "cell_type": "code",
   "execution_count": 30,
   "metadata": {},
   "outputs": [
    {
     "name": "stdout",
     "output_type": "stream",
     "text": [
      "[[[0.4 0.2 0.2 0.2]\n",
      "  [0.4 0.2 0.2 0.2]]\n",
      "\n",
      " [[0.2 0.2 0.4 0.2]\n",
      "  [0.2 0.2 0.4 0.2]]\n",
      "\n",
      " [[0.4 0.2 0.2 0.2]\n",
      "  [0.2 0.4 0.2 0.2]]\n",
      "\n",
      " [[0.2 0.2 0.4 0.2]\n",
      "  [0.2 0.2 0.2 0.4]]\n",
      "\n",
      " [[0.4 0.2 0.2 0.2]\n",
      "  [0.2 0.2 0.4 0.2]]\n",
      "\n",
      " [[0.2 0.2 0.4 0.2]\n",
      "  [0.4 0.2 0.2 0.2]]\n",
      "\n",
      " [[0.4 0.2 0.2 0.2]\n",
      "  [0.2 0.2 0.2 0.4]]\n",
      "\n",
      " [[0.2 0.2 0.4 0.2]\n",
      "  [0.2 0.4 0.2 0.2]]\n",
      "\n",
      " [[0.4 0.2 0.2 0.2]\n",
      "  [0.4 0.2 0.2 0.2]]\n",
      "\n",
      " [[0.2 0.2 0.4 0.2]\n",
      "  [0.2 0.2 0.4 0.2]]\n",
      "\n",
      " [[0.4 0.2 0.2 0.2]\n",
      "  [0.2 0.4 0.2 0.2]]\n",
      "\n",
      " [[0.2 0.2 0.4 0.2]\n",
      "  [0.2 0.2 0.2 0.4]]\n",
      "\n",
      " [[0.4 0.2 0.2 0.2]\n",
      "  [0.2 0.2 0.4 0.2]]\n",
      "\n",
      " [[0.2 0.2 0.4 0.2]\n",
      "  [0.4 0.2 0.2 0.2]]\n",
      "\n",
      " [[0.4 0.2 0.2 0.2]\n",
      "  [0.2 0.2 0.4 0.2]]\n",
      "\n",
      " [[0.2 0.2 0.4 0.2]\n",
      "  [0.2 0.4 0.2 0.2]]\n",
      "\n",
      " [[0.4 0.2 0.2 0.2]\n",
      "  [0.4 0.2 0.2 0.2]]\n",
      "\n",
      " [[0.2 0.2 0.4 0.2]\n",
      "  [0.2 0.2 0.4 0.2]]\n",
      "\n",
      " [[0.4 0.2 0.2 0.2]\n",
      "  [0.2 0.4 0.2 0.2]]\n",
      "\n",
      " [[0.2 0.2 0.4 0.2]\n",
      "  [0.2 0.2 0.2 0.4]]\n",
      "\n",
      " [[0.4 0.2 0.2 0.2]\n",
      "  [0.2 0.2 0.4 0.2]]\n",
      "\n",
      " [[0.2 0.2 0.4 0.2]\n",
      "  [0.4 0.2 0.2 0.2]]\n",
      "\n",
      " [[0.4 0.2 0.2 0.2]\n",
      "  [0.2 0.2 0.4 0.2]]\n",
      "\n",
      " [[0.2 0.2 0.4 0.2]\n",
      "  [0.2 0.4 0.2 0.2]]\n",
      "\n",
      " [[0.4 0.2 0.2 0.2]\n",
      "  [0.4 0.2 0.2 0.2]]\n",
      "\n",
      " [[0.2 0.2 0.4 0.2]\n",
      "  [0.2 0.2 0.4 0.2]]\n",
      "\n",
      " [[0.4 0.2 0.2 0.2]\n",
      "  [0.2 0.4 0.2 0.2]]\n",
      "\n",
      " [[0.2 0.2 0.4 0.2]\n",
      "  [0.2 0.2 0.2 0.4]]\n",
      "\n",
      " [[0.4 0.2 0.2 0.2]\n",
      "  [0.2 0.2 0.4 0.2]]\n",
      "\n",
      " [[0.2 0.2 0.4 0.2]\n",
      "  [0.4 0.2 0.2 0.2]]\n",
      "\n",
      " [[0.4 0.2 0.2 0.2]\n",
      "  [0.2 0.2 0.4 0.2]]\n",
      "\n",
      " [[0.2 0.2 0.4 0.2]\n",
      "  [0.2 0.4 0.2 0.2]]\n",
      "\n",
      " [[0.2 0.4 0.2 0.2]\n",
      "  [0.4 0.2 0.2 0.2]]\n",
      "\n",
      " [[0.2 0.2 0.2 0.4]\n",
      "  [0.2 0.2 0.4 0.2]]\n",
      "\n",
      " [[0.2 0.4 0.2 0.2]\n",
      "  [0.2 0.4 0.2 0.2]]\n",
      "\n",
      " [[0.2 0.2 0.2 0.4]\n",
      "  [0.2 0.2 0.2 0.4]]\n",
      "\n",
      " [[0.2 0.4 0.2 0.2]\n",
      "  [0.2 0.2 0.4 0.2]]\n",
      "\n",
      " [[0.2 0.2 0.4 0.2]\n",
      "  [0.4 0.2 0.2 0.2]]\n",
      "\n",
      " [[0.4 0.2 0.2 0.2]\n",
      "  [0.2 0.2 0.4 0.2]]\n",
      "\n",
      " [[0.2 0.2 0.4 0.2]\n",
      "  [0.2 0.4 0.2 0.2]]\n",
      "\n",
      " [[0.2 0.4 0.2 0.2]\n",
      "  [0.4 0.2 0.2 0.2]]\n",
      "\n",
      " [[0.2 0.2 0.2 0.4]\n",
      "  [0.2 0.2 0.4 0.2]]\n",
      "\n",
      " [[0.2 0.4 0.2 0.2]\n",
      "  [0.2 0.4 0.2 0.2]]\n",
      "\n",
      " [[0.2 0.2 0.2 0.4]\n",
      "  [0.2 0.2 0.2 0.4]]\n",
      "\n",
      " [[0.2 0.4 0.2 0.2]\n",
      "  [0.2 0.2 0.4 0.2]]\n",
      "\n",
      " [[0.2 0.2 0.2 0.4]\n",
      "  [0.4 0.2 0.2 0.2]]\n",
      "\n",
      " [[0.2 0.4 0.2 0.2]\n",
      "  [0.2 0.2 0.4 0.2]]\n",
      "\n",
      " [[0.2 0.2 0.2 0.4]\n",
      "  [0.2 0.4 0.2 0.2]]\n",
      "\n",
      " [[0.2 0.4 0.2 0.2]\n",
      "  [0.4 0.2 0.2 0.2]]\n",
      "\n",
      " [[0.2 0.2 0.2 0.4]\n",
      "  [0.2 0.2 0.4 0.2]]\n",
      "\n",
      " [[0.2 0.4 0.2 0.2]\n",
      "  [0.2 0.4 0.2 0.2]]\n",
      "\n",
      " [[0.2 0.2 0.2 0.4]\n",
      "  [0.2 0.2 0.2 0.4]]\n",
      "\n",
      " [[0.2 0.4 0.2 0.2]\n",
      "  [0.2 0.2 0.4 0.2]]\n",
      "\n",
      " [[0.2 0.2 0.2 0.4]\n",
      "  [0.4 0.2 0.2 0.2]]\n",
      "\n",
      " [[0.2 0.4 0.2 0.2]\n",
      "  [0.2 0.2 0.4 0.2]]\n",
      "\n",
      " [[0.2 0.2 0.2 0.4]\n",
      "  [0.2 0.4 0.2 0.2]]\n",
      "\n",
      " [[0.2 0.4 0.2 0.2]\n",
      "  [0.4 0.2 0.2 0.2]]\n",
      "\n",
      " [[0.2 0.2 0.2 0.4]\n",
      "  [0.2 0.2 0.4 0.2]]\n",
      "\n",
      " [[0.2 0.4 0.2 0.2]\n",
      "  [0.2 0.4 0.2 0.2]]\n",
      "\n",
      " [[0.2 0.2 0.2 0.4]\n",
      "  [0.2 0.2 0.2 0.4]]\n",
      "\n",
      " [[0.2 0.4 0.2 0.2]\n",
      "  [0.2 0.2 0.4 0.2]]\n",
      "\n",
      " [[0.2 0.2 0.2 0.4]\n",
      "  [0.4 0.2 0.2 0.2]]\n",
      "\n",
      " [[0.2 0.4 0.2 0.2]\n",
      "  [0.2 0.2 0.4 0.2]]\n",
      "\n",
      " [[0.2 0.2 0.2 0.4]\n",
      "  [0.2 0.4 0.2 0.2]]]\n"
     ]
    }
   ],
   "source": [
    "test = initialize_pmf_omp(model,nb_bit,Frf_quantize,phase_value,2)\n",
    "print(test)"
   ]
  },
  {
   "cell_type": "code",
   "execution_count": 31,
   "metadata": {},
   "outputs": [
    {
     "name": "stdout",
     "output_type": "stream",
     "text": [
      "[0.4 0.2 0.2 0.2]\n",
      "0\n",
      "1\n",
      "2\n",
      "3\n",
      "4\n",
      "5\n",
      "61.847596516455425\n",
      "6\n",
      "32.40738378387935\n",
      "7\n",
      "23.094178357754846\n",
      "8\n",
      "17.337927325699052\n",
      "9\n",
      "12.320366886547877\n",
      "10\n",
      "9.736897680800318\n",
      "11\n",
      "5.574215718425017\n",
      "12\n",
      "5.491160200496451\n",
      "13\n",
      "4.004028320413782\n",
      "14\n",
      "3.8912442195519996\n",
      "15\n",
      "3.0976528422949303\n",
      "16\n",
      "2.5080911607216807\n"
     ]
    }
   ],
   "source": [
    "nb_elite = 40\n",
    "S = 200\n",
    "channel_index = 0\n",
    "Fopt, Wopt = optimal_beamformer(model,channel_index)\n",
    "nb_iterate = 30\n",
    "ps_system_proba = initialize_pmf_omp(model,nb_bit,Frf_quantize,phase_value,2)\n",
    "# R_max = np.zeros((nb_iterate))\n",
    "proba_evo = np.copy(ps_system_proba[0,0,:])\n",
    "print(proba_evo)\n",
    "i = 0\n",
    "relative_std = 1000 # initialize high value of relative standard deviation\n",
    "SNR = 10**(10/10)\n",
    "while ((i<nb_iterate) and (relative_std>3)):\n",
    "    print(i)\n",
    "    F_rf = generate_candidat(S,model,phase_value,ps_system_proba)\n",
    "    F_bb = compute_Fbb(F_rf,model)\n",
    "    R = np.zeros((S))\n",
    "    for j in range(S):\n",
    "        R[j] = data_rate(model['Ns'],SNR,Wopt,model['H'][:,:,channel_index],F_rf[j,:,:]@F_bb[j,:,:])\n",
    "#         R[j] = np.log2(np.linalg.det(np.eye(model['Ns']))+SNR/model['Ns']*np.linalg.pinv(Wopt)@model['H'][:,:,channel_index]@F_rf[j,:,:]@F_bb[j,:,:]@F_bb[j,:,:].conj().T@F_rf[j,:,:].conj().T@model['H'][:,:,channel_index].conj().T@Wopt).real\n",
    "    R_sort_index = np.argsort(R)[::-1][:nb_elite]\n",
    "    if i==0:\n",
    "        R_max = R[R_sort_index[0]]\n",
    "    else:\n",
    "        R_max = np.append(R_max,R[R_sort_index[0]])\n",
    "    F_elites = F_rf[R_sort_index,:,:]\n",
    "    Frf_max = F_rf[R_sort_index[0],:,:]\n",
    "    Fbb_max = F_bb[R_sort_index[0],:,:]\n",
    "    ps_system_proba = update_pmf(F_elites,phase_value,nb_elite)\n",
    "    proba_evo = np.vstack((proba_evo,ps_system_proba[0,0,:]))\n",
    "    if i>=5:\n",
    "        R_max_normalize = R_max-np.min(R_max) ## Need to review\n",
    "        relative_std = 100*np.std(R_max_normalize[i-5:i])/np.mean(R_max_normalize[i-5:i])\n",
    "        print(relative_std)\n",
    "    i +=1"
   ]
  },
  {
   "cell_type": "code",
   "execution_count": 32,
   "metadata": {},
   "outputs": [
    {
     "name": "stdout",
     "output_type": "stream",
     "text": [
      "[13.82254405 15.04123561 15.91398921 16.39925329 17.08741803 17.29891452\n",
      " 17.98436772 18.06548621 18.36696224 18.46656221 18.65492425 18.81309131\n",
      " 18.86568226 19.03227015 19.09322389 19.1474967  19.1984228 ]\n"
     ]
    },
    {
     "data": {
      "text/plain": [
       "Text(0.5,0,'iteration')"
      ]
     },
     "execution_count": 32,
     "metadata": {},
     "output_type": "execute_result"
    },
    {
     "data": {
      "image/png": "[encoded data removed]",
      "text/plain": [
       "<matplotlib.figure.Figure at 0x1f58cccf6d8>"
      ]
     },
     "metadata": {},
     "output_type": "display_data"
    }
   ],
   "source": [
    "print(R_max)\n",
    "plt.plot(R_max)\n",
    "plt.title('data rate against iteration - 2 bits PS')\n",
    "plt.ylabel('data rate (bps/Hz)')\n",
    "plt.xlabel('iteration')"
   ]
  }
 ],
 "metadata": {
  "kernelspec": {
   "display_name": "Python 3",
   "language": "python",
   "name": "python3"
  },
  "language_info": {
   "codemirror_mode": {
    "name": "ipython",
    "version": 3
   },
   "file_extension": ".py",
   "mimetype": "text/x-python",
   "name": "python",
   "nbconvert_exporter": "python",
   "pygments_lexer": "ipython3",
   "version": "3.6.4"
  }
 },
 "nbformat": 4,
 "nbformat_minor": 2
}
