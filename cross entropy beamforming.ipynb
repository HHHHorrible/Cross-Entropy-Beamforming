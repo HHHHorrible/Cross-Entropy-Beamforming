{
 "cells": [
  {
   "cell_type": "markdown",
   "metadata": {},
   "source": [
    "- Load necessary module"
   ]
  },
  {
   "cell_type": "code",
   "execution_count": 1,
   "metadata": {},
   "outputs": [],
   "source": [
    "import scipy.io as io\n",
    "import numpy as np\n",
    "import matplotlib.pyplot as plt\n",
    "from scipy.stats import bernoulli\n",
    "from scipy.stats import multinomial\n",
    "from collections import OrderedDict"
   ]
  },
  {
   "cell_type": "markdown",
   "metadata": {},
   "source": [
    "- Load model that defined in channel realization"
   ]
  },
  {
   "cell_type": "code",
   "execution_count": 2,
   "metadata": {},
   "outputs": [],
   "source": [
    "mat = io.loadmat('temp.mat')\n",
    "model = {}\n",
    "model['H'] = mat['H']\n",
    "# model['Wopt'] = mat['Wopt']\n",
    "# model['Fopt'] = mat['Fopt']\n",
    "# model['Ns'] = mat['Ns'][0,0] ## need to change nb of stream in channel realization, this case 1\n",
    "model['Ns'] = 2\n",
    "model['Nt'] = mat['Nt'][0,0]\n",
    "model['Nr'] = mat['Nr'][0,0]\n",
    "model['Nc'] = mat['Nc'][0,0]\n",
    "model['Nray'] = mat['Nray'][0,0]\n",
    "model['realization'] = mat['realization'][0,0]\n",
    "model['At'] = mat['At']\n",
    "model['Ar'] = mat['Ar']\n",
    "model['Nrf'] = 2"
   ]
  },
  {
   "cell_type": "code",
   "execution_count": 3,
   "metadata": {
    "scrolled": true
   },
   "outputs": [
    {
     "name": "stdout",
     "output_type": "stream",
     "text": [
      "H\n",
      "Ns\n",
      "Nt\n",
      "Nr\n",
      "Nc\n",
      "Nray\n",
      "realization\n",
      "At\n",
      "Ar\n",
      "Nrf\n"
     ]
    }
   ],
   "source": [
    "for key in model:\n",
    "    print(key)"
   ]
  },
  {
   "cell_type": "markdown",
   "metadata": {},
   "source": [
    "Load values of phase shifter included:\n",
    "- nb_bit: number of bit\n",
    "- nb_ps: number of phase shifter in the system\n",
    "- nb_state: number of state in each phase shifter (2^nb_bit)"
   ]
  },
  {
   "cell_type": "markdown",
   "metadata": {},
   "source": [
    "# Cross Entropy Beamforming"
   ]
  },
  {
   "cell_type": "markdown",
   "metadata": {},
   "source": [
    "### Helper function for Cross entropy Beamforming"
   ]
  },
  {
   "cell_type": "code",
   "execution_count": 4,
   "metadata": {},
   "outputs": [],
   "source": [
    "def phase_shifter(n_bit,n_ant):\n",
    "    \"\"\"\n",
    "    Define phase shifter with N bits resolution\n",
    "    \n",
    "    Arguments:\n",
    "    N -- number of bits resolutions\n",
    "    \n",
    "    Returns:\n",
    "    y -- python dictionnary of phase shifter: index of state and value of phase\n",
    "    \"\"\"\n",
    "    nb_state = 2**n_bit\n",
    "    w = np.exp(1j*2*np.pi/nb_state)\n",
    "    ps = np.zeros(nb_state,dtype=complex)\n",
    "    for i in range(nb_state):\n",
    "        ps[i] = w**i/np.sqrt(n_ant)\n",
    "    return np.around(ps, decimals=3)\n",
    "\n",
    "def generate_candidat(S,model,phase_value,ps_system_proba):\n",
    "    \"\"\"\n",
    "    generate S candidates from the previous pmf\n",
    "    \n",
    "    Arguments: \n",
    "    S -- Number of candidates to generate\n",
    "    model -- channel model\n",
    "    phase_value -- possible phase shifted value\n",
    "    ps_system_proba -- pmf of phase shifters\n",
    "    \n",
    "    Returns\n",
    "    F_rf -- S analog precoder system\n",
    "    \"\"\"\n",
    "    F_rf = np.zeros((S,model['Nt'],model['Nrf']),dtype=complex)\n",
    "    for i in range(S):\n",
    "        for j in range(model['Nt']):\n",
    "            for k in range(model['Nrf']):\n",
    "                F_rf[i,j,k] = np.random.choice(phase_value, 1, p=ps_system_proba[j,k,:])\n",
    "    return F_rf\n",
    "\n",
    "def compute_Fbb(F_rf,model):\n",
    "    \"\"\"\n",
    "    Compute baseband precoder base on the effective channel (Heq = H*Frf)\n",
    "    \n",
    "    Arguments:\n",
    "    F_rf -- analog precoder\n",
    "    model -- channel model\n",
    "    \n",
    "    Returns:\n",
    "    F_bb -- S baseband precoder\n",
    "    \"\"\"\n",
    "    S = F_rf.shape[0]\n",
    "    channel_eq = np.zeros((S,model['Nr'],model['Nrf']),dtype=complex)\n",
    "    F_bb = np.zeros((S,model['Nrf'],model['Ns']),dtype=complex)\n",
    "    channel_index = 0 ### need to adjust \n",
    "    for i in range(S):\n",
    "        channel_eq[i,:,:] =  model['H'][:,:,channel_index]@F_rf[i,:,:]\n",
    "        U, s, V = np.linalg.svd(channel_eq[i,:,:], full_matrices=True)\n",
    "        V = V.conj().T\n",
    "        F_bb[i,:,:] = V[0:model['Nt'],0:model['Ns']]\n",
    "        F_bb[i,:,:] = np.sqrt(model['Ns'])*F_bb[i,:,:]/np.linalg.norm(F_rf[i,:,:]@F_bb[i,:,:],'fro')\n",
    "    return F_bb\n",
    "\n",
    "def optimal_beamformer(model, channel_index):\n",
    "    \"\"\"\n",
    "    Compute the optimal beamformer by SVD\n",
    "    \n",
    "    Arguments:\n",
    "    model -- channel model\n",
    "    channel_index -- index in 1000 realization channel\n",
    "    \n",
    "    Returns:\n",
    "    Fopt -- optimal precoder\n",
    "    Wopt -- optimal combiner\n",
    "    \"\"\"\n",
    "    Wopt = np.zeros((model['Nr'],model['Ns']),dtype=complex)\n",
    "    Fopt = np.zeros((model['Nt'],model['Ns']),dtype=complex)\n",
    "    U, s, V = np.linalg.svd(model['H'][:,:,channel_index], full_matrices=True)\n",
    "    V = V.conj().T\n",
    "    Fopt = V[0:model['Nt'],0:model['Ns']]\n",
    "    Wopt = U[0:model['Nr'],0:model['Ns']]\n",
    "    return Fopt, Wopt\n",
    "\n",
    "\n",
    "def update_pmf(F_elites,phase_value,nb_elite,R_elite):\n",
    "    \"\"\"\n",
    "    Update new phase shifters's pmf base on previous candidates's results\n",
    "    \n",
    "    Arguments:\n",
    "    F_elites -- elites analog precoder\n",
    "    phase_value -- phase shift value\n",
    "    nb_elite -- number of elites \n",
    "    \n",
    "    Returns:\n",
    "    ps_system_proba -- pmf of phase shifter\n",
    "    \"\"\"\n",
    "    alpha = 0.9\n",
    "    nb_state = phase_value.shape[0]\n",
    "    stat_count = np.zeros(nb_state)\n",
    "    assign = np.zeros(nb_elite)\n",
    "    weight = R_elite/np.mean(R_elite)\n",
    "    for i in range(model['Nt']):\n",
    "        for j in range(model['Nrf']):\n",
    "#             unique, counts = np.unique(F_elites[:,i,j], return_counts=True)\n",
    "#             value_count = dict(zip(unique, counts))\n",
    "            for k in range(nb_state):\n",
    "#                 if phase_value[k] in value_count:   \n",
    "#                     proba_est = value_count[phase_value[k]]/nb_elite\n",
    "#                 else:\n",
    "#                     proba_est = 0\n",
    "                assign = F_elites[:,i,j] == phase_value[k]\n",
    "                proba_est = np.sum(assign*weight)/nb_elite\n",
    "                ps_system_proba[i,j,k] = alpha*proba_est + (1-alpha)*ps_system_proba[i,j,k] \n",
    "    return ps_system_proba\n",
    "\n",
    "def data_rate(Ns,SNR,W,H,F):\n",
    "    \"\"\"\n",
    "    Compute the data rate of the beamforming system\n",
    "    \n",
    "    Arguments:\n",
    "    Ns -- number of stream\n",
    "    SNR -- Signal to noise ratio\n",
    "    W -- combiner\n",
    "    H -- channel\n",
    "    F -- precoder\n",
    "    \n",
    "    Returns:\n",
    "    R -- data rate\n",
    "    \"\"\"\n",
    "    R = np.log2(np.linalg.det(np.eye(Ns)+SNR/Ns*np.linalg.pinv(W)@H@F@F.conj().T@H.conj().T@W))\n",
    "    return R.real"
   ]
  },
  {
   "cell_type": "markdown",
   "metadata": {},
   "source": [
    "### Define Phase shiter"
   ]
  },
  {
   "cell_type": "code",
   "execution_count": 5,
   "metadata": {},
   "outputs": [],
   "source": [
    "#             for k in range(nb_state):\n",
    "# #                 if phase_value[k] in value_count:   \n",
    "# #                     proba_est = value_count[phase_value[k]]/nb_elite\n",
    "# #                 else:\n",
    "# #                     proba_est = 0\n",
    "#                 assign = F_elites[:,i,j] == phase_value[k]\n",
    "#                 proba_est = np.sum(assign)/nb_elite\n",
    "#                 ps_system_proba[i,j,k] = alpha*proba_est + (1-alpha)*ps_system_proba[i,j,k] "
   ]
  },
  {
   "cell_type": "code",
   "execution_count": 6,
   "metadata": {},
   "outputs": [],
   "source": [
    "nb_bit = 2\n",
    "nb_ps = model['Nt']*model['Nrf']\n",
    "nb_ps\n",
    "nb_state = 2**nb_bit"
   ]
  },
  {
   "cell_type": "code",
   "execution_count": 7,
   "metadata": {},
   "outputs": [
    {
     "data": {
      "text/plain": [
       "array([ 0.125+0.   j,  0.   +0.125j, -0.125+0.   j, -0.   -0.125j])"
      ]
     },
     "execution_count": 7,
     "metadata": {},
     "output_type": "execute_result"
    }
   ],
   "source": [
    "phase_value = phase_shifter(nb_bit,model['Nt'])\n",
    "phase_value"
   ]
  },
  {
   "cell_type": "markdown",
   "metadata": {},
   "source": [
    "Phase shifter system dimension is: NtxNrfxN_state"
   ]
  },
  {
   "cell_type": "markdown",
   "metadata": {},
   "source": [
    "### Cross entropy beamforming Algorithm\n",
    " Step 1: Randomly generate S candidate analog beamformers\n",
    "\n",
    " Step 2: Compute S corresponding digital precoders Fbb based on the effective channel Heq = HFrf\n",
    "\n",
    " Step 3: Calculate the achievable sum-rate\n",
    "\n",
    " Step 4: Sort R in a descend order\n",
    "\n",
    " Step 5: Select elites as Frf_1, Frf_2, ..., Frf_elite\n",
    "\n",
    " Step 6: Update new pmf for each phase shifter"
   ]
  },
  {
   "cell_type": "code",
   "execution_count": 8,
   "metadata": {},
   "outputs": [],
   "source": [
    "channel_index = 0\n",
    "model['Fopt'], model['Wopt'] = optimal_beamformer(model,channel_index)\n"
   ]
  },
  {
   "cell_type": "code",
   "execution_count": 9,
   "metadata": {},
   "outputs": [],
   "source": [
    "# nb_elite = 40\n",
    "# S = 200\n",
    "# channel_index = 0\n",
    "# nb_iterate = 30\n",
    "# SNR = 10**(10/10)\n",
    "\n",
    "\n",
    "# ps_system_proba = np.ones((model['Nt'],model['Nrf'],nb_state))*(1/nb_state)\n",
    "# Fopt, Wopt = model['Fopt'],model['Wopt']\n",
    "# F_rf = generate_candidat(S,model,phase_value,ps_system_proba)\n",
    "# F_bb = compute_Fbb(F_rf,model)\n",
    "# R = np.zeros((S))\n",
    "# for j in range(S):\n",
    "#     R[j] = data_rate(model['Ns'],SNR,Wopt,model['H'][:,:,channel_index],F_rf[j,:,:]@F_bb[j,:,:])\n",
    "# R_sort_index = np.argsort(R)[::-1][:nb_elite]\n",
    "# R_max = R[R_sort_index[0]]            \n",
    "# F_elites = F_rf[R_sort_index,:,:]\n",
    "# Frf_max = F_rf[R_sort_index[0],:,:]\n",
    "# Fbb_max = F_bb[R_sort_index[0],:,:]"
   ]
  },
  {
   "cell_type": "code",
   "execution_count": 10,
   "metadata": {},
   "outputs": [],
   "source": [
    "# nb_state = phase_value.shape[0]\n",
    "\n",
    "# for i in range(nb_state):\n",
    "    "
   ]
  },
  {
   "cell_type": "code",
   "execution_count": 11,
   "metadata": {},
   "outputs": [],
   "source": [
    "# test = F_elites[:,0,0] == phase_value[0]\n",
    "# print(test*weight)\n",
    "# print(np.sum(test*weight))"
   ]
  },
  {
   "cell_type": "code",
   "execution_count": 12,
   "metadata": {},
   "outputs": [],
   "source": [
    "# test.shape"
   ]
  },
  {
   "cell_type": "code",
   "execution_count": 13,
   "metadata": {},
   "outputs": [],
   "source": [
    "# np.mean(R[R_sort_index])\n",
    "# weight = R[R_sort_index]/np.mean(R[R_sort_index])\n",
    "# print(weight)\n",
    "# print(np.mean(weight))"
   ]
  },
  {
   "cell_type": "code",
   "execution_count": null,
   "metadata": {},
   "outputs": [],
   "source": []
  },
  {
   "cell_type": "code",
   "execution_count": null,
   "metadata": {},
   "outputs": [],
   "source": [
    "def CE_beamforming(nb_elite,S,nb_iterate,model,nb_bit,ps_system_proba,channel_index,SNR):\n",
    "    \"\"\"\n",
    "    Hybrid beamforming by Cross-entropy method\n",
    "    \n",
    "    \"\"\"\n",
    "    Fopt, Wopt = model['Fopt'],model['Wopt']\n",
    "    proba_evo = np.copy(ps_system_proba[0,0,:])\n",
    "    print(proba_evo)\n",
    "    relative_std = 1000 # initialize high value of relative standard deviation\n",
    "    i = 0\n",
    "    while ((i<nb_iterate) and (relative_std>3)):\n",
    "        print(i)\n",
    "        F_rf = generate_candidat(S,model,phase_value,ps_system_proba)\n",
    "        F_bb = compute_Fbb(F_rf,model)\n",
    "        R = np.zeros((S))\n",
    "        for j in range(S):\n",
    "            R[j] = data_rate(model['Ns'],SNR,Wopt,model['H'][:,:,channel_index],F_rf[j,:,:]@F_bb[j,:,:])\n",
    "        R_sort_index = np.argsort(R)[::-1][:nb_elite]\n",
    "        if i==0:\n",
    "            R_max = R[R_sort_index[0]]\n",
    "        else:\n",
    "            R_max = np.append(R_max,R[R_sort_index[0]])\n",
    "        F_elites = F_rf[R_sort_index,:,:]\n",
    "        Frf_max = F_rf[R_sort_index[0],:,:]\n",
    "        Fbb_max = F_bb[R_sort_index[0],:,:]\n",
    "        ps_system_proba = update_pmf(F_elites,phase_value,nb_elite,R[R_sort_index])\n",
    "        proba_evo = np.vstack((proba_evo,ps_system_proba[0,0,:]))\n",
    "        if i>=5:\n",
    "            R_max_normalize = R_max-np.min(R_max) ## Need to review\n",
    "            relative_std = 100*np.std(R_max_normalize[i-5:i])/np.mean(R_max_normalize[i-5:i])\n",
    "            print(relative_std)\n",
    "        i +=1\n",
    "    output = {}\n",
    "    output['R_max'] = R_max\n",
    "    output['Frf_max'] = Frf_max\n",
    "    output['Fbb_max'] = Fbb_max\n",
    "    output['nb_ite'] = i\n",
    "    output['proba_evo'] = proba_evo\n",
    "    output['ps_system_proba'] = ps_system_proba\n",
    "    return output"
   ]
  },
  {
   "cell_type": "code",
   "execution_count": null,
   "metadata": {
    "scrolled": true
   },
   "outputs": [
    {
     "name": "stdout",
     "output_type": "stream",
     "text": [
      "[0.25 0.25 0.25 0.25]\n",
      "0\n",
      "1\n",
      "2\n",
      "3\n",
      "4\n",
      "5\n",
      "51.46460773555469\n",
      "6\n",
      "60.02698656184112\n",
      "7\n",
      "57.94940750445572\n",
      "8\n",
      "49.20061574219406\n",
      "9\n",
      "36.78107385090878\n",
      "10\n"
     ]
    }
   ],
   "source": [
    "nb_elite = 40\n",
    "S = 200\n",
    "channel_index = 0\n",
    "nb_iterate = 30\n",
    "ps_system_proba = np.ones((model['Nt'],model['Nrf'],nb_state))*(1/nb_state)\n",
    "SNR = 10**(10/10)\n",
    "CE_result = CE_beamforming(nb_elite,S,nb_iterate,model,nb_bit,ps_system_proba,channel_index,SNR)"
   ]
  },
  {
   "cell_type": "code",
   "execution_count": null,
   "metadata": {},
   "outputs": [],
   "source": [
    "# Evolution of pmf of 1 phase shifter\n",
    "np.around(CE_result['proba_evo'], decimals=3)"
   ]
  },
  {
   "cell_type": "code",
   "execution_count": null,
   "metadata": {},
   "outputs": [],
   "source": [
    "print('Data rate evolution: ' + str(CE_result['R_max']))\n",
    "plt.plot(CE_result['R_max'])\n",
    "plt.title('data rate against iteration - 2 bits PS')\n",
    "plt.ylabel('data rate (bps/Hz)')\n",
    "plt.xlabel('iteration')\n",
    "print('Number of iteration: ' + str(CE_result['nb_ite']))\n",
    "print('Phase shifter pmf' + str(np.around(CE_result['proba_evo'], decimals=3)))"
   ]
  },
  {
   "cell_type": "markdown",
   "metadata": {},
   "source": [
    "Test:\n",
    "\n",
    "2 bits -- 17.56 bps/Hz - 16 iterate\n",
    "\n",
    "3 bits -- 17.68 bps/Hz - 18 iterate\n",
    "\n",
    "4 bits -- 17.71 bps/Hz - 18 iterate\n",
    "\n",
    "6 bits -- 17.68 bps/Hz - 19 iterate"
   ]
  },
  {
   "cell_type": "markdown",
   "metadata": {},
   "source": [
    "# Digital Beamforming"
   ]
  },
  {
   "cell_type": "code",
   "execution_count": null,
   "metadata": {},
   "outputs": [],
   "source": [
    "R_o = data_rate(model['Ns'],SNR,model['Wopt'],model['H'][:,:,channel_index],model['Fopt'])\n",
    "print('Data rate by digital beamforming: ' + str(R_o))"
   ]
  },
  {
   "cell_type": "code",
   "execution_count": null,
   "metadata": {},
   "outputs": [],
   "source": [
    "# Normalize condition\n",
    "x = np.linalg.norm(CE_result['Frf_max']@CE_result['Fbb_max'],'fro')\n",
    "print(\"Ns\", model['Ns'] , \"   Frobenius norm FRF*FBB=\", x**2)"
   ]
  },
  {
   "cell_type": "markdown",
   "metadata": {},
   "source": [
    "# OMP Beamforming"
   ]
  },
  {
   "cell_type": "code",
   "execution_count": null,
   "metadata": {},
   "outputs": [],
   "source": [
    "def OMP(_Fopt,_NRF,_At):\n",
    "    \"\"\"\n",
    "    Orthogonal matching pursuit for hybrid beamforming\n",
    "    \n",
    "    \"\"\"\n",
    "    _FRF = np.empty((_At.shape[0],0))\n",
    "    _Fres = _Fopt\n",
    "    for k in range(_NRF):\n",
    "        PU = _At.conj().T@_Fres\n",
    "        ind = np.argmax(np.sum((np.absolute(PU))**2,axis=1))\n",
    "        _FRF = np.append(_FRF,_At[:,[ind]],axis=1)\n",
    "        _FBB = (np.linalg.pinv(_FRF))@_Fopt\n",
    "        _Fres = (_Fopt-_FRF@_FBB)/np.linalg.norm((_Fopt-_FRF@_FBB),'fro')\n",
    "#         _Fres = (_Fopt-_FRF@_FBB)\n",
    "    return _FRF,_FBB"
   ]
  },
  {
   "cell_type": "code",
   "execution_count": null,
   "metadata": {},
   "outputs": [],
   "source": [
    "FRF_omp, FBB_omp = OMP( model['Fopt'], model['Nrf'], model['At'][:,:,channel_index] ) "
   ]
  },
  {
   "cell_type": "code",
   "execution_count": null,
   "metadata": {},
   "outputs": [],
   "source": [
    "R_omp = data_rate(model['Ns'],SNR,model['Wopt'],model['H'][:,:,channel_index],FRF_omp@FBB_omp)\n",
    "print(\"Data rate by OMP: \" + str(R_omp))"
   ]
  },
  {
   "cell_type": "markdown",
   "metadata": {},
   "source": [
    "### Quantize omp beamforming"
   ]
  },
  {
   "cell_type": "code",
   "execution_count": null,
   "metadata": {},
   "outputs": [],
   "source": [
    "def quantize_Frf(model,n_bit,F_rf,channel_index):\n",
    "    \"\"\"\n",
    "    Quantize precoder for low resolutioin phase shifter\n",
    "    \n",
    "    \"\"\"\n",
    "    q = 2*np.pi/2**n_bit\n",
    "    amplitude = 1/np.sqrt(model['Nt'])\n",
    "    Frf_angle = np.angle(F_rf)\n",
    "    angle_quantized = q * np.round(Frf_angle/q)\n",
    "    Frf_quantized = amplitude*np.exp(1j*angle_quantized)\n",
    "    Frf_quantized = np.around(Frf_quantized, decimals=3)\n",
    "    \n",
    "    channel_eq =  model['H'][:,:,channel_index]@Frf_quantized\n",
    "    U, s, V = np.linalg.svd(channel_eq, full_matrices=True)\n",
    "    V = V.conj().T\n",
    "    F_bb = V[0:model['Nt'],0:model['Ns']]\n",
    "    F_bb = np.sqrt(model['Ns'])*F_bb/np.linalg.norm(Frf_quantized@F_bb,'fro')\n",
    "    \n",
    "    return Frf_quantized, F_bb"
   ]
  },
  {
   "cell_type": "code",
   "execution_count": null,
   "metadata": {
    "scrolled": true
   },
   "outputs": [],
   "source": [
    "Frf_quantize, Fbb_quantize = quantize_Frf(model,nb_bit,FRF_omp,channel_index)"
   ]
  },
  {
   "cell_type": "code",
   "execution_count": null,
   "metadata": {},
   "outputs": [],
   "source": [
    "R_omp_quantized = data_rate(model['Ns'],SNR,model['Wopt'],model['H'][:,:,channel_index],Frf_quantize@Fbb_quantize)\n",
    "print('Data rate by OMP with quantization: ' + str(R_omp_quantized))"
   ]
  },
  {
   "cell_type": "code",
   "execution_count": null,
   "metadata": {},
   "outputs": [],
   "source": [
    "# Normalize condition\n",
    "x = np.linalg.norm(Frf_quantize@Fbb_quantize,'fro')\n",
    "print(\"Ns\", model['Ns'] , \"   Frobenius norm FRF*FBB=\", x**2)"
   ]
  },
  {
   "cell_type": "markdown",
   "metadata": {},
   "source": [
    "### Initialize pmf of phase shiter with OMP"
   ]
  },
  {
   "cell_type": "code",
   "execution_count": null,
   "metadata": {},
   "outputs": [],
   "source": [
    "phase_value"
   ]
  },
  {
   "cell_type": "code",
   "execution_count": null,
   "metadata": {
    "scrolled": true
   },
   "outputs": [],
   "source": [
    "Frf_quantize"
   ]
  },
  {
   "cell_type": "code",
   "execution_count": null,
   "metadata": {},
   "outputs": [],
   "source": [
    "def initialize_pmf_omp(model,nb_bit,Frf_omp_quantize,phase_value,ratio):\n",
    "    \"\"\"\n",
    "    Initialize pmf of phase shifter with solution getting by OMP\n",
    "    \n",
    "    \"\"\"\n",
    "    low_proba = 1/(2**nb_bit-1+ratio)\n",
    "    high_proba = ratio*low_proba\n",
    "    proba_init = np.zeros((model['Nt'],model['Nrf'],2**nb_bit))\n",
    "    for i in range(phase_value.shape[0]):\n",
    "        assign = Frf_quantize == phase_value[i]\n",
    "        proba_init[:,:,i] = assign*high_proba + np.invert(assign)*low_proba\n",
    "    return proba_init"
   ]
  },
  {
   "cell_type": "markdown",
   "metadata": {},
   "source": [
    "### Cross entropy method with initialization by quantized OMP"
   ]
  },
  {
   "cell_type": "code",
   "execution_count": null,
   "metadata": {},
   "outputs": [],
   "source": [
    "nb_elite = 40\n",
    "S = 200\n",
    "channel_index = 0\n",
    "nb_iterate = 30\n",
    "ps_system_proba_omp = initialize_pmf_omp(model,nb_bit,Frf_quantize,phase_value,2)\n",
    "SNR = 10**(10/10)\n",
    "CE_result_omp = CE_beamforming(nb_elite,S,nb_iterate,model,nb_bit,ps_system_proba_omp,channel_index,SNR)"
   ]
  },
  {
   "cell_type": "code",
   "execution_count": null,
   "metadata": {},
   "outputs": [],
   "source": [
    "print('Data rate evolution: ' + str(CE_result_omp['R_max']))\n",
    "plt.plot(CE_result_omp['R_max'])\n",
    "plt.title('data rate against iteration - 2 bits PS')\n",
    "plt.ylabel('data rate (bps/Hz)')\n",
    "plt.xlabel('iteration')\n",
    "print('Number of iteration: ' + str(CE_result_omp['nb_ite']))\n",
    "print('Phase shifter pmf' + str(np.around(CE_result_omp['proba_evo'], decimals=3)))"
   ]
  }
 ],
 "metadata": {
  "kernelspec": {
   "display_name": "Python 3",
   "language": "python",
   "name": "python3"
  },
  "language_info": {
   "codemirror_mode": {
    "name": "ipython",
    "version": 3
   },
   "file_extension": ".py",
   "mimetype": "text/x-python",
   "name": "python",
   "nbconvert_exporter": "python",
   "pygments_lexer": "ipython3",
   "version": "3.6.4"
  }
 },
 "nbformat": 4,
 "nbformat_minor": 2
}
