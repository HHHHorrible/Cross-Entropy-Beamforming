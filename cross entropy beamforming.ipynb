{
 "cells": [
  {
   "cell_type": "markdown",
   "metadata": {},
   "source": [
    "- Load necessary module"
   ]
  },
  {
   "cell_type": "code",
   "execution_count": 1,
   "metadata": {},
   "outputs": [],
   "source": [
    "import scipy.io as io\n",
    "import numpy as np\n",
    "import matplotlib.pyplot as plt\n",
    "from scipy.stats import bernoulli\n",
    "from scipy.stats import multinomial\n",
    "from collections import OrderedDict"
   ]
  },
  {
   "cell_type": "markdown",
   "metadata": {},
   "source": [
    "- Load model that defined in channel realization"
   ]
  },
  {
   "cell_type": "code",
   "execution_count": 2,
   "metadata": {},
   "outputs": [],
   "source": [
    "np.random.seed(1)\n",
    "mat = io.loadmat('tempNs4.mat')\n",
    "model = {}\n",
    "model['H'] = mat['H']\n",
    "# model['Wopt'] = mat['Wopt']\n",
    "# model['Fopt'] = mat['Fopt']\n",
    "# model['Ns'] = mat['Ns'][0,0] ## need to change nb of stream in channel realization, this case 1\n",
    "model['Ns'] = 4\n",
    "model['Nt'] = mat['Nt'][0,0]\n",
    "model['Nr'] = mat['Nr'][0,0]\n",
    "model['Nc'] = mat['Nc'][0,0]\n",
    "model['Nray'] = mat['Nray'][0,0]\n",
    "model['realization'] = mat['realization'][0,0]\n",
    "model['At'] = mat['At']\n",
    "model['Ar'] = mat['Ar']\n",
    "model['Nrf'] = 4"
   ]
  },
  {
   "cell_type": "code",
   "execution_count": 3,
   "metadata": {
    "scrolled": true
   },
   "outputs": [
    {
     "name": "stdout",
     "output_type": "stream",
     "text": [
      "H\n",
      "Ns\n",
      "Nt\n",
      "Nr\n",
      "Nc\n",
      "Nray\n",
      "realization\n",
      "At\n",
      "Ar\n",
      "Nrf\n"
     ]
    }
   ],
   "source": [
    "for key in model:\n",
    "    print(key)"
   ]
  },
  {
   "cell_type": "markdown",
   "metadata": {},
   "source": [
    "Load values of phase shifter included:\n",
    "- nb_bit: number of bit\n",
    "- nb_ps: number of phase shifter in the system\n",
    "- nb_state: number of state in each phase shifter (2^nb_bit)"
   ]
  },
  {
   "cell_type": "markdown",
   "metadata": {},
   "source": [
    "# Cross Entropy Beamforming"
   ]
  },
  {
   "cell_type": "markdown",
   "metadata": {},
   "source": [
    "### Helper function for Cross entropy Beamforming"
   ]
  },
  {
   "cell_type": "code",
   "execution_count": 4,
   "metadata": {},
   "outputs": [],
   "source": [
    "def phase_shifter(n_bit,n_ant):\n",
    "    \"\"\"\n",
    "    Define phase shifter with N bits resolution\n",
    "    \n",
    "    Arguments:\n",
    "    N -- number of bits resolutions\n",
    "    \n",
    "    Returns:\n",
    "    y -- python dictionnary of phase shifter: index of state and value of phase\n",
    "    \"\"\"\n",
    "    nb_state = 2**n_bit\n",
    "    w = np.exp(1j*2*np.pi/nb_state)\n",
    "    ps = np.zeros(nb_state,dtype=complex)\n",
    "    for i in range(nb_state):\n",
    "        ps[i] = w**i/np.sqrt(n_ant)\n",
    "    return np.around(ps, decimals=3)\n",
    "\n",
    "def generate_candidat(S,model,phase_value,ps_system_proba):\n",
    "    \"\"\"\n",
    "    generate S candidates from the previous pmf\n",
    "    \n",
    "    Arguments: \n",
    "    S -- Number of candidates to generate\n",
    "    model -- channel model\n",
    "    phase_value -- possible phase shifted value\n",
    "    ps_system_proba -- pmf of phase shifters\n",
    "    \n",
    "    Returns\n",
    "    F_rf -- S analog precoder system\n",
    "    \"\"\"\n",
    "    F_rf = np.zeros((S,model['Nt'],model['Nrf']),dtype=complex)\n",
    "    for i in range(S):\n",
    "        for j in range(model['Nt']):\n",
    "            for k in range(model['Nrf']):\n",
    "                F_rf[i,j,k] = np.random.choice(phase_value, 1, p=ps_system_proba[j,k,:])\n",
    "    return F_rf\n",
    "\n",
    "def compute_Fbb(F_rf,model):\n",
    "    \"\"\"\n",
    "    Compute baseband precoder base on the effective channel (Heq = H*Frf)\n",
    "    \n",
    "    Arguments:\n",
    "    F_rf -- analog precoder\n",
    "    model -- channel model\n",
    "    \n",
    "    Returns:\n",
    "    F_bb -- S baseband precoder\n",
    "    \"\"\"\n",
    "    S = F_rf.shape[0]\n",
    "    channel_eq = np.zeros((S,model['Nr'],model['Nrf']),dtype=complex)\n",
    "    F_bb = np.zeros((S,model['Nrf'],model['Ns']),dtype=complex)\n",
    "    channel_index = 0 ### need to adjust \n",
    "    for i in range(S):\n",
    "        channel_eq[i,:,:] =  model['H'][:,:,channel_index]@F_rf[i,:,:]\n",
    "        U, s, V = np.linalg.svd(channel_eq[i,:,:], full_matrices=True)\n",
    "        V = V.conj().T\n",
    "        F_bb[i,:,:] = V[0:model['Nt'],0:model['Ns']]\n",
    "        F_bb[i,:,:] = np.sqrt(model['Ns'])*F_bb[i,:,:]/np.linalg.norm(F_rf[i,:,:]@F_bb[i,:,:],'fro')\n",
    "    return F_bb\n",
    "\n",
    "def optimal_beamformer(model, channel_index):\n",
    "    \"\"\"\n",
    "    Compute the optimal beamformer by SVD\n",
    "    \n",
    "    Arguments:\n",
    "    model -- channel model\n",
    "    channel_index -- index in 1000 realization channel\n",
    "    \n",
    "    Returns:\n",
    "    Fopt -- optimal precoder\n",
    "    Wopt -- optimal combiner\n",
    "    \"\"\"\n",
    "    Wopt = np.zeros((model['Nr'],model['Ns']),dtype=complex)\n",
    "    Fopt = np.zeros((model['Nt'],model['Ns']),dtype=complex)\n",
    "    U, s, V = np.linalg.svd(model['H'][:,:,channel_index], full_matrices=True)\n",
    "    V = V.conj().T\n",
    "    Fopt = V[0:model['Nt'],0:model['Ns']]\n",
    "    Wopt = U[0:model['Nr'],0:model['Ns']]\n",
    "    return Fopt, Wopt\n",
    "\n",
    "\n",
    "def update_pmf(F_elites,phase_value,nb_elite,R_elite):\n",
    "    \"\"\"\n",
    "    Update new phase shifters's pmf base on previous candidates's results\n",
    "    \n",
    "    Arguments:\n",
    "    F_elites -- elites analog precoder\n",
    "    phase_value -- phase shift value\n",
    "    nb_elite -- number of elites \n",
    "    \n",
    "    Returns:\n",
    "    ps_system_proba -- pmf of phase shifter\n",
    "    \"\"\"\n",
    "    alpha = 0.9\n",
    "    nb_state = phase_value.shape[0]\n",
    "    stat_count = np.zeros(nb_state)\n",
    "    assign = np.zeros(nb_elite)\n",
    "    weight = R_elite/np.mean(R_elite)\n",
    "    for i in range(model['Nt']):\n",
    "        for j in range(model['Nrf']):\n",
    "            for k in range(nb_state):\n",
    "                assign = F_elites[:,i,j] == phase_value[k]\n",
    "                proba_est = np.sum(assign*weight)/nb_elite\n",
    "#                 proba_est = np.sum(assign)/nb_elite\n",
    "                ps_system_proba[i,j,k] = alpha*proba_est + (1-alpha)*ps_system_proba[i,j,k] \n",
    "    return ps_system_proba\n",
    "\n",
    "def data_rate(Ns,SNR,W,H,F):\n",
    "    \"\"\"\n",
    "    Compute the data rate of the beamforming system\n",
    "    \n",
    "    Arguments:\n",
    "    Ns -- number of stream\n",
    "    SNR -- Signal to noise ratio\n",
    "    W -- combiner\n",
    "    H -- channel\n",
    "    F -- precoder\n",
    "    \n",
    "    Returns:\n",
    "    R -- data rate\n",
    "    \"\"\"\n",
    "    R = np.log2(np.linalg.det(np.eye(Ns)+SNR/Ns*np.linalg.pinv(W)@H@F@F.conj().T@H.conj().T@W))\n",
    "    return R.real"
   ]
  },
  {
   "cell_type": "markdown",
   "metadata": {},
   "source": [
    "### Define Phase shiter"
   ]
  },
  {
   "cell_type": "code",
   "execution_count": 5,
   "metadata": {},
   "outputs": [],
   "source": [
    "nb_bit = 2\n",
    "nb_ps = model['Nt']*model['Nrf']\n",
    "nb_ps\n",
    "nb_state = 2**nb_bit"
   ]
  },
  {
   "cell_type": "code",
   "execution_count": 6,
   "metadata": {},
   "outputs": [
    {
     "data": {
      "text/plain": [
       "array([ 0.125+0.   j,  0.   +0.125j, -0.125+0.   j, -0.   -0.125j])"
      ]
     },
     "execution_count": 6,
     "metadata": {},
     "output_type": "execute_result"
    }
   ],
   "source": [
    "phase_value = phase_shifter(nb_bit,model['Nt'])\n",
    "phase_value"
   ]
  },
  {
   "cell_type": "markdown",
   "metadata": {},
   "source": [
    "Phase shifter system dimension is: NtxNrfxN_state"
   ]
  },
  {
   "cell_type": "markdown",
   "metadata": {},
   "source": [
    "### Cross entropy beamforming Algorithm\n",
    " Step 1: Randomly generate S candidate analog beamformers\n",
    "\n",
    " Step 2: Compute S corresponding digital precoders Fbb based on the effective channel Heq = HFrf\n",
    "\n",
    " Step 3: Calculate the achievable sum-rate\n",
    "\n",
    " Step 4: Sort R in a descend order\n",
    "\n",
    " Step 5: Select elites as Frf_1, Frf_2, ..., Frf_elite\n",
    "\n",
    " Step 6: Update new pmf for each phase shifter"
   ]
  },
  {
   "cell_type": "code",
   "execution_count": 7,
   "metadata": {},
   "outputs": [],
   "source": [
    "channel_index = 0\n",
    "model['Fopt'], model['Wopt'] = optimal_beamformer(model,channel_index)\n"
   ]
  },
  {
   "cell_type": "code",
   "execution_count": 8,
   "metadata": {},
   "outputs": [],
   "source": [
    "def CE_beamforming(nb_elite,S,nb_iterate,model,nb_bit,ps_system_proba,channel_index,SNR):\n",
    "    \"\"\"\n",
    "    Hybrid beamforming by Cross-entropy method\n",
    "    \n",
    "    \"\"\"\n",
    "    Fopt, Wopt = model['Fopt'],model['Wopt']\n",
    "    proba_evo = np.copy(ps_system_proba[0,0,:])\n",
    "    print(proba_evo)\n",
    "    relative_std = 1000 # initialize high value of relative standard deviation\n",
    "    i = 0\n",
    "    while ((i<nb_iterate) and (relative_std>3)):\n",
    "        print(i)\n",
    "        F_rf = generate_candidat(S,model,phase_value,ps_system_proba)\n",
    "        F_bb = compute_Fbb(F_rf,model)\n",
    "        R = np.zeros((S))\n",
    "        for j in range(S):\n",
    "            R[j] = data_rate(model['Ns'],SNR,Wopt,model['H'][:,:,channel_index],F_rf[j,:,:]@F_bb[j,:,:])\n",
    "        R_sort_index = np.argsort(R)[::-1][:nb_elite]\n",
    "        if i==0:\n",
    "            R_max = R[R_sort_index[0]]\n",
    "        else:\n",
    "            R_max = np.append(R_max,R[R_sort_index[0]])\n",
    "        F_elites = F_rf[R_sort_index,:,:]\n",
    "        Frf_max = F_rf[R_sort_index[0],:,:]\n",
    "        Fbb_max = F_bb[R_sort_index[0],:,:]\n",
    "        ps_system_proba = update_pmf(F_elites,phase_value,nb_elite,R[R_sort_index])\n",
    "        proba_evo = np.vstack((proba_evo,ps_system_proba[0,0,:]))\n",
    "        if i>=5:\n",
    "            R_max_normalize = R_max-np.min(R_max) ## Need to review\n",
    "            relative_std = 100*np.std(R_max_normalize[i-5:i])/np.mean(R_max_normalize[i-5:i])\n",
    "            print(relative_std)\n",
    "        i +=1\n",
    "    output = {}\n",
    "    output['R_max'] = R_max\n",
    "    output['Frf_max'] = Frf_max\n",
    "    output['Fbb_max'] = Fbb_max\n",
    "    output['nb_ite'] = i\n",
    "    output['proba_evo'] = proba_evo\n",
    "    output['ps_system_proba'] = ps_system_proba\n",
    "    return output"
   ]
  },
  {
   "cell_type": "code",
   "execution_count": 9,
   "metadata": {
    "scrolled": true
   },
   "outputs": [
    {
     "name": "stdout",
     "output_type": "stream",
     "text": [
      "[0.25 0.25 0.25 0.25]\n",
      "0\n",
      "1\n",
      "2\n",
      "3\n",
      "4\n",
      "5\n",
      "75.39862673978143\n",
      "6\n",
      "46.37945006145996\n",
      "7\n",
      "16.330284530011088\n",
      "8\n",
      "17.226051050970316\n",
      "9\n",
      "33.78736022942869\n",
      "10\n",
      "31.77998800405009\n",
      "11\n",
      "43.87542362054902\n",
      "12\n",
      "37.69499298507446\n",
      "13\n",
      "32.10030118081823\n",
      "14\n",
      "29.054680075367788\n",
      "15\n",
      "20.983265438534808\n",
      "16\n",
      "17.80436452211304\n",
      "17\n",
      "14.54499362713027\n",
      "18\n",
      "12.155712444877567\n",
      "19\n",
      "9.369396116049046\n",
      "20\n",
      "8.238729385454366\n",
      "21\n",
      "7.266077935322609\n",
      "22\n",
      "6.5125043159369795\n",
      "23\n",
      "6.215181588187443\n",
      "24\n",
      "4.956727938072452\n",
      "25\n",
      "4.327240153041734\n",
      "26\n",
      "4.747467199691131\n",
      "27\n",
      "4.142695159158171\n",
      "28\n",
      "3.5944385920218727\n",
      "29\n",
      "2.611192681300811\n"
     ]
    }
   ],
   "source": [
    "nb_elite = 40\n",
    "S = 200\n",
    "channel_index = 0\n",
    "nb_iterate = 30\n",
    "ps_system_proba = np.ones((model['Nt'],model['Nrf'],nb_state))*(1/nb_state)\n",
    "SNR = 10**(10/10)\n",
    "CE_result = CE_beamforming(nb_elite,S,nb_iterate,model,nb_bit,ps_system_proba,channel_index,SNR)"
   ]
  },
  {
   "cell_type": "code",
   "execution_count": 10,
   "metadata": {},
   "outputs": [
    {
     "data": {
      "text/plain": [
       "1.0"
      ]
     },
     "execution_count": 10,
     "metadata": {},
     "output_type": "execute_result"
    }
   ],
   "source": [
    "np.sum([0.251, 0.295, 0.337, 0.117])"
   ]
  },
  {
   "cell_type": "code",
   "execution_count": 11,
   "metadata": {},
   "outputs": [
    {
     "data": {
      "text/plain": [
       "array([[0.25 , 0.25 , 0.25 , 0.25 ],\n",
       "       [0.295, 0.226, 0.295, 0.184],\n",
       "       [0.326, 0.153, 0.345, 0.175],\n",
       "       [0.305, 0.081, 0.486, 0.128],\n",
       "       [0.346, 0.076, 0.453, 0.124],\n",
       "       [0.304, 0.052, 0.565, 0.078],\n",
       "       [0.229, 0.094, 0.601, 0.077],\n",
       "       [0.181, 0.098, 0.602, 0.119],\n",
       "       [0.152, 0.119, 0.693, 0.035],\n",
       "       [0.061, 0.101, 0.813, 0.025],\n",
       "       [0.028, 0.032, 0.937, 0.003],\n",
       "       [0.026, 0.003, 0.971, 0.   ],\n",
       "       [0.003, 0.   , 0.997, 0.   ],\n",
       "       [0.   , 0.   , 1.   , 0.   ],\n",
       "       [0.   , 0.   , 1.   , 0.   ],\n",
       "       [0.   , 0.   , 1.   , 0.   ],\n",
       "       [0.   , 0.   , 1.   , 0.   ],\n",
       "       [0.   , 0.   , 1.   , 0.   ],\n",
       "       [0.   , 0.   , 1.   , 0.   ],\n",
       "       [0.   , 0.   , 1.   , 0.   ],\n",
       "       [0.   , 0.   , 1.   , 0.   ],\n",
       "       [0.   , 0.   , 1.   , 0.   ],\n",
       "       [0.   , 0.   , 1.   , 0.   ],\n",
       "       [0.   , 0.   , 1.   , 0.   ],\n",
       "       [0.   , 0.   , 1.   , 0.   ],\n",
       "       [0.   , 0.   , 1.   , 0.   ],\n",
       "       [0.   , 0.   , 1.   , 0.   ],\n",
       "       [0.   , 0.   , 1.   , 0.   ],\n",
       "       [0.   , 0.   , 1.   , 0.   ],\n",
       "       [0.   , 0.   , 1.   , 0.   ],\n",
       "       [0.   , 0.   , 1.   , 0.   ]])"
      ]
     },
     "execution_count": 11,
     "metadata": {},
     "output_type": "execute_result"
    }
   ],
   "source": [
    "# Evolution of pmf of 1 phase shifter\n",
    "np.around(CE_result['proba_evo'], decimals=3)"
   ]
  },
  {
   "cell_type": "code",
   "execution_count": 12,
   "metadata": {},
   "outputs": [
    {
     "name": "stdout",
     "output_type": "stream",
     "text": [
      "Data rate evolution: [18.49173462 18.62767954 19.53021904 19.78655603 19.48037543 19.94239769\n",
      " 19.47736777 19.95975792 20.8134316  20.89508562 22.2976728  22.97555121\n",
      " 23.85137956 24.64217739 25.42920448 26.01129276 26.67187261 27.24226278\n",
      " 27.45491916 28.09889133 28.566543   28.8622457  29.234892   29.57911261\n",
      " 29.84690777 30.40561461 30.4605388  30.71522841 30.68034258 30.88717701]\n",
      "Number of iteration: 30\n",
      "Phase shifter pmf[[0.25  0.25  0.25  0.25 ]\n",
      " [0.295 0.226 0.295 0.184]\n",
      " [0.326 0.153 0.345 0.175]\n",
      " [0.305 0.081 0.486 0.128]\n",
      " [0.346 0.076 0.453 0.124]\n",
      " [0.304 0.052 0.565 0.078]\n",
      " [0.229 0.094 0.601 0.077]\n",
      " [0.181 0.098 0.602 0.119]\n",
      " [0.152 0.119 0.693 0.035]\n",
      " [0.061 0.101 0.813 0.025]\n",
      " [0.028 0.032 0.937 0.003]\n",
      " [0.026 0.003 0.971 0.   ]\n",
      " [0.003 0.    0.997 0.   ]\n",
      " [0.    0.    1.    0.   ]\n",
      " [0.    0.    1.    0.   ]\n",
      " [0.    0.    1.    0.   ]\n",
      " [0.    0.    1.    0.   ]\n",
      " [0.    0.    1.    0.   ]\n",
      " [0.    0.    1.    0.   ]\n",
      " [0.    0.    1.    0.   ]\n",
      " [0.    0.    1.    0.   ]\n",
      " [0.    0.    1.    0.   ]\n",
      " [0.    0.    1.    0.   ]\n",
      " [0.    0.    1.    0.   ]\n",
      " [0.    0.    1.    0.   ]\n",
      " [0.    0.    1.    0.   ]\n",
      " [0.    0.    1.    0.   ]\n",
      " [0.    0.    1.    0.   ]\n",
      " [0.    0.    1.    0.   ]\n",
      " [0.    0.    1.    0.   ]\n",
      " [0.    0.    1.    0.   ]]\n"
     ]
    },
    {
     "data": {
      "image/png": "[encoded data removed]",
      "text/plain": [
       "<matplotlib.figure.Figure at 0x18a7f760a20>"
      ]
     },
     "metadata": {},
     "output_type": "display_data"
    }
   ],
   "source": [
    "print('Data rate evolution: ' + str(CE_result['R_max']))\n",
    "plt.plot(CE_result['R_max'])\n",
    "plt.title('data rate against iteration - 2 bits PS')\n",
    "plt.ylabel('data rate (bps/Hz)')\n",
    "plt.xlabel('iteration')\n",
    "print('Number of iteration: ' + str(CE_result['nb_ite']))\n",
    "print('Phase shifter pmf' + str(np.around(CE_result['proba_evo'], decimals=3)))"
   ]
  },
  {
   "cell_type": "markdown",
   "metadata": {},
   "source": [
    "Test:\n",
    "\n",
    "2 bits -- 17.56 bps/Hz - 16 iterate\n",
    "\n",
    "3 bits -- 17.68 bps/Hz - 18 iterate\n",
    "\n",
    "4 bits -- 17.71 bps/Hz - 18 iterate\n",
    "\n",
    "6 bits -- 17.68 bps/Hz - 19 iterate"
   ]
  },
  {
   "cell_type": "markdown",
   "metadata": {},
   "source": [
    "# Digital Beamforming"
   ]
  },
  {
   "cell_type": "code",
   "execution_count": 13,
   "metadata": {},
   "outputs": [
    {
     "name": "stdout",
     "output_type": "stream",
     "text": [
      "Data rate by digital beamforming: 33.972702082410066\n"
     ]
    }
   ],
   "source": [
    "R_o = data_rate(model['Ns'],SNR,model['Wopt'],model['H'][:,:,channel_index],model['Fopt'])\n",
    "print('Data rate by digital beamforming: ' + str(R_o))"
   ]
  },
  {
   "cell_type": "code",
   "execution_count": 49,
   "metadata": {},
   "outputs": [
    {
     "name": "stdout",
     "output_type": "stream",
     "text": [
      "Ns 4    Frobenius norm FRF*FBB= 4.0\n"
     ]
    }
   ],
   "source": [
    "# Normalize condition\n",
    "x = np.linalg.norm(CE_result['Frf_max']@CE_result['Fbb_max'],'fro')\n",
    "print(\"Ns\", model['Ns'] , \"   Frobenius norm FRF*FBB=\", x**2)"
   ]
  },
  {
   "cell_type": "markdown",
   "metadata": {},
   "source": [
    "# OMP Beamforming"
   ]
  },
  {
   "cell_type": "code",
   "execution_count": 66,
   "metadata": {},
   "outputs": [],
   "source": [
    "def OMP(_Fopt,_NRF,_At):\n",
    "    \"\"\"\n",
    "    Orthogonal matching pursuit for hybrid beamforming\n",
    "    \n",
    "    \"\"\"\n",
    "    _FRF = np.empty((_At.shape[0],0))\n",
    "    _Fres = _Fopt\n",
    "    for k in range(_NRF):\n",
    "        PU = _At.conj().T@_Fres\n",
    "        ind = np.argmax(np.sum((np.absolute(PU))**2,axis=1))\n",
    "        _FRF = np.append(_FRF,_At[:,[ind]],axis=1)\n",
    "        _FBB = (np.linalg.pinv(_FRF))@_Fopt\n",
    "        _Fres = (_Fopt-_FRF@_FBB)/np.linalg.norm((_Fopt-_FRF@_FBB),'fro')\n",
    "#         _Fres = (_Fopt-_FRF@_FBB)\n",
    "    _FBB = np.sqrt(model['Ns'])*_FBB/np.linalg.norm(_FRF@_FBB,'fro')\n",
    "    return _FRF,_FBB"
   ]
  },
  {
   "cell_type": "code",
   "execution_count": 67,
   "metadata": {},
   "outputs": [],
   "source": [
    "FRF_omp, FBB_omp = OMP( model['Fopt'][:,:,channel_index], model['Nrf'], model['At'][:,:,channel_index] ) \n"
   ]
  },
  {
   "cell_type": "code",
   "execution_count": 71,
   "metadata": {},
   "outputs": [
    {
     "name": "stdout",
     "output_type": "stream",
     "text": [
      "Ns 4    Frobenius norm FRF*FBB= 4.0\n"
     ]
    }
   ],
   "source": [
    "# Normalize FBB_omp\n",
    "x = np.linalg.norm(FRF_omp@FBB_omp,'fro')\n",
    "print(\"Ns\", model['Ns'] , \"   Frobenius norm FRF*FBB=\", x**2)"
   ]
  },
  {
   "cell_type": "code",
   "execution_count": 59,
   "metadata": {},
   "outputs": [
    {
     "ename": "ValueError",
     "evalue": "shapes (16,1000,4) and (16,64) not aligned: 4 (dim 2) != 16 (dim 0)",
     "output_type": "error",
     "traceback": [
      "\u001b[1;31m---------------------------------------------------------------------------\u001b[0m",
      "\u001b[1;31mValueError\u001b[0m                                Traceback (most recent call last)",
      "\u001b[1;32m<ipython-input-59-86fad8906409>\u001b[0m in \u001b[0;36m<module>\u001b[1;34m()\u001b[0m\n\u001b[1;32m----> 1\u001b[1;33m \u001b[0mR_omp\u001b[0m \u001b[1;33m=\u001b[0m \u001b[0mdata_rate\u001b[0m\u001b[1;33m(\u001b[0m\u001b[0mmodel\u001b[0m\u001b[1;33m[\u001b[0m\u001b[1;34m'Ns'\u001b[0m\u001b[1;33m]\u001b[0m\u001b[1;33m,\u001b[0m\u001b[0mSNR\u001b[0m\u001b[1;33m,\u001b[0m\u001b[0mmodel\u001b[0m\u001b[1;33m[\u001b[0m\u001b[1;34m'Wopt'\u001b[0m\u001b[1;33m]\u001b[0m\u001b[1;33m,\u001b[0m\u001b[0mmodel\u001b[0m\u001b[1;33m[\u001b[0m\u001b[1;34m'H'\u001b[0m\u001b[1;33m]\u001b[0m\u001b[1;33m[\u001b[0m\u001b[1;33m:\u001b[0m\u001b[1;33m,\u001b[0m\u001b[1;33m:\u001b[0m\u001b[1;33m,\u001b[0m\u001b[0mchannel_index\u001b[0m\u001b[1;33m]\u001b[0m\u001b[1;33m,\u001b[0m\u001b[0mFRF_omp\u001b[0m\u001b[1;33m@\u001b[0m\u001b[0mFBB_omp\u001b[0m\u001b[1;33m)\u001b[0m\u001b[1;33m\u001b[0m\u001b[0m\n\u001b[0m\u001b[0;32m      2\u001b[0m \u001b[0mprint\u001b[0m\u001b[1;33m(\u001b[0m\u001b[1;34m\"Data rate by OMP: \"\u001b[0m \u001b[1;33m+\u001b[0m \u001b[0mstr\u001b[0m\u001b[1;33m(\u001b[0m\u001b[0mR_omp\u001b[0m\u001b[1;33m)\u001b[0m\u001b[1;33m)\u001b[0m\u001b[1;33m\u001b[0m\u001b[0m\n",
      "\u001b[1;32m<ipython-input-4-cd1b25212a5c>\u001b[0m in \u001b[0;36mdata_rate\u001b[1;34m(Ns, SNR, W, H, F)\u001b[0m\n\u001b[0;32m    120\u001b[0m     \u001b[0mR\u001b[0m \u001b[1;33m-\u001b[0m\u001b[1;33m-\u001b[0m \u001b[0mdata\u001b[0m \u001b[0mrate\u001b[0m\u001b[1;33m\u001b[0m\u001b[0m\n\u001b[0;32m    121\u001b[0m     \"\"\"\n\u001b[1;32m--> 122\u001b[1;33m     \u001b[0mR\u001b[0m \u001b[1;33m=\u001b[0m \u001b[0mnp\u001b[0m\u001b[1;33m.\u001b[0m\u001b[0mlog2\u001b[0m\u001b[1;33m(\u001b[0m\u001b[0mnp\u001b[0m\u001b[1;33m.\u001b[0m\u001b[0mlinalg\u001b[0m\u001b[1;33m.\u001b[0m\u001b[0mdet\u001b[0m\u001b[1;33m(\u001b[0m\u001b[0mnp\u001b[0m\u001b[1;33m.\u001b[0m\u001b[0meye\u001b[0m\u001b[1;33m(\u001b[0m\u001b[0mNs\u001b[0m\u001b[1;33m)\u001b[0m\u001b[1;33m+\u001b[0m\u001b[0mSNR\u001b[0m\u001b[1;33m/\u001b[0m\u001b[0mNs\u001b[0m\u001b[1;33m*\u001b[0m\u001b[0mnp\u001b[0m\u001b[1;33m.\u001b[0m\u001b[0mlinalg\u001b[0m\u001b[1;33m.\u001b[0m\u001b[0mpinv\u001b[0m\u001b[1;33m(\u001b[0m\u001b[0mW\u001b[0m\u001b[1;33m)\u001b[0m\u001b[1;33m@\u001b[0m\u001b[0mH\u001b[0m\u001b[1;33m@\u001b[0m\u001b[0mF\u001b[0m\u001b[1;33m@\u001b[0m\u001b[0mF\u001b[0m\u001b[1;33m.\u001b[0m\u001b[0mconj\u001b[0m\u001b[1;33m(\u001b[0m\u001b[1;33m)\u001b[0m\u001b[1;33m.\u001b[0m\u001b[0mT\u001b[0m\u001b[1;33m@\u001b[0m\u001b[0mH\u001b[0m\u001b[1;33m.\u001b[0m\u001b[0mconj\u001b[0m\u001b[1;33m(\u001b[0m\u001b[1;33m)\u001b[0m\u001b[1;33m.\u001b[0m\u001b[0mT\u001b[0m\u001b[1;33m@\u001b[0m\u001b[0mW\u001b[0m\u001b[1;33m)\u001b[0m\u001b[1;33m)\u001b[0m\u001b[1;33m\u001b[0m\u001b[0m\n\u001b[0m\u001b[0;32m    123\u001b[0m     \u001b[1;32mreturn\u001b[0m \u001b[0mR\u001b[0m\u001b[1;33m.\u001b[0m\u001b[0mreal\u001b[0m\u001b[1;33m\u001b[0m\u001b[0m\n",
      "\u001b[1;31mValueError\u001b[0m: shapes (16,1000,4) and (16,64) not aligned: 4 (dim 2) != 16 (dim 0)"
     ]
    }
   ],
   "source": [
    "R_omp = data_rate(model['Ns'],SNR,model['Wopt'],model['H'][:,:,channel_index],FRF_omp@FBB_omp)\n",
    "print(\"Data rate by OMP: \" + str(R_omp))"
   ]
  },
  {
   "cell_type": "code",
   "execution_count": 69,
   "metadata": {},
   "outputs": [],
   "source": [
    "model['Wopt'] = mat['Wopt']\n",
    "model['Fopt'] = mat['Fopt']\n",
    "SNR_dB = np.arange(-30,15,5)\n",
    "OMP_rate = np.zeros((SNR_dB.shape[0]))\n",
    "sum_OMP_rate = np.zeros((SNR_dB.shape[0]))\n",
    "for channel_index in range(100):\n",
    "#     print('index: ' + str(channel_index))\n",
    "    FRF_omp, FBB_omp = OMP( model['Fopt'][:,:,channel_index], model['Nrf'], model['At'][:,:,channel_index] )\n",
    "    for i in range(SNR_dB.shape[0]):\n",
    "        OMP_rate[i] = data_rate(model['Ns'],10**(SNR_dB[i]/10),model['Wopt'][:,:,channel_index],model['H'][:,:,channel_index],FRF_omp@FBB_omp)\n",
    "    sum_OMP_rate = sum_OMP_rate + OMP_rate\n",
    "#     print(OMP_rate)"
   ]
  },
  {
   "cell_type": "code",
   "execution_count": 70,
   "metadata": {},
   "outputs": [
    {
     "data": {
      "text/plain": [
       "array([ 0.22317937,  0.65307923,  1.7242831 ,  3.89130729,  7.38210255,\n",
       "       12.0446525 , 17.52735967, 23.49692577, 29.73026376])"
      ]
     },
     "execution_count": 70,
     "metadata": {},
     "output_type": "execute_result"
    }
   ],
   "source": [
    "sum_OMP_rate/100"
   ]
  },
  {
   "cell_type": "markdown",
   "metadata": {},
   "source": [
    "### Quantize omp beamforming"
   ]
  },
  {
   "cell_type": "code",
   "execution_count": 74,
   "metadata": {},
   "outputs": [],
   "source": [
    "def quantize_Frf(model,n_bit,F_rf,channel_index):\n",
    "    \"\"\"\n",
    "    Quantize precoder for low resolutioin phase shifter\n",
    "    \n",
    "    \"\"\"\n",
    "    q = 2*np.pi/2**n_bit\n",
    "    amplitude = 1/np.sqrt(model['Nt'])\n",
    "    Frf_angle = np.angle(F_rf)\n",
    "    angle_quantized = q * np.round(Frf_angle/q)\n",
    "    Frf_quantized = amplitude*np.exp(1j*angle_quantized)\n",
    "    Frf_quantized = np.around(Frf_quantized, decimals=3)\n",
    "    \n",
    "    channel_eq =  model['H'][:,:,channel_index]@Frf_quantized\n",
    "    U, s, V = np.linalg.svd(channel_eq, full_matrices=True)\n",
    "    V = V.conj().T\n",
    "    F_bb = V[0:model['Nt'],0:model['Ns']]\n",
    "    F_bb = np.sqrt(model['Ns'])*F_bb/np.linalg.norm(Frf_quantized@F_bb,'fro')\n",
    "    \n",
    "    return Frf_quantized, F_bb"
   ]
  },
  {
   "cell_type": "code",
   "execution_count": 19,
   "metadata": {
    "scrolled": true
   },
   "outputs": [],
   "source": [
    "Frf_quantize, Fbb_quantize = quantize_Frf(model,nb_bit,FRF_omp,channel_index)"
   ]
  },
  {
   "cell_type": "code",
   "execution_count": 20,
   "metadata": {},
   "outputs": [
    {
     "name": "stdout",
     "output_type": "stream",
     "text": [
      "Data rate by OMP with quantization: 29.6707305294086\n"
     ]
    }
   ],
   "source": [
    "R_omp_quantized = data_rate(model['Ns'],SNR,model['Wopt'],model['H'][:,:,channel_index],Frf_quantize@Fbb_quantize)\n",
    "print('Data rate by OMP with quantization: ' + str(R_omp_quantized))"
   ]
  },
  {
   "cell_type": "code",
   "execution_count": 75,
   "metadata": {},
   "outputs": [],
   "source": [
    "model['Wopt'] = mat['Wopt']\n",
    "model['Fopt'] = mat['Fopt']\n",
    "SNR_dB = np.arange(-30,15,5)\n",
    "OMP_quan_rate = np.zeros((SNR_dB.shape[0]))\n",
    "sum_OMP_quan_rate = np.zeros((SNR_dB.shape[0]))\n",
    "for channel_index in range(100):\n",
    "#     print('index: ' + str(channel_index))\n",
    "    FRF_omp, FBB_omp = OMP( model['Fopt'][:,:,channel_index], model['Nrf'], model['At'][:,:,channel_index] )\n",
    "    Frf_quantize, Fbb_quantize = quantize_Frf(model,nb_bit,FRF_omp,channel_index)\n",
    "    for i in range(SNR_dB.shape[0]):\n",
    "        OMP_quan_rate[i] = data_rate(model['Ns'],10**(SNR_dB[i]/10),model['Wopt'][:,:,channel_index],model['H'][:,:,channel_index],Frf_quantize@Fbb_quantize)\n",
    "    sum_OMP_quan_rate = sum_OMP_quan_rate + OMP_quan_rate\n",
    "#     print(OMP_quan_rate)"
   ]
  },
  {
   "cell_type": "code",
   "execution_count": 76,
   "metadata": {},
   "outputs": [
    {
     "data": {
      "text/plain": [
       "array([ 0.15360772,  0.46233855,  1.28936884,  3.13826287,  6.41532018,\n",
       "       11.08009538, 16.72319897, 22.90968806, 29.3595054 ])"
      ]
     },
     "execution_count": 76,
     "metadata": {},
     "output_type": "execute_result"
    }
   ],
   "source": [
    "sum_OMP_quan_rate/100"
   ]
  },
  {
   "cell_type": "code",
   "execution_count": 77,
   "metadata": {},
   "outputs": [
    {
     "name": "stdout",
     "output_type": "stream",
     "text": [
      "Ns 4    Frobenius norm FRF*FBB= 4.0\n"
     ]
    }
   ],
   "source": [
    "# Normalize condition\n",
    "x = np.linalg.norm(Frf_quantize@Fbb_quantize,'fro')\n",
    "print(\"Ns\", model['Ns'] , \"   Frobenius norm FRF*FBB=\", x**2)"
   ]
  },
  {
   "cell_type": "markdown",
   "metadata": {},
   "source": [
    "### Initialize pmf of phase shiter with OMP"
   ]
  },
  {
   "cell_type": "code",
   "execution_count": 22,
   "metadata": {},
   "outputs": [
    {
     "data": {
      "text/plain": [
       "array([ 0.125+0.   j,  0.   +0.125j, -0.125+0.   j, -0.   -0.125j])"
      ]
     },
     "execution_count": 22,
     "metadata": {},
     "output_type": "execute_result"
    }
   ],
   "source": [
    "phase_value"
   ]
  },
  {
   "cell_type": "code",
   "execution_count": 78,
   "metadata": {
    "scrolled": true
   },
   "outputs": [
    {
     "data": {
      "text/plain": [
       "array([[ 0.125     +0.        j,  0.125     +0.        j,\n",
       "         0.125     +0.        j,  0.125     +0.        j],\n",
       "       [-0.12249361+0.02490613j,  0.0389992 -0.11876053j,\n",
       "         0.04452788-0.11680012j,  0.078783  +0.09704761j],\n",
       "       [ 0.11507496-0.04881346j, -0.100665  -0.07410504j,\n",
       "        -0.09327629-0.08321378j, -0.02569182+0.12233123j],\n",
       "       [-0.10304154+0.07076327j, -0.10181287+0.07251993j,\n",
       "        -0.1109822 +0.05751479j, -0.11116826+0.05715433j],\n",
       "       [ 0.08687593-0.08987532j,  0.03713508+0.11935655j,\n",
       "         0.01420747+0.12418997j, -0.11443888-0.0502866 j],\n",
       "       [-0.06722641+0.10538316j,  0.12498468+0.00195703j,\n",
       "         0.12110425+0.03096385j, -0.03308515-0.120542  j],\n",
       "       [ 0.04488095-0.11666491j,  0.04085376-0.11813539j,\n",
       "         0.07207278-0.10212989j,  0.07273412-0.10165996j],\n",
       "       [-0.02073567+0.12326813j, -0.09949246-0.075672  j,\n",
       "        -0.06975629-0.10372589j,  0.12476855-0.00760323j],\n",
       "       [ 0.07368475-0.10097305j,  0.12420149+0.0141064 j,\n",
       "        -0.11837163+0.04016412j, -0.06103312-0.10908693j],\n",
       "       [-0.05208851+0.11363005j,  0.05215233-0.11360077j,\n",
       "        -0.00463731+0.12491395j,  0.04622603-0.11613851j],\n",
       "       [ 0.0284034 -0.12173022j, -0.0916591 -0.08499182j,\n",
       "         0.1150678 +0.04883033j,  0.11930232-0.03730892j],\n",
       "       [-0.00357925+0.12494875j, -0.10934644+0.06056696j,\n",
       "         0.08661691-0.09012498j,  0.10415789+0.06910957j],\n",
       "       [-0.02138843-0.12315655j,  0.02342833+0.12278483j,\n",
       "        -0.05335793-0.11303951j,  0.01199162+0.12442347j],\n",
       "       [ 0.04549839+0.1164255 j,  0.12396541+0.0160492 j,\n",
       "        -0.12463155+0.00959043j, -0.08904212+0.0877297 j],\n",
       "       [-0.06778376-0.10502553j,  0.0539245 -0.11277033j,\n",
       "        -0.03543532+0.11987217j, -0.12423171-0.01383773j],\n",
       "       [ 0.08735085+0.0894138 j, -0.09031721-0.08641644j,\n",
       "         0.0993858 +0.07581202j, -0.06755542-0.10517255j],\n",
       "       [-0.03812892-0.11904279j,  0.12181615+0.02803257j,\n",
       "         0.0991895 -0.07606868j, -0.06539932+0.10652666j],\n",
       "       [ 0.06108355+0.1090587 j,  0.06463916-0.10698962j,\n",
       "        -0.03574506-0.11978018j, -0.1239241 +0.01636513j],\n",
       "       [-0.0815886 -0.09470111j, -0.08148214-0.09479272j,\n",
       "        -0.12465593-0.00926823j, -0.09081047-0.08589795j],\n",
       "       [ 0.09882176+0.0765458 j, -0.11548297+0.04784018j,\n",
       "        -0.05306555+0.11317706j,  0.00945496-0.1246419 j],\n",
       "       [-0.11209195-0.05532084j,  0.00942225+0.12464438j,\n",
       "         0.08684958+0.08990078j,  0.10272871-0.07121666j],\n",
       "       [ 0.120867  +0.03187738j,  0.12136234+0.02993632j,\n",
       "         0.11494119-0.04912761j,  0.12003746+0.03487131j],\n",
       "       [-0.12479502-0.00715557j,  0.06630629-0.1059645 j,\n",
       "        -0.00496019-0.12490155j,  0.04858187+0.11517292j],\n",
       "       [ 0.12371849-0.01785319j, -0.07998806-0.09605681j,\n",
       "        -0.11847506-0.039858  j, -0.05879865+0.11030738j],\n",
       "       [-0.11863707-0.03937316j,  0.11787447+0.04160059j,\n",
       "        -0.06948793+0.10390586j,  0.12489753+0.00506045j],\n",
       "       [ 0.12410333+0.01494536j,  0.07630015-0.09901155j,\n",
       "         0.07233653+0.10194325j,  0.07478958+0.10015747j],\n",
       "       [-0.12459277+0.01008178j, -0.07026416-0.10338253j,\n",
       "         0.12102381-0.0312768 j, -0.03062317+0.12119085j],\n",
       "       [ 0.12008576-0.03470461j, -0.12014408+0.03450218j,\n",
       "         0.0138864 -0.12422628j, -0.11339094+0.05260698j],\n",
       "       [-0.11076305+0.05793571j, -0.00470421+0.12491145j,\n",
       "        -0.1111305 -0.05722772j, -0.11230928-0.05487827j],\n",
       "       [ 0.09699849-0.07884347j,  0.11720871+0.04344096j,\n",
       "        -0.09306088+0.08345462j, -0.02817805-0.12178258j],\n",
       "       [-0.07934408+0.09658942j,  0.07784094-0.09780485j,\n",
       "         0.04482965+0.11668463j,  0.07679006-0.09863208j],\n",
       "       [ 0.0585078 -0.11046193j, -0.06863697-0.10446993j,\n",
       "         0.12499958-0.00032312j,  0.12497407-0.00254592j],\n",
       "       [-0.10173897+0.07262357j,  0.1124268 +0.05463712j,\n",
       "         0.0324169 -0.12072342j, -0.05656686-0.11146834j],\n",
       "       [ 0.08522881-0.09143877j,  0.0869863 -0.0897685 j,\n",
       "        -0.10125643-0.07329485j,  0.05088984-0.11417191j],\n",
       "       [-0.0653008 +0.10658708j, -0.05814846-0.11065151j,\n",
       "        -0.10455665+0.0685048 j,  0.12071492-0.03244855j],\n",
       "       [ 0.04275407-0.11746101j, -0.1232702 +0.02072337j,\n",
       "         0.02676547+0.12210082j,  0.1012747 +0.07326961j],\n",
       "       [-0.01849281+0.1236245 j, -0.01877056+0.12358263j,\n",
       "         0.1236256 +0.01848544j,  0.00694467+0.12480694j],\n",
       "       [-0.00651005-0.12483036j,  0.11155761+0.0563906 j,\n",
       "         0.0613111 -0.10893094j, -0.09252074+0.08405303j],\n",
       "       [ 0.03125184+0.12103025j,  0.08838108-0.08839562j,\n",
       "        -0.07994475-0.09609286j, -0.12356966-0.01885574j],\n",
       "       [-0.05474037-0.11237657j, -0.05640895-0.11154833j,\n",
       "        -0.11826742+0.04046997j, -0.06324227-0.10782122j],\n",
       "       [-0.0013087 +0.12499315j,  0.10554274+0.06697559j,\n",
       "         0.00809206+0.1247378 j, -0.06965829+0.10379172j],\n",
       "       [-0.02362231-0.12274765j,  0.09656111-0.07937854j,\n",
       "         0.1194377 +0.03687324j, -0.12448503+0.01133482j],\n",
       "       [ 0.047606  +0.11557971j, -0.04528985-0.11650678j,\n",
       "         0.07700085-0.0984676 j, -0.08725857-0.08950387j],\n",
       "       [-0.06968059-0.10377676j, -0.12482139+0.0066798 j,\n",
       "        -0.06457875-0.1070261 j,  0.01449316-0.12415695j],\n",
       "       [ 0.08896084+0.08781213j, -0.0325971 +0.12067489j,\n",
       "        -0.12300972+0.02221729j,  0.1055276 -0.06699944j],\n",
       "       [-0.10467355-0.06832604j,  0.10448122+0.06861978j,\n",
       "        -0.02305904+0.12285471j,  0.11852734+0.03970228j],\n",
       "       [ 0.11618863+0.04609992j,  0.09779204-0.07785703j,\n",
       "         0.1065814 +0.06531006j,  0.04387942+0.11704527j],\n",
       "       [-0.12304428-0.0220251 j, -0.04346024-0.11720157j,\n",
       "         0.09899253-0.07632482j, -0.06321609+0.10783657j],\n",
       "       [ 0.10019607+0.07473786j,  0.09731025+0.07845837j,\n",
       "        -0.04774284-0.11552325j,  0.12459027+0.01011261j],\n",
       "       [-0.11307847-0.05327531j,  0.10490223-0.06797442j,\n",
       "        -0.12495213+0.00345891j,  0.07067353+0.10310312j],\n",
       "       [ 0.12142618+0.02967631j, -0.0318526 -0.12087354j,\n",
       "        -0.04127882+0.11798754j, -0.03550431+0.11985176j],\n",
       "       [-0.12490442-0.00488722j, -0.12477785-0.00744911j,\n",
       "         0.09554321+0.08060084j, -0.1154277 +0.04797338j],\n",
       "       [ 0.12337372-0.02009786j, -0.04600717+0.11622539j,\n",
       "         0.10934819-0.06056379j, -0.10999554-0.05937997j],\n",
       "       [-0.11689547+0.04427697j,  0.09606996+0.07997226j,\n",
       "        -0.01763852-0.12374927j, -0.02322476-0.12282349j],\n",
       "       [ 0.10572944-0.06668047j,  0.10595359-0.06632372j,\n",
       "        -0.12191469-0.02760089j,  0.08072009-0.09544248j],\n",
       "       [-0.09032343+0.08640994j, -0.02995628-0.12135741j,\n",
       "        -0.06921911+0.10408513j,  0.12497469+0.00251557j],\n",
       "       [ 0.11943546-0.0368805 j,  0.0878345 +0.08893874j,\n",
       "         0.0823303 +0.09405702j, -0.05200784-0.11366699j],\n",
       "       [-0.10969224+0.05993841j,  0.1119031 -0.05570186j,\n",
       "         0.11721491-0.04342423j,  0.05547021-0.11201811j],\n",
       "       [ 0.09555012-0.08059265j, -0.0180084 -0.12369599j,\n",
       "         0.001179  -0.12499444j,  0.12192959-0.02753497j],\n",
       "       [-0.07757623+0.09801494j, -0.12314011-0.02148285j,\n",
       "        -0.11637494-0.04562756j,  0.09822546+0.07730951j],\n",
       "       [ 0.05649136-0.11150662j, -0.05882945+0.11029096j,\n",
       "        -0.08408986+0.09248727j,  0.00188634+0.12498577j],\n",
       "       [-0.03314106+0.12052664j,  0.08643129+0.090303  j,\n",
       "         0.05646545+0.11151974j, -0.09584767+0.08023855j],\n",
       "       [ 0.00846173-0.12471327j,  0.11276146-0.05394305j,\n",
       "         0.12431845-0.01303547j, -0.12270501-0.02384283j],\n",
       "       [ 0.01655693+0.12389862j, -0.01606959-0.12396277j,\n",
       "         0.03210473-0.12080681j, -0.05882544-0.1102931 j]])"
      ]
     },
     "execution_count": 78,
     "metadata": {},
     "output_type": "execute_result"
    }
   ],
   "source": [
    "FRF_omp"
   ]
  },
  {
   "cell_type": "code",
   "execution_count": 79,
   "metadata": {
    "scrolled": true
   },
   "outputs": [
    {
     "data": {
      "text/plain": [
       "array([[ 0.125+0.   j,  0.125+0.   j,  0.125+0.   j,  0.125+0.   j],\n",
       "       [-0.125+0.   j,  0.   -0.125j,  0.   -0.125j,  0.   +0.125j],\n",
       "       [ 0.125+0.   j, -0.125-0.   j, -0.125-0.   j,  0.   +0.125j],\n",
       "       [-0.125+0.   j, -0.125+0.   j, -0.125+0.   j, -0.125+0.   j],\n",
       "       [ 0.   -0.125j,  0.   +0.125j,  0.   +0.125j, -0.125-0.   j],\n",
       "       [ 0.   +0.125j,  0.125+0.   j,  0.125+0.   j,  0.   -0.125j],\n",
       "       [ 0.   -0.125j,  0.   -0.125j,  0.   -0.125j,  0.   -0.125j],\n",
       "       [ 0.   +0.125j, -0.125-0.   j,  0.   -0.125j,  0.125+0.   j],\n",
       "       [ 0.   -0.125j,  0.125+0.   j, -0.125+0.   j,  0.   -0.125j],\n",
       "       [ 0.   +0.125j,  0.   -0.125j,  0.   +0.125j,  0.   -0.125j],\n",
       "       [ 0.   -0.125j, -0.125-0.   j,  0.125+0.   j,  0.125+0.   j],\n",
       "       [ 0.   +0.125j, -0.125+0.   j,  0.   -0.125j,  0.125+0.   j],\n",
       "       [ 0.   -0.125j,  0.   +0.125j,  0.   -0.125j,  0.   +0.125j],\n",
       "       [ 0.   +0.125j,  0.125+0.   j, -0.125+0.   j, -0.125+0.   j],\n",
       "       [ 0.   -0.125j,  0.   -0.125j,  0.   +0.125j, -0.125-0.   j],\n",
       "       [ 0.   +0.125j, -0.125-0.   j,  0.125+0.   j,  0.   -0.125j],\n",
       "       [ 0.   -0.125j,  0.125+0.   j,  0.125+0.   j,  0.   +0.125j],\n",
       "       [ 0.   +0.125j,  0.   -0.125j,  0.   -0.125j, -0.125+0.   j],\n",
       "       [ 0.   -0.125j,  0.   -0.125j, -0.125-0.   j, -0.125-0.   j],\n",
       "       [ 0.125+0.   j, -0.125+0.   j,  0.   +0.125j,  0.   -0.125j],\n",
       "       [-0.125-0.   j,  0.   +0.125j,  0.   +0.125j,  0.125+0.   j],\n",
       "       [ 0.125+0.   j,  0.125+0.   j,  0.125+0.   j,  0.125+0.   j],\n",
       "       [-0.125-0.   j,  0.   -0.125j,  0.   -0.125j,  0.   +0.125j],\n",
       "       [ 0.125+0.   j,  0.   -0.125j, -0.125-0.   j,  0.   +0.125j],\n",
       "       [-0.125-0.   j,  0.125+0.   j,  0.   +0.125j,  0.125+0.   j],\n",
       "       [ 0.125+0.   j,  0.   -0.125j,  0.   +0.125j,  0.   +0.125j],\n",
       "       [-0.125+0.   j,  0.   -0.125j,  0.125+0.   j,  0.   +0.125j],\n",
       "       [ 0.125+0.   j, -0.125+0.   j,  0.   -0.125j, -0.125+0.   j],\n",
       "       [-0.125+0.   j,  0.   +0.125j, -0.125-0.   j, -0.125-0.   j],\n",
       "       [ 0.125+0.   j,  0.125+0.   j, -0.125+0.   j,  0.   -0.125j],\n",
       "       [ 0.   +0.125j,  0.   -0.125j,  0.   +0.125j,  0.   -0.125j],\n",
       "       [ 0.   -0.125j,  0.   -0.125j,  0.125+0.   j,  0.125+0.   j],\n",
       "       [-0.125+0.   j,  0.125+0.   j,  0.   -0.125j,  0.   -0.125j],\n",
       "       [ 0.   -0.125j,  0.   -0.125j, -0.125-0.   j,  0.   -0.125j],\n",
       "       [ 0.   +0.125j,  0.   -0.125j, -0.125+0.   j,  0.125+0.   j],\n",
       "       [ 0.   -0.125j, -0.125+0.   j,  0.   +0.125j,  0.125+0.   j],\n",
       "       [ 0.   +0.125j,  0.   +0.125j,  0.125+0.   j,  0.   +0.125j],\n",
       "       [ 0.   -0.125j,  0.125+0.   j,  0.   -0.125j, -0.125+0.   j],\n",
       "       [ 0.   +0.125j,  0.   -0.125j,  0.   -0.125j, -0.125-0.   j],\n",
       "       [ 0.   -0.125j,  0.   -0.125j, -0.125+0.   j,  0.   -0.125j],\n",
       "       [ 0.   +0.125j,  0.125+0.   j,  0.   +0.125j,  0.   +0.125j],\n",
       "       [ 0.   -0.125j,  0.125+0.   j,  0.125+0.   j, -0.125+0.   j],\n",
       "       [ 0.   +0.125j,  0.   -0.125j,  0.   -0.125j,  0.   -0.125j],\n",
       "       [ 0.   -0.125j, -0.125+0.   j,  0.   -0.125j,  0.   -0.125j],\n",
       "       [ 0.125+0.   j,  0.   +0.125j, -0.125+0.   j,  0.125+0.   j],\n",
       "       [-0.125-0.   j,  0.125+0.   j,  0.   +0.125j,  0.125+0.   j],\n",
       "       [ 0.125+0.   j,  0.125+0.   j,  0.125+0.   j,  0.   +0.125j],\n",
       "       [-0.125-0.   j,  0.   -0.125j,  0.125+0.   j,  0.   +0.125j],\n",
       "       [ 0.125+0.   j,  0.125+0.   j,  0.   -0.125j,  0.125+0.   j],\n",
       "       [-0.125-0.   j,  0.125+0.   j, -0.125+0.   j,  0.   +0.125j],\n",
       "       [ 0.125+0.   j,  0.   -0.125j,  0.   +0.125j,  0.   +0.125j],\n",
       "       [-0.125-0.   j, -0.125-0.   j,  0.125+0.   j, -0.125+0.   j],\n",
       "       [ 0.125+0.   j,  0.   +0.125j,  0.125+0.   j, -0.125-0.   j],\n",
       "       [-0.125+0.   j,  0.125+0.   j,  0.   -0.125j,  0.   -0.125j],\n",
       "       [ 0.125+0.   j,  0.125+0.   j, -0.125-0.   j,  0.   -0.125j],\n",
       "       [-0.125+0.   j,  0.   -0.125j,  0.   +0.125j,  0.125+0.   j],\n",
       "       [ 0.125+0.   j,  0.   +0.125j,  0.   +0.125j,  0.   -0.125j],\n",
       "       [-0.125+0.   j,  0.125+0.   j,  0.125+0.   j,  0.   -0.125j],\n",
       "       [ 0.125+0.   j,  0.   -0.125j,  0.   -0.125j,  0.125+0.   j],\n",
       "       [ 0.   +0.125j, -0.125-0.   j, -0.125-0.   j,  0.125+0.   j],\n",
       "       [ 0.   -0.125j,  0.   +0.125j,  0.   +0.125j,  0.   +0.125j],\n",
       "       [ 0.   +0.125j,  0.   +0.125j,  0.   +0.125j, -0.125+0.   j],\n",
       "       [ 0.   -0.125j,  0.125+0.   j,  0.125+0.   j, -0.125-0.   j],\n",
       "       [ 0.   +0.125j,  0.   -0.125j,  0.   -0.125j,  0.   -0.125j]])"
      ]
     },
     "execution_count": 79,
     "metadata": {},
     "output_type": "execute_result"
    }
   ],
   "source": [
    "Frf_quantize"
   ]
  },
  {
   "cell_type": "code",
   "execution_count": 25,
   "metadata": {},
   "outputs": [],
   "source": [
    "def initialize_pmf_omp(model,nb_bit,Frf_omp_quantize,phase_value,ratio):\n",
    "    \"\"\"\n",
    "    Initialize pmf of phase shifter with solution getting by OMP\n",
    "    \n",
    "    \"\"\"\n",
    "    low_proba = 1/(2**nb_bit-1+ratio)\n",
    "    high_proba = ratio*low_proba\n",
    "    proba_init = np.zeros((model['Nt'],model['Nrf'],2**nb_bit))\n",
    "    for i in range(phase_value.shape[0]):\n",
    "        assign = Frf_quantize == phase_value[i]\n",
    "        proba_init[:,:,i] = assign*high_proba + np.invert(assign)*low_proba\n",
    "    return proba_init"
   ]
  },
  {
   "cell_type": "markdown",
   "metadata": {},
   "source": [
    "### Cross entropy method with initialization by quantized OMP"
   ]
  },
  {
   "cell_type": "code",
   "execution_count": 26,
   "metadata": {},
   "outputs": [
    {
     "data": {
      "text/plain": [
       "array([[[0.5       , 0.16666667, 0.16666667, 0.16666667],\n",
       "        [0.5       , 0.16666667, 0.16666667, 0.16666667],\n",
       "        [0.5       , 0.16666667, 0.16666667, 0.16666667],\n",
       "        [0.5       , 0.16666667, 0.16666667, 0.16666667]],\n",
       "\n",
       "       [[0.16666667, 0.16666667, 0.5       , 0.16666667],\n",
       "        [0.16666667, 0.16666667, 0.5       , 0.16666667],\n",
       "        [0.16666667, 0.16666667, 0.16666667, 0.5       ],\n",
       "        [0.16666667, 0.5       , 0.16666667, 0.16666667]],\n",
       "\n",
       "       [[0.5       , 0.16666667, 0.16666667, 0.16666667],\n",
       "        [0.5       , 0.16666667, 0.16666667, 0.16666667],\n",
       "        [0.16666667, 0.5       , 0.16666667, 0.16666667],\n",
       "        [0.16666667, 0.16666667, 0.5       , 0.16666667]],\n",
       "\n",
       "       ...,\n",
       "\n",
       "       [[0.16666667, 0.16666667, 0.5       , 0.16666667],\n",
       "        [0.16666667, 0.5       , 0.16666667, 0.16666667],\n",
       "        [0.5       , 0.16666667, 0.16666667, 0.16666667],\n",
       "        [0.5       , 0.16666667, 0.16666667, 0.16666667]],\n",
       "\n",
       "       [[0.5       , 0.16666667, 0.16666667, 0.16666667],\n",
       "        [0.16666667, 0.16666667, 0.16666667, 0.5       ],\n",
       "        [0.16666667, 0.16666667, 0.5       , 0.16666667],\n",
       "        [0.16666667, 0.5       , 0.16666667, 0.16666667]],\n",
       "\n",
       "       [[0.16666667, 0.16666667, 0.5       , 0.16666667],\n",
       "        [0.16666667, 0.5       , 0.16666667, 0.16666667],\n",
       "        [0.16666667, 0.5       , 0.16666667, 0.16666667],\n",
       "        [0.16666667, 0.16666667, 0.5       , 0.16666667]]])"
      ]
     },
     "execution_count": 26,
     "metadata": {},
     "output_type": "execute_result"
    }
   ],
   "source": [
    "ps_system_proba_omp = initialize_pmf_omp(model,nb_bit,Frf_quantize,phase_value,3)\n",
    "ps_system_proba_omp"
   ]
  },
  {
   "cell_type": "code",
   "execution_count": 27,
   "metadata": {},
   "outputs": [
    {
     "name": "stdout",
     "output_type": "stream",
     "text": [
      "[0.5        0.16666667 0.16666667 0.16666667]\n",
      "0\n",
      "1\n",
      "2\n",
      "3\n",
      "4\n",
      "5\n",
      "88.05438752071407\n",
      "6\n",
      "60.72815079789062\n",
      "7\n",
      "41.634515975193025\n",
      "8\n",
      "25.61682727185708\n",
      "9\n",
      "19.306509041061968\n",
      "10\n",
      "14.248647459870948\n",
      "11\n",
      "10.46304583620396\n",
      "12\n",
      "7.721965723449087\n",
      "13\n",
      "8.543498509788124\n",
      "14\n",
      "7.32992109167095\n",
      "15\n",
      "5.826138229418169\n",
      "16\n",
      "5.3686942809374205\n",
      "17\n",
      "3.915572882109656\n",
      "18\n",
      "3.9690874029264043\n",
      "19\n",
      "2.988366652719527\n"
     ]
    }
   ],
   "source": [
    "nb_elite = 40\n",
    "S = 200\n",
    "channel_index = 0\n",
    "nb_iterate = 30\n",
    "ps_system_proba_omp = initialize_pmf_omp(model,nb_bit,Frf_quantize,phase_value,3)\n",
    "SNR = 10**(10/10)\n",
    "CE_result_omp = CE_beamforming(nb_elite,S,nb_iterate,model,nb_bit,ps_system_proba_omp,channel_index,SNR)"
   ]
  },
  {
   "cell_type": "code",
   "execution_count": 28,
   "metadata": {},
   "outputs": [
    {
     "name": "stdout",
     "output_type": "stream",
     "text": [
      "Data rate evolution: [22.01088009 22.50955584 23.08407548 24.90833952 25.8365326  26.57748656\n",
      " 27.34725786 28.29943816 28.56568597 28.84893656 29.39678423 29.76781621\n",
      " 30.3213286  30.33318879 30.73721946 31.12078629 31.05359079 31.35506419\n",
      " 31.53976613 31.68924028]\n",
      "Number of iteration: 20\n",
      "Phase shifter pmf[[0.5   0.167 0.167 0.167]\n",
      " [0.52  0.157 0.167 0.156]\n",
      " [0.461 0.26  0.149 0.13 ]\n",
      " [0.539 0.137 0.175 0.149]\n",
      " [0.572 0.125 0.176 0.128]\n",
      " [0.53  0.08  0.196 0.194]\n",
      " [0.391 0.121 0.267 0.222]\n",
      " [0.444 0.169 0.162 0.224]\n",
      " [0.539 0.151 0.174 0.136]\n",
      " [0.503 0.196 0.152 0.149]\n",
      " [0.477 0.245 0.083 0.195]\n",
      " [0.588 0.181 0.098 0.133]\n",
      " [0.711 0.153 0.077 0.058]\n",
      " [0.904 0.06  0.03  0.006]\n",
      " [0.923 0.073 0.003 0.001]\n",
      " [0.947 0.053 0.    0.   ]\n",
      " [0.905 0.095 0.    0.   ]\n",
      " [0.99  0.01  0.    0.   ]\n",
      " [0.999 0.001 0.    0.   ]\n",
      " [1.    0.    0.    0.   ]\n",
      " [1.    0.    0.    0.   ]]\n"
     ]
    },
    {
     "data": {
      "image/png": "[encoded data removed]",
      "text/plain": [
       "<matplotlib.figure.Figure at 0x18a007ab908>"
      ]
     },
     "metadata": {},
     "output_type": "display_data"
    }
   ],
   "source": [
    "print('Data rate evolution: ' + str(CE_result_omp['R_max']))\n",
    "plt.plot(CE_result_omp['R_max'])\n",
    "plt.title('data rate against iteration - 2 bits PS')\n",
    "plt.ylabel('data rate (bps/Hz)')\n",
    "plt.xlabel('iteration')\n",
    "print('Number of iteration: ' + str(CE_result_omp['nb_ite']))\n",
    "print('Phase shifter pmf' + str(np.around(CE_result_omp['proba_evo'], decimals=3)))"
   ]
  },
  {
   "cell_type": "code",
   "execution_count": 29,
   "metadata": {},
   "outputs": [],
   "source": [
    "# print(CE_result_omp['Frf_max'] == CE_result['Frf_max'])\n",
    "# print(CE_result_omp['Frf_max'] == Frf_quantize)"
   ]
  }
 ],
 "metadata": {
  "kernelspec": {
   "display_name": "Python 3",
   "language": "python",
   "name": "python3"
  },
  "language_info": {
   "codemirror_mode": {
    "name": "ipython",
    "version": 3
   },
   "file_extension": ".py",
   "mimetype": "text/x-python",
   "name": "python",
   "nbconvert_exporter": "python",
   "pygments_lexer": "ipython3",
   "version": "3.6.4"
  }
 },
 "nbformat": 4,
 "nbformat_minor": 2
}
