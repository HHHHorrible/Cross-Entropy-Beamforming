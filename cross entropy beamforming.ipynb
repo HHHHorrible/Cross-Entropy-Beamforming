{
 "cells": [
  {
   "cell_type": "markdown",
   "metadata": {},
   "source": [
    "- Load necessary module"
   ]
  },
  {
   "cell_type": "code",
   "execution_count": 1,
   "metadata": {},
   "outputs": [],
   "source": [
    "import scipy.io as io\n",
    "import numpy as np\n",
    "import matplotlib.pyplot as plt\n",
    "from scipy.stats import bernoulli\n",
    "from scipy.stats import multinomial\n",
    "from collections import OrderedDict"
   ]
  },
  {
   "cell_type": "markdown",
   "metadata": {},
   "source": [
    "- Load model that defined in channel realization"
   ]
  },
  {
   "cell_type": "code",
   "execution_count": 2,
   "metadata": {},
   "outputs": [],
   "source": [
    "mat = io.loadmat('temp.mat')\n",
    "model = {}\n",
    "model['H'] = mat['H']\n",
    "model['Wopt'] = mat['Wopt']\n",
    "model['Fopt'] = mat['Fopt']\n",
    "model['Ns'] = 1 ## need to change nb of stream in channel realization, this case 1\n",
    "model['Nt'] = mat['Nt'][0,0]\n",
    "model['Nr'] = mat['Nr'][0,0]\n",
    "model['Nc'] = mat['Nc'][0,0]\n",
    "model['Nray'] = mat['Nray'][0,0]\n",
    "model['realization'] = mat['realization'][0,0]\n",
    "model['At'] = mat['At']\n",
    "model['Ar'] = mat['Ar']\n",
    "model['Nrf'] = 2"
   ]
  },
  {
   "cell_type": "code",
   "execution_count": 3,
   "metadata": {
    "scrolled": true
   },
   "outputs": [
    {
     "name": "stdout",
     "output_type": "stream",
     "text": [
      "Nt\n",
      "Nrf\n",
      "Nc\n",
      "realization\n",
      "Nr\n",
      "H\n",
      "At\n",
      "Fopt\n",
      "Ns\n",
      "Ar\n",
      "Wopt\n",
      "Nray\n"
     ]
    }
   ],
   "source": [
    "for key in model:\n",
    "    print(key)"
   ]
  },
  {
   "cell_type": "markdown",
   "metadata": {},
   "source": [
    "Load values of phase shifter included:\n",
    "- nb_bit: number of bit\n",
    "- nb_ps: number of phase shifter in the system\n",
    "- nb_state: number of state in each phase shifter (2^nb_bit)"
   ]
  },
  {
   "cell_type": "markdown",
   "metadata": {},
   "source": [
    "### Helper function for Cross entropy Beamforming"
   ]
  },
  {
   "cell_type": "code",
   "execution_count": 4,
   "metadata": {},
   "outputs": [],
   "source": [
    "def phase_shifter(N):\n",
    "    \"\"\"\n",
    "    Define phase shifter with N bits resolution\n",
    "    \n",
    "    Arguments:\n",
    "    N -- number of bits resolutions\n",
    "    \n",
    "    Returns:\n",
    "    y -- python dictionnary of phase shifter: index of state and value of phase\n",
    "    \"\"\"\n",
    "    nb_state = 2**N\n",
    "    w = np.exp(1j*2*np.pi/nb_state)\n",
    "    ps = np.zeros(nb_state,dtype=complex)\n",
    "    for i in range(nb_state):\n",
    "        ps[i] = w**i\n",
    "    return np.around(ps, decimals=2)\n",
    "\n",
    "def generate_candidat(S,model,phase_value,ps_system_proba):\n",
    "    \"\"\"\n",
    "    generate S candidates from the previous pmf\n",
    "    \n",
    "    Arguments: \n",
    "    S -- Number of candidates to generate\n",
    "    model -- channel model\n",
    "    phase_value -- possible phase shifted value\n",
    "    ps_system_proba -- pmf of phase shifters\n",
    "    \n",
    "    Returns\n",
    "    F_rf -- S analog precoder system\n",
    "    \"\"\"\n",
    "    F_rf = np.zeros((S,model['Nt'],model['Nrf']),dtype=complex)\n",
    "    for i in range(S):\n",
    "        for j in range(model['Nt']):\n",
    "            for k in range(model['Nrf']):\n",
    "                F_rf[i,j,k] = np.random.choice(phase_value, 1, p=ps_system_proba[j,k,:])\n",
    "    return F_rf\n",
    "\n",
    "def compute_Fbb(F_rf,model):\n",
    "    \"\"\"\n",
    "    Compute baseband precoder base on the effective channel (Heq = H*Frf)\n",
    "    \n",
    "    Arguments:\n",
    "    F_rf -- analog precoder\n",
    "    model -- channel model\n",
    "    \n",
    "    Returns:\n",
    "    F_bb -- S baseband precoder\n",
    "    \"\"\"\n",
    "    S = F_rf.shape[0]\n",
    "    channel_eq = np.zeros((S,model['Nr'],model['Nrf']),dtype=complex)\n",
    "    F_bb = np.zeros((S,model['Nrf'],model['Ns']),dtype=complex)\n",
    "    channel_index = 0 ### need to adjust \n",
    "    for i in range(S):\n",
    "        channel_eq[i,:,:] =  model['H'][:,:,channel_index]@F_rf[i,:,:]\n",
    "        U, s, V = np.linalg.svd(channel_eq[i,:,:], full_matrices=True)\n",
    "        V = V.conj().T\n",
    "        F_bb[i,:,:] = V[0:model['Nt'],0:model['Ns']]\n",
    "    return F_bb\n",
    "\n",
    "def optimal_combiner(model, channel_index):\n",
    "    \"\"\"\n",
    "    Compute the optimal combiner by SVD\n",
    "    \n",
    "    Arguments:\n",
    "    model -- channel model\n",
    "    channel_index -- index in 1000 realization channel\n",
    "    \n",
    "    Returns:\n",
    "    Wopt -- optimal combiner\n",
    "    \"\"\"\n",
    "    Wopt = np.zeros((model['Nr'],model['Ns']),dtype=complex)\n",
    "    U, s, V = np.linalg.svd(model['H'][:,:,channel_index], full_matrices=True)\n",
    "    V = V.conj().T\n",
    "    # Fopt[:,:,reali] = V[0:Nt,0:Ns]\n",
    "    Wopt = U[0:model['Nr'],0:model['Ns']]\n",
    "    return Wopt\n",
    "\n",
    "def update_pmf(F_elites,phase_value,nb_elite):\n",
    "    \"\"\"\n",
    "    Update new phase shifters's pmf base on previous candidates's results\n",
    "    \n",
    "    Arguments:\n",
    "    F_elites -- elites analog precoder\n",
    "    phase_value -- phase shift value\n",
    "    nb_elite -- number of elites \n",
    "    \"\"\"\n",
    "    alpha = 0.9\n",
    "    nb_state = phase_value.shape[0]\n",
    "    stat_count = np.zeros(nb_state)\n",
    "    for i in range(model['Nt']):\n",
    "        for j in range(model['Nrf']):\n",
    "            unique, counts = np.unique(F_elites[:,i,j], return_counts=True)\n",
    "            value_count = dict(zip(unique, counts))\n",
    "            for k in range(nb_state):\n",
    "                if phase_value[k] in value_count:   \n",
    "                    proba_est = value_count[phase_value[k]]/nb_elite\n",
    "                else:\n",
    "                    proba_est = 0\n",
    "                ps_system_proba[i,j,k] = alpha*proba_est + (1-alpha)*ps_system_proba[i,j,k] \n",
    "    return ps_system_proba"
   ]
  },
  {
   "cell_type": "markdown",
   "metadata": {},
   "source": [
    "### Define Phase shiter"
   ]
  },
  {
   "cell_type": "code",
   "execution_count": 5,
   "metadata": {},
   "outputs": [],
   "source": [
    "nb_bit = 6\n",
    "nb_ps = model['Nt']*model['Nrf']\n",
    "nb_ps\n",
    "nb_state = 2**nb_bit"
   ]
  },
  {
   "cell_type": "code",
   "execution_count": 6,
   "metadata": {},
   "outputs": [
    {
     "data": {
      "text/plain": [
       "array([ 1.  +0.  j,  1.  +0.1 j,  0.98+0.2 j,  0.96+0.29j,  0.92+0.38j,\n",
       "        0.88+0.47j,  0.83+0.56j,  0.77+0.63j,  0.71+0.71j,  0.63+0.77j,\n",
       "        0.56+0.83j,  0.47+0.88j,  0.38+0.92j,  0.29+0.96j,  0.2 +0.98j,\n",
       "        0.1 +1.  j,  0.  +1.  j, -0.1 +1.  j, -0.2 +0.98j, -0.29+0.96j,\n",
       "       -0.38+0.92j, -0.47+0.88j, -0.56+0.83j, -0.63+0.77j, -0.71+0.71j,\n",
       "       -0.77+0.63j, -0.83+0.56j, -0.88+0.47j, -0.92+0.38j, -0.96+0.29j,\n",
       "       -0.98+0.2 j, -1.  +0.1 j, -1.  +0.  j, -1.  -0.1 j, -0.98-0.2 j,\n",
       "       -0.96-0.29j, -0.92-0.38j, -0.88-0.47j, -0.83-0.56j, -0.77-0.63j,\n",
       "       -0.71-0.71j, -0.63-0.77j, -0.56-0.83j, -0.47-0.88j, -0.38-0.92j,\n",
       "       -0.29-0.96j, -0.2 -0.98j, -0.1 -1.  j, -0.  -1.  j,  0.1 -1.  j,\n",
       "        0.2 -0.98j,  0.29-0.96j,  0.38-0.92j,  0.47-0.88j,  0.56-0.83j,\n",
       "        0.63-0.77j,  0.71-0.71j,  0.77-0.63j,  0.83-0.56j,  0.88-0.47j,\n",
       "        0.92-0.38j,  0.96-0.29j,  0.98-0.2 j,  1.  -0.1 j])"
      ]
     },
     "execution_count": 6,
     "metadata": {},
     "output_type": "execute_result"
    }
   ],
   "source": [
    "phase_value = phase_shifter(nb_bit)\n",
    "phase_value"
   ]
  },
  {
   "cell_type": "markdown",
   "metadata": {},
   "source": [
    "Phase shifter system dimension is: NtxNrfxN_state"
   ]
  },
  {
   "cell_type": "markdown",
   "metadata": {},
   "source": [
    "### Cross entropy beamforming Algorithm\n",
    " Step 1: Randomly generate S candidate analog beamformers\n",
    "\n",
    " Step 2: Compute S corresponding digital precoders Fbb based on the effective channel Heq = HFrf\n",
    "\n",
    " Step 3: Calculate the achievable sum-rate\n",
    "\n",
    " Step 4: Sort R in a descend order\n",
    "\n",
    " Step 5: Select elites as Frf_1, Frf_2, ..., Frf_elite\n",
    "\n",
    " Step 6: Update new pmf for each phase shifter"
   ]
  },
  {
   "cell_type": "code",
   "execution_count": 12,
   "metadata": {
    "scrolled": true
   },
   "outputs": [
    {
     "name": "stdout",
     "output_type": "stream",
     "text": [
      "[0.015625 0.015625 0.015625 0.015625 0.015625 0.015625 0.015625 0.015625\n",
      " 0.015625 0.015625 0.015625 0.015625 0.015625 0.015625 0.015625 0.015625\n",
      " 0.015625 0.015625 0.015625 0.015625 0.015625 0.015625 0.015625 0.015625\n",
      " 0.015625 0.015625 0.015625 0.015625 0.015625 0.015625 0.015625 0.015625\n",
      " 0.015625 0.015625 0.015625 0.015625 0.015625 0.015625 0.015625 0.015625\n",
      " 0.015625 0.015625 0.015625 0.015625 0.015625 0.015625 0.015625 0.015625\n",
      " 0.015625 0.015625 0.015625 0.015625 0.015625 0.015625 0.015625 0.015625\n",
      " 0.015625 0.015625 0.015625 0.015625 0.015625 0.015625 0.015625 0.015625]\n",
      "0\n",
      "1\n",
      "2\n",
      "3\n",
      "4\n",
      "5\n",
      "105.47652686454111\n",
      "6\n",
      "80.49162886771603\n",
      "7\n",
      "53.68991397582331\n",
      "8\n",
      "44.38581902496686\n",
      "9\n",
      "23.916754546214772\n",
      "10\n",
      "21.31553198443171\n",
      "11\n",
      "15.546960366561764\n",
      "12\n",
      "10.127053487308153\n",
      "13\n",
      "9.094430580833167\n",
      "14\n",
      "7.893733289534999\n",
      "15\n",
      "7.444685328930028\n",
      "16\n",
      "5.118698377589195\n",
      "17\n",
      "3.111795509715388\n",
      "18\n",
      "2.6779062686635333\n"
     ]
    }
   ],
   "source": [
    "nb_elite = 40\n",
    "S = 200\n",
    "channel_index = 0\n",
    "Wopt = optimal_combiner(model,channel_index)\n",
    "nb_iterate = 30\n",
    "ps_system_proba = np.ones((model['Nt'],model['Nrf'],nb_state))*(1/nb_state)\n",
    "# R_max = np.zeros((nb_iterate))\n",
    "proba_evo = np.copy(ps_system_proba[0,0,:])\n",
    "print(proba_evo)\n",
    "i = 0\n",
    "relative_std = 1000 # initialize high value of relative standard deviation\n",
    "\n",
    "while ((i<nb_iterate) and (relative_std>3)):\n",
    "    print(i)\n",
    "    F_rf = generate_candidat(S,model,phase_value,ps_system_proba)\n",
    "    F_bb = compute_Fbb(F_rf,model)\n",
    "    SNR = 10**(10/10)\n",
    "    R = np.zeros((S))\n",
    "    for j in range(S):\n",
    "        R[j] = np.log2(np.linalg.det(np.eye(model['Ns']))+SNR/model['Ns']*np.linalg.pinv(Wopt)@model['H'][:,:,channel_index]@F_rf[j,:,:]@F_bb[j,:,:]@F_bb[j,:,:].conj().T@F_rf[j,:,:].conj().T@model['H'][:,:,channel_index].conj().T@Wopt).real\n",
    "    R_sort_index = np.argsort(R)[::-1][:nb_elite]\n",
    "    if i==0:\n",
    "        R_max = R[R_sort_index[0]]\n",
    "    else:\n",
    "        R_max = np.append(R_max,R[R_sort_index[0]])\n",
    "    F_elites = F_rf[R_sort_index,:,:]\n",
    "    Frf_max = F_rf[R_sort_index[0],:,:]\n",
    "    Fbb_max = F_bb[R_sort_index[0],:,:]\n",
    "    ps_system_proba = update_pmf(F_elites,phase_value,nb_elite)\n",
    "    proba_evo = np.vstack((proba_evo,ps_system_proba[0,0,:]))\n",
    "    if i>=5:\n",
    "        R_max_normalize = R_max-np.min(R_max) ## Need to review\n",
    "        relative_std = 100*np.std(R_max_normalize[i-5:i])/np.mean(R_max_normalize[i-5:i])\n",
    "        print(relative_std)\n",
    "    i +=1\n",
    "    "
   ]
  },
  {
   "cell_type": "code",
   "execution_count": 8,
   "metadata": {},
   "outputs": [
    {
     "data": {
      "text/plain": [
       "(19,)"
      ]
     },
     "execution_count": 8,
     "metadata": {},
     "output_type": "execute_result"
    }
   ],
   "source": [
    "R_max.shape"
   ]
  },
  {
   "cell_type": "code",
   "execution_count": 9,
   "metadata": {},
   "outputs": [
    {
     "data": {
      "text/plain": [
       "array([[0.02, 0.02, 0.02, ..., 0.02, 0.02, 0.02],\n",
       "       [0.  , 0.  , 0.02, ..., 0.02, 0.  , 0.02],\n",
       "       [0.  , 0.02, 0.05, ..., 0.02, 0.  , 0.  ],\n",
       "       ...,\n",
       "       [0.  , 0.  , 0.  , ..., 0.03, 0.  , 0.  ],\n",
       "       [0.  , 0.  , 0.  , ..., 0.05, 0.  , 0.  ],\n",
       "       [0.  , 0.  , 0.  , ..., 0.05, 0.  , 0.  ]])"
      ]
     },
     "execution_count": 9,
     "metadata": {},
     "output_type": "execute_result"
    }
   ],
   "source": [
    "# Evolution of pmf of 1 phase shifter\n",
    "np.around(proba_evo, decimals=2)"
   ]
  },
  {
   "cell_type": "code",
   "execution_count": 10,
   "metadata": {},
   "outputs": [
    {
     "data": {
      "text/plain": [
       "(20, 64)"
      ]
     },
     "execution_count": 10,
     "metadata": {},
     "output_type": "execute_result"
    }
   ],
   "source": [
    "proba_evo.shape"
   ]
  },
  {
   "cell_type": "code",
   "execution_count": 13,
   "metadata": {},
   "outputs": [
    {
     "name": "stdout",
     "output_type": "stream",
     "text": [
      "[14.20994331 14.12216197 14.55360224 14.4451832  15.35670418 15.5407253\n",
      " 15.82803142 16.2732499  16.47438437 16.75326006 16.81708801 16.99719396\n",
      " 17.21737432 17.35396968 17.42678541 17.42162303 17.52499624 17.60951119\n",
      " 17.64536371]\n"
     ]
    },
    {
     "data": {
      "text/plain": [
       "[<matplotlib.lines.Line2D at 0x7f6aa0caa978>]"
      ]
     },
     "execution_count": 13,
     "metadata": {},
     "output_type": "execute_result"
    },
    {
     "data": {
      "image/png": "[encoded data removed]",
      "text/plain": [
       "<matplotlib.figure.Figure at 0x7f6aa19925c0>"
      ]
     },
     "metadata": {},
     "output_type": "display_data"
    }
   ],
   "source": [
    "print(R_max)\n",
    "plt.plot(R_max)"
   ]
  },
  {
   "cell_type": "markdown",
   "metadata": {},
   "source": [
    "Test:\n",
    "\n",
    "2 bits -- 17.56 bps/Hz - 16 iterate\n",
    "\n",
    "3 bits -- 17.68 bps/Hz - 18 iterate\n",
    "\n",
    "4 bits -- 17.71 bps/Hz - 18 iterate\n",
    "\n",
    "6 bits -- 17.68 bps/Hz - 19 iterate"
   ]
  }
 ],
 "metadata": {
  "kernelspec": {
   "display_name": "Python 3",
   "language": "python",
   "name": "python3"
  },
  "language_info": {
   "codemirror_mode": {
    "name": "ipython",
    "version": 3
   },
   "file_extension": ".py",
   "mimetype": "text/x-python",
   "name": "python",
   "nbconvert_exporter": "python",
   "pygments_lexer": "ipython3",
   "version": "3.5.2"
  }
 },
 "nbformat": 4,
 "nbformat_minor": 2
}
