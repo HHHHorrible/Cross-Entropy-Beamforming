{
 "cells": [
  {
   "cell_type": "markdown",
   "metadata": {},
   "source": [
    "- Load necessary module"
   ]
  },
  {
   "cell_type": "code",
   "execution_count": 1,
   "metadata": {},
   "outputs": [],
   "source": [
    "import scipy.io as io\n",
    "import numpy as np\n",
    "import matplotlib.pyplot as plt\n",
    "from scipy.stats import bernoulli\n",
    "from scipy.stats import multinomial\n",
    "from collections import OrderedDict"
   ]
  },
  {
   "cell_type": "markdown",
   "metadata": {},
   "source": [
    "- Load model that defined in channel realization"
   ]
  },
  {
   "cell_type": "code",
   "execution_count": 2,
   "metadata": {},
   "outputs": [],
   "source": [
    "mat = io.loadmat('temp.mat')\n",
    "model = {}\n",
    "model['H'] = mat['H']\n",
    "model['Wopt'] = mat['Wopt']\n",
    "model['Fopt'] = mat['Fopt']\n",
    "model['Ns'] = 1 ## need to change nb of stream in channel realization, this case 1\n",
    "model['Nt'] = mat['Nt'][0,0]\n",
    "model['Nr'] = mat['Nr'][0,0]\n",
    "model['Nc'] = mat['Nc'][0,0]\n",
    "model['Nray'] = mat['Nray'][0,0]\n",
    "model['realization'] = mat['realization'][0,0]\n",
    "model['At'] = mat['At']\n",
    "model['Ar'] = mat['Ar']\n",
    "model['Nrf'] = 2"
   ]
  },
  {
   "cell_type": "code",
   "execution_count": 3,
   "metadata": {
    "scrolled": true
   },
   "outputs": [
    {
     "name": "stdout",
     "output_type": "stream",
     "text": [
      "H\n",
      "Wopt\n",
      "Fopt\n",
      "Ns\n",
      "Nt\n",
      "Nr\n",
      "Nc\n",
      "Nray\n",
      "realization\n",
      "At\n",
      "Ar\n",
      "Nrf\n"
     ]
    }
   ],
   "source": [
    "for key in model:\n",
    "    print(key)"
   ]
  },
  {
   "cell_type": "markdown",
   "metadata": {},
   "source": [
    "Load values of phase shifter included:\n",
    "- nb_bit: number of bit\n",
    "- nb_ps: number of phase shifter in the system\n",
    "- nb_state: number of state in each phase shifter (2^nb_bit)"
   ]
  },
  {
   "cell_type": "markdown",
   "metadata": {},
   "source": [
    "# Cross Entropy Beamforming"
   ]
  },
  {
   "cell_type": "markdown",
   "metadata": {},
   "source": [
    "### Helper function for Cross entropy Beamforming"
   ]
  },
  {
   "cell_type": "code",
   "execution_count": 4,
   "metadata": {},
   "outputs": [],
   "source": [
    "def phase_shifter(n_bit,n_ant):\n",
    "    \"\"\"\n",
    "    Define phase shifter with N bits resolution\n",
    "    \n",
    "    Arguments:\n",
    "    N -- number of bits resolutions\n",
    "    \n",
    "    Returns:\n",
    "    y -- python dictionnary of phase shifter: index of state and value of phase\n",
    "    \"\"\"\n",
    "    nb_state = 2**n_bit\n",
    "    w = np.exp(1j*2*np.pi/nb_state)\n",
    "    ps = np.zeros(nb_state,dtype=complex)\n",
    "    for i in range(nb_state):\n",
    "        ps[i] = w**i/np.sqrt(n_ant)\n",
    "    return np.around(ps, decimals=2)\n",
    "\n",
    "def generate_candidat(S,model,phase_value,ps_system_proba):\n",
    "    \"\"\"\n",
    "    generate S candidates from the previous pmf\n",
    "    \n",
    "    Arguments: \n",
    "    S -- Number of candidates to generate\n",
    "    model -- channel model\n",
    "    phase_value -- possible phase shifted value\n",
    "    ps_system_proba -- pmf of phase shifters\n",
    "    \n",
    "    Returns\n",
    "    F_rf -- S analog precoder system\n",
    "    \"\"\"\n",
    "    F_rf = np.zeros((S,model['Nt'],model['Nrf']),dtype=complex)\n",
    "    for i in range(S):\n",
    "        for j in range(model['Nt']):\n",
    "            for k in range(model['Nrf']):\n",
    "                F_rf[i,j,k] = np.random.choice(phase_value, 1, p=ps_system_proba[j,k,:])\n",
    "    return F_rf\n",
    "\n",
    "def compute_Fbb(F_rf,model):\n",
    "    \"\"\"\n",
    "    Compute baseband precoder base on the effective channel (Heq = H*Frf)\n",
    "    \n",
    "    Arguments:\n",
    "    F_rf -- analog precoder\n",
    "    model -- channel model\n",
    "    \n",
    "    Returns:\n",
    "    F_bb -- S baseband precoder\n",
    "    \"\"\"\n",
    "    S = F_rf.shape[0]\n",
    "    channel_eq = np.zeros((S,model['Nr'],model['Nrf']),dtype=complex)\n",
    "    F_bb = np.zeros((S,model['Nrf'],model['Ns']),dtype=complex)\n",
    "    channel_index = 0 ### need to adjust \n",
    "    for i in range(S):\n",
    "        channel_eq[i,:,:] =  model['H'][:,:,channel_index]@F_rf[i,:,:]\n",
    "        U, s, V = np.linalg.svd(channel_eq[i,:,:], full_matrices=True)\n",
    "        V = V.conj().T\n",
    "        F_bb[i,:,:] = V[0:model['Nt'],0:model['Ns']]\n",
    "        F_bb[i,:,:] = np.sqrt(model['Ns'])*F_bb[i,:,:]/np.linalg.norm(F_rf[i,:,:]@F_bb[i,:,:],'fro')\n",
    "    return F_bb\n",
    "\n",
    "def optimal_beamformer(model, channel_index):\n",
    "    \"\"\"\n",
    "    Compute the optimal beamformer by SVD\n",
    "    \n",
    "    Arguments:\n",
    "    model -- channel model\n",
    "    channel_index -- index in 1000 realization channel\n",
    "    \n",
    "    Returns:\n",
    "    Fopt -- optimal precoder\n",
    "    Wopt -- optimal combiner\n",
    "    \"\"\"\n",
    "    Wopt = np.zeros((model['Nr'],model['Ns']),dtype=complex)\n",
    "    Fopt = np.zeros((model['Nt'],model['Ns']),dtype=complex)\n",
    "    U, s, V = np.linalg.svd(model['H'][:,:,channel_index], full_matrices=True)\n",
    "    V = V.conj().T\n",
    "    Fopt = V[0:model['Nt'],0:model['Ns']]\n",
    "    Wopt = U[0:model['Nr'],0:model['Ns']]\n",
    "    return Fopt, Wopt\n",
    "\n",
    "\n",
    "def update_pmf(F_elites,phase_value,nb_elite):\n",
    "    \"\"\"\n",
    "    Update new phase shifters's pmf base on previous candidates's results\n",
    "    \n",
    "    Arguments:\n",
    "    F_elites -- elites analog precoder\n",
    "    phase_value -- phase shift value\n",
    "    nb_elite -- number of elites \n",
    "    \n",
    "    Returns:\n",
    "    ps_system_proba -- pmf of phase shifter\n",
    "    \"\"\"\n",
    "    alpha = 0.9\n",
    "    nb_state = phase_value.shape[0]\n",
    "    stat_count = np.zeros(nb_state)\n",
    "    for i in range(model['Nt']):\n",
    "        for j in range(model['Nrf']):\n",
    "            unique, counts = np.unique(F_elites[:,i,j], return_counts=True)\n",
    "            value_count = dict(zip(unique, counts))\n",
    "            for k in range(nb_state):\n",
    "                if phase_value[k] in value_count:   \n",
    "                    proba_est = value_count[phase_value[k]]/nb_elite\n",
    "                else:\n",
    "                    proba_est = 0\n",
    "                ps_system_proba[i,j,k] = alpha*proba_est + (1-alpha)*ps_system_proba[i,j,k] \n",
    "    return ps_system_proba\n",
    "\n",
    "def data_rate(Ns,SNR,W,H,F):\n",
    "    \"\"\"\n",
    "    Compute the data rate of the beamforming system\n",
    "    \n",
    "    Arguments:\n",
    "    Ns -- number of stream\n",
    "    SNR -- Signal to noise ratio\n",
    "    W -- combiner\n",
    "    H -- channel\n",
    "    F -- precoder\n",
    "    \n",
    "    Returns:\n",
    "    R -- data rate\n",
    "    \"\"\"\n",
    "    R = np.log2(np.linalg.det(np.eye(Ns)+SNR/Ns*np.linalg.pinv(W)@H@F@F.conj().T@H.conj().T@W))\n",
    "    return R.real"
   ]
  },
  {
   "cell_type": "markdown",
   "metadata": {},
   "source": [
    "### Define Phase shiter"
   ]
  },
  {
   "cell_type": "code",
   "execution_count": 5,
   "metadata": {},
   "outputs": [],
   "source": [
    "nb_bit = 4\n",
    "nb_ps = model['Nt']*model['Nrf']\n",
    "nb_ps\n",
    "nb_state = 2**nb_bit"
   ]
  },
  {
   "cell_type": "code",
   "execution_count": 6,
   "metadata": {},
   "outputs": [
    {
     "data": {
      "text/plain": [
       "array([ 0.12+0.  j,  0.12+0.05j,  0.09+0.09j,  0.05+0.12j, -0.  +0.12j,\n",
       "       -0.05+0.12j, -0.09+0.09j, -0.12+0.05j, -0.12-0.  j, -0.12-0.05j,\n",
       "       -0.09-0.09j, -0.05-0.12j,  0.  -0.12j,  0.05-0.12j,  0.09-0.09j,\n",
       "        0.12-0.05j])"
      ]
     },
     "execution_count": 6,
     "metadata": {},
     "output_type": "execute_result"
    }
   ],
   "source": [
    "phase_value = phase_shifter(nb_bit,model['Nt'])\n",
    "phase_value"
   ]
  },
  {
   "cell_type": "markdown",
   "metadata": {},
   "source": [
    "Phase shifter system dimension is: NtxNrfxN_state"
   ]
  },
  {
   "cell_type": "markdown",
   "metadata": {},
   "source": [
    "### Cross entropy beamforming Algorithm\n",
    " Step 1: Randomly generate S candidate analog beamformers\n",
    "\n",
    " Step 2: Compute S corresponding digital precoders Fbb based on the effective channel Heq = HFrf\n",
    "\n",
    " Step 3: Calculate the achievable sum-rate\n",
    "\n",
    " Step 4: Sort R in a descend order\n",
    "\n",
    " Step 5: Select elites as Frf_1, Frf_2, ..., Frf_elite\n",
    "\n",
    " Step 6: Update new pmf for each phase shifter"
   ]
  },
  {
   "cell_type": "code",
   "execution_count": 7,
   "metadata": {
    "scrolled": true
   },
   "outputs": [
    {
     "name": "stdout",
     "output_type": "stream",
     "text": [
      "[0.0625 0.0625 0.0625 0.0625 0.0625 0.0625 0.0625 0.0625 0.0625 0.0625\n",
      " 0.0625 0.0625 0.0625 0.0625 0.0625 0.0625]\n",
      "0\n",
      "1\n",
      "2\n",
      "3\n",
      "4\n",
      "5\n",
      "80.3146040790676\n",
      "6\n",
      "70.93963639093244\n",
      "7\n",
      "72.4371244843691\n",
      "8\n",
      "44.92153570348471\n",
      "9\n",
      "28.3063161757048\n",
      "10\n",
      "20.636507217512943\n",
      "11\n",
      "13.598610774265719\n",
      "12\n",
      "12.003224576065646\n",
      "13\n",
      "8.646358780927\n",
      "14\n",
      "7.9139512437881425\n",
      "15\n",
      "5.338016202542287\n",
      "16\n",
      "3.2118292340038153\n",
      "17\n",
      "2.438455843319559\n"
     ]
    }
   ],
   "source": [
    "nb_elite = 40\n",
    "S = 200\n",
    "channel_index = 0\n",
    "Fopt, Wopt = optimal_beamformer(model,channel_index)\n",
    "nb_iterate = 30\n",
    "ps_system_proba = np.ones((model['Nt'],model['Nrf'],nb_state))*(1/nb_state)\n",
    "# R_max = np.zeros((nb_iterate))\n",
    "proba_evo = np.copy(ps_system_proba[0,0,:])\n",
    "print(proba_evo)\n",
    "i = 0\n",
    "relative_std = 1000 # initialize high value of relative standard deviation\n",
    "SNR = 10**(10/10)\n",
    "while ((i<nb_iterate) and (relative_std>3)):\n",
    "    print(i)\n",
    "    F_rf = generate_candidat(S,model,phase_value,ps_system_proba)\n",
    "    F_bb = compute_Fbb(F_rf,model)\n",
    "    R = np.zeros((S))\n",
    "    for j in range(S):\n",
    "        R[j] = data_rate(model['Ns'],SNR,Wopt,model['H'][:,:,channel_index],F_rf[j,:,:]@F_bb[j,:,:])\n",
    "#         R[j] = np.log2(np.linalg.det(np.eye(model['Ns']))+SNR/model['Ns']*np.linalg.pinv(Wopt)@model['H'][:,:,channel_index]@F_rf[j,:,:]@F_bb[j,:,:]@F_bb[j,:,:].conj().T@F_rf[j,:,:].conj().T@model['H'][:,:,channel_index].conj().T@Wopt).real\n",
    "    R_sort_index = np.argsort(R)[::-1][:nb_elite]\n",
    "    if i==0:\n",
    "        R_max = R[R_sort_index[0]]\n",
    "    else:\n",
    "        R_max = np.append(R_max,R[R_sort_index[0]])\n",
    "    F_elites = F_rf[R_sort_index,:,:]\n",
    "    Frf_max = F_rf[R_sort_index[0],:,:]\n",
    "    Fbb_max = F_bb[R_sort_index[0],:,:]\n",
    "    ps_system_proba = update_pmf(F_elites,phase_value,nb_elite)\n",
    "    proba_evo = np.vstack((proba_evo,ps_system_proba[0,0,:]))\n",
    "    if i>=5:\n",
    "        R_max_normalize = R_max-np.min(R_max) ## Need to review\n",
    "        relative_std = 100*np.std(R_max_normalize[i-5:i])/np.mean(R_max_normalize[i-5:i])\n",
    "        print(relative_std)\n",
    "    i +=1\n",
    "    "
   ]
  },
  {
   "cell_type": "code",
   "execution_count": 8,
   "metadata": {},
   "outputs": [
    {
     "data": {
      "text/plain": [
       "(18,)"
      ]
     },
     "execution_count": 8,
     "metadata": {},
     "output_type": "execute_result"
    }
   ],
   "source": [
    "R_max.shape"
   ]
  },
  {
   "cell_type": "code",
   "execution_count": 9,
   "metadata": {},
   "outputs": [
    {
     "data": {
      "text/plain": [
       "array([[0.06, 0.06, 0.06, 0.06, 0.06, 0.06, 0.06, 0.06, 0.06, 0.06, 0.06,\n",
       "        0.06, 0.06, 0.06, 0.06, 0.06],\n",
       "       [0.05, 0.12, 0.05, 0.01, 0.03, 0.05, 0.14, 0.05, 0.12, 0.07, 0.03,\n",
       "        0.03, 0.05, 0.03, 0.05, 0.12],\n",
       "       [0.07, 0.15, 0.1 , 0.  , 0.  , 0.01, 0.15, 0.05, 0.17, 0.12, 0.07,\n",
       "        0.03, 0.01, 0.  , 0.01, 0.08],\n",
       "       [0.07, 0.13, 0.14, 0.  , 0.  , 0.  , 0.1 , 0.01, 0.24, 0.12, 0.05,\n",
       "        0.  , 0.  , 0.  , 0.  , 0.12],\n",
       "       [0.07, 0.1 , 0.13, 0.  , 0.  , 0.  , 0.08, 0.  , 0.18, 0.24, 0.07,\n",
       "        0.  , 0.  , 0.  , 0.  , 0.12],\n",
       "       [0.05, 0.08, 0.1 , 0.  , 0.  , 0.  , 0.01, 0.  , 0.15, 0.38, 0.07,\n",
       "        0.  , 0.  , 0.  , 0.  , 0.15],\n",
       "       [0.07, 0.05, 0.06, 0.  , 0.  , 0.  , 0.02, 0.  , 0.2 , 0.44, 0.1 ,\n",
       "        0.  , 0.  , 0.  , 0.  , 0.06],\n",
       "       [0.07, 0.1 , 0.1 , 0.  , 0.  , 0.  , 0.05, 0.  , 0.2 , 0.38, 0.08,\n",
       "        0.  , 0.  , 0.  , 0.  , 0.03],\n",
       "       [0.07, 0.1 , 0.05, 0.  , 0.  , 0.  , 0.03, 0.  , 0.27, 0.4 , 0.08,\n",
       "        0.  , 0.  , 0.  , 0.  , 0.  ],\n",
       "       [0.07, 0.12, 0.05, 0.  , 0.  , 0.  , 0.03, 0.  , 0.16, 0.47, 0.08,\n",
       "        0.  , 0.  , 0.  , 0.  , 0.02],\n",
       "       [0.05, 0.15, 0.1 , 0.  , 0.  , 0.  , 0.03, 0.  , 0.17, 0.43, 0.08,\n",
       "        0.  , 0.  , 0.  , 0.  , 0.  ],\n",
       "       [0.05, 0.06, 0.08, 0.  , 0.  , 0.  , 0.  , 0.  , 0.26, 0.4 , 0.14,\n",
       "        0.  , 0.  , 0.  , 0.  , 0.  ],\n",
       "       [0.01, 0.05, 0.1 , 0.  , 0.  , 0.  , 0.  , 0.  , 0.25, 0.45, 0.15,\n",
       "        0.  , 0.  , 0.  , 0.  , 0.  ],\n",
       "       [0.  , 0.07, 0.05, 0.  , 0.  , 0.  , 0.  , 0.  , 0.25, 0.47, 0.15,\n",
       "        0.  , 0.  , 0.  , 0.  , 0.  ],\n",
       "       [0.  , 0.1 , 0.07, 0.  , 0.  , 0.  , 0.  , 0.  , 0.25, 0.38, 0.19,\n",
       "        0.  , 0.  , 0.  , 0.  , 0.  ],\n",
       "       [0.  , 0.05, 0.01, 0.  , 0.  , 0.  , 0.  , 0.  , 0.23, 0.47, 0.24,\n",
       "        0.  , 0.  , 0.  , 0.  , 0.  ],\n",
       "       [0.  , 0.03, 0.  , 0.  , 0.  , 0.  , 0.  , 0.  , 0.16, 0.61, 0.2 ,\n",
       "        0.  , 0.  , 0.  , 0.  , 0.  ],\n",
       "       [0.  , 0.  , 0.02, 0.  , 0.  , 0.  , 0.  , 0.  , 0.17, 0.65, 0.16,\n",
       "        0.  , 0.  , 0.  , 0.  , 0.  ],\n",
       "       [0.  , 0.02, 0.  , 0.  , 0.  , 0.  , 0.  , 0.  , 0.13, 0.74, 0.11,\n",
       "        0.  , 0.  , 0.  , 0.  , 0.  ]])"
      ]
     },
     "execution_count": 9,
     "metadata": {},
     "output_type": "execute_result"
    }
   ],
   "source": [
    "# Evolution of pmf of 1 phase shifter\n",
    "np.around(proba_evo, decimals=2)"
   ]
  },
  {
   "cell_type": "code",
   "execution_count": 10,
   "metadata": {},
   "outputs": [
    {
     "data": {
      "text/plain": [
       "(19, 16)"
      ]
     },
     "execution_count": 10,
     "metadata": {},
     "output_type": "execute_result"
    }
   ],
   "source": [
    "proba_evo.shape"
   ]
  },
  {
   "cell_type": "code",
   "execution_count": 11,
   "metadata": {},
   "outputs": [
    {
     "name": "stdout",
     "output_type": "stream",
     "text": [
      "[ 8.7025576   9.0658577   8.51727589  8.8690823   9.47057646  9.76746798\n",
      " 10.26068342 10.40561741 10.74937606 10.87182103 11.04802775 11.23682036\n",
      " 11.33723885 11.4710324  11.41076142 11.48636895 11.54779606 11.59085674]\n"
     ]
    },
    {
     "data": {
      "text/plain": [
       "Text(0.5,0,'iteration')"
      ]
     },
     "execution_count": 11,
     "metadata": {},
     "output_type": "execute_result"
    },
    {
     "data": {
      "image/png": "[encoded data removed]",
      "text/plain": [
       "<matplotlib.figure.Figure at 0x287e9ad3400>"
      ]
     },
     "metadata": {},
     "output_type": "display_data"
    }
   ],
   "source": [
    "print(R_max)\n",
    "plt.plot(R_max)\n",
    "plt.title('data rate against iteration - 1 bits PS')\n",
    "plt.ylabel('data rate (bps/Hz)')\n",
    "plt.xlabel('iteration')"
   ]
  },
  {
   "cell_type": "markdown",
   "metadata": {},
   "source": [
    "Test:\n",
    "\n",
    "2 bits -- 17.56 bps/Hz - 16 iterate\n",
    "\n",
    "3 bits -- 17.68 bps/Hz - 18 iterate\n",
    "\n",
    "4 bits -- 17.71 bps/Hz - 18 iterate\n",
    "\n",
    "6 bits -- 17.68 bps/Hz - 19 iterate"
   ]
  },
  {
   "cell_type": "markdown",
   "metadata": {},
   "source": [
    "# Digital Beamforming"
   ]
  },
  {
   "cell_type": "code",
   "execution_count": 12,
   "metadata": {},
   "outputs": [
    {
     "name": "stdout",
     "output_type": "stream",
     "text": [
      "11.968975659591255\n"
     ]
    }
   ],
   "source": [
    "R_o = data_rate(model['Ns'],SNR,model['Wopt'][:,[0],0],model['H'][:,:,0],model['Fopt'][:,[0],0])\n",
    "print(R_o)"
   ]
  },
  {
   "cell_type": "code",
   "execution_count": 13,
   "metadata": {
    "scrolled": true
   },
   "outputs": [
    {
     "data": {
      "text/plain": [
       "array([[[-0.12-0.05j,  0.12-0.05j],\n",
       "        [ 0.  -0.12j,  0.09+0.09j],\n",
       "        [ 0.12-0.05j,  0.05-0.12j],\n",
       "        ...,\n",
       "        [-0.09-0.09j, -0.12-0.  j],\n",
       "        [ 0.12-0.05j,  0.  -0.12j],\n",
       "        [-0.12-0.  j,  0.12+0.05j]],\n",
       "\n",
       "       [[-0.12-0.05j, -0.05-0.12j],\n",
       "        [ 0.  -0.12j,  0.12+0.05j],\n",
       "        [ 0.12+0.  j,  0.05-0.12j],\n",
       "        ...,\n",
       "        [-0.05-0.12j, -0.12-0.  j],\n",
       "        [ 0.05-0.12j,  0.  -0.12j],\n",
       "        [-0.12-0.  j,  0.12+0.05j]],\n",
       "\n",
       "       [[-0.12-0.05j, -0.05-0.12j],\n",
       "        [ 0.05-0.12j,  0.05+0.12j],\n",
       "        [ 0.12-0.05j,  0.05-0.12j],\n",
       "        ...,\n",
       "        [-0.05-0.12j, -0.12-0.  j],\n",
       "        [ 0.05-0.12j,  0.  -0.12j],\n",
       "        [-0.12-0.  j,  0.12+0.05j]],\n",
       "\n",
       "       ...,\n",
       "\n",
       "       [[-0.12-0.05j, -0.05-0.12j],\n",
       "        [-0.05-0.12j, -0.05+0.12j],\n",
       "        [ 0.12+0.  j,  0.05-0.12j],\n",
       "        ...,\n",
       "        [-0.09-0.09j, -0.12+0.05j],\n",
       "        [ 0.09-0.09j,  0.  -0.12j],\n",
       "        [-0.12-0.  j,  0.05+0.12j]],\n",
       "\n",
       "       [[-0.12-0.  j, -0.05-0.12j],\n",
       "        [ 0.  -0.12j,  0.05+0.12j],\n",
       "        [ 0.12-0.05j,  0.05-0.12j],\n",
       "        ...,\n",
       "        [-0.05-0.12j, -0.12-0.  j],\n",
       "        [ 0.12-0.05j,  0.  -0.12j],\n",
       "        [-0.12-0.  j,  0.12+0.05j]],\n",
       "\n",
       "       [[-0.09-0.09j,  0.  -0.12j],\n",
       "        [ 0.05-0.12j,  0.09+0.09j],\n",
       "        [ 0.12+0.  j,  0.12+0.  j],\n",
       "        ...,\n",
       "        [-0.05-0.12j, -0.12-0.  j],\n",
       "        [ 0.05-0.12j,  0.  -0.12j],\n",
       "        [-0.12-0.05j,  0.05+0.12j]]])"
      ]
     },
     "execution_count": 13,
     "metadata": {},
     "output_type": "execute_result"
    }
   ],
   "source": [
    "F_rf"
   ]
  },
  {
   "cell_type": "code",
   "execution_count": 14,
   "metadata": {},
   "outputs": [
    {
     "name": "stdout",
     "output_type": "stream",
     "text": [
      "Ns 1    Frobenius norm FRF*FBB= 0.9999999999999998\n"
     ]
    }
   ],
   "source": [
    "# Normalize condition\n",
    "x = np.linalg.norm(F_rf[1,:,:]@F_bb[1,:,:],'fro')\n",
    "print(\"Ns\", model['Ns'] , \"   Frobenius norm FRF*FBB=\", x**2)"
   ]
  }
 ],
 "metadata": {
  "kernelspec": {
   "display_name": "Python 3",
   "language": "python",
   "name": "python3"
  },
  "language_info": {
   "codemirror_mode": {
    "name": "ipython",
    "version": 3
   },
   "file_extension": ".py",
   "mimetype": "text/x-python",
   "name": "python",
   "nbconvert_exporter": "python",
   "pygments_lexer": "ipython3",
   "version": "3.6.4"
  }
 },
 "nbformat": 4,
 "nbformat_minor": 2
}
