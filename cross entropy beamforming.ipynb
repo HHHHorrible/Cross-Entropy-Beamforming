{
 "cells": [
  {
   "cell_type": "markdown",
   "metadata": {},
   "source": [
    "- Load necessary module"
   ]
  },
  {
   "cell_type": "code",
   "execution_count": 1,
   "metadata": {},
   "outputs": [],
   "source": [
    "import scipy.io as io\n",
    "import numpy as np\n",
    "import matplotlib.pyplot as plt\n",
    "from scipy.stats import bernoulli\n",
    "from scipy.stats import multinomial\n",
    "from collections import OrderedDict"
   ]
  },
  {
   "cell_type": "markdown",
   "metadata": {},
   "source": [
    "- Load model that defined in channel realization"
   ]
  },
  {
   "cell_type": "code",
   "execution_count": 2,
   "metadata": {},
   "outputs": [],
   "source": [
    "np.random.seed(1)\n",
    "mat = io.loadmat('temp.mat')\n",
    "model = {}\n",
    "model['H'] = mat['H']\n",
    "# model['Wopt'] = mat['Wopt']\n",
    "# model['Fopt'] = mat['Fopt']\n",
    "# model['Ns'] = mat['Ns'][0,0] ## need to change nb of stream in channel realization, this case 1\n",
    "model['Ns'] = 2\n",
    "model['Nt'] = mat['Nt'][0,0]\n",
    "model['Nr'] = mat['Nr'][0,0]\n",
    "model['Nc'] = mat['Nc'][0,0]\n",
    "model['Nray'] = mat['Nray'][0,0]\n",
    "model['realization'] = mat['realization'][0,0]\n",
    "model['At'] = mat['At']\n",
    "model['Ar'] = mat['Ar']\n",
    "model['Nrf'] = 2"
   ]
  },
  {
   "cell_type": "code",
   "execution_count": 3,
   "metadata": {
    "scrolled": true
   },
   "outputs": [
    {
     "name": "stdout",
     "output_type": "stream",
     "text": [
      "H\n",
      "Ns\n",
      "Nt\n",
      "Nr\n",
      "Nc\n",
      "Nray\n",
      "realization\n",
      "At\n",
      "Ar\n",
      "Nrf\n"
     ]
    }
   ],
   "source": [
    "for key in model:\n",
    "    print(key)"
   ]
  },
  {
   "cell_type": "markdown",
   "metadata": {},
   "source": [
    "Load values of phase shifter included:\n",
    "- nb_bit: number of bit\n",
    "- nb_ps: number of phase shifter in the system\n",
    "- nb_state: number of state in each phase shifter (2^nb_bit)"
   ]
  },
  {
   "cell_type": "markdown",
   "metadata": {},
   "source": [
    "# Cross Entropy Beamforming"
   ]
  },
  {
   "cell_type": "markdown",
   "metadata": {},
   "source": [
    "### Helper function for Cross entropy Beamforming"
   ]
  },
  {
   "cell_type": "code",
   "execution_count": 4,
   "metadata": {},
   "outputs": [],
   "source": [
    "def phase_shifter(n_bit,n_ant):\n",
    "    \"\"\"\n",
    "    Define phase shifter with N bits resolution\n",
    "    \n",
    "    Arguments:\n",
    "    N -- number of bits resolutions\n",
    "    \n",
    "    Returns:\n",
    "    y -- python dictionnary of phase shifter: index of state and value of phase\n",
    "    \"\"\"\n",
    "    nb_state = 2**n_bit\n",
    "    w = np.exp(1j*2*np.pi/nb_state)\n",
    "    ps = np.zeros(nb_state,dtype=complex)\n",
    "    for i in range(nb_state):\n",
    "        ps[i] = w**i/np.sqrt(n_ant)\n",
    "    return np.around(ps, decimals=3)\n",
    "\n",
    "def generate_candidat(S,model,phase_value,ps_system_proba):\n",
    "    \"\"\"\n",
    "    generate S candidates from the previous pmf\n",
    "    \n",
    "    Arguments: \n",
    "    S -- Number of candidates to generate\n",
    "    model -- channel model\n",
    "    phase_value -- possible phase shifted value\n",
    "    ps_system_proba -- pmf of phase shifters\n",
    "    \n",
    "    Returns\n",
    "    F_rf -- S analog precoder system\n",
    "    \"\"\"\n",
    "    F_rf = np.zeros((S,model['Nt'],model['Nrf']),dtype=complex)\n",
    "    for i in range(S):\n",
    "        for j in range(model['Nt']):\n",
    "            for k in range(model['Nrf']):\n",
    "                F_rf[i,j,k] = np.random.choice(phase_value, 1, p=ps_system_proba[j,k,:])\n",
    "    return F_rf\n",
    "\n",
    "def compute_Fbb(F_rf,model):\n",
    "    \"\"\"\n",
    "    Compute baseband precoder base on the effective channel (Heq = H*Frf)\n",
    "    \n",
    "    Arguments:\n",
    "    F_rf -- analog precoder\n",
    "    model -- channel model\n",
    "    \n",
    "    Returns:\n",
    "    F_bb -- S baseband precoder\n",
    "    \"\"\"\n",
    "    S = F_rf.shape[0]\n",
    "    channel_eq = np.zeros((S,model['Nr'],model['Nrf']),dtype=complex)\n",
    "    F_bb = np.zeros((S,model['Nrf'],model['Ns']),dtype=complex)\n",
    "    channel_index = 0 ### need to adjust \n",
    "    for i in range(S):\n",
    "        channel_eq[i,:,:] =  model['H'][:,:,channel_index]@F_rf[i,:,:]\n",
    "        U, s, V = np.linalg.svd(channel_eq[i,:,:], full_matrices=True)\n",
    "        V = V.conj().T\n",
    "        F_bb[i,:,:] = V[0:model['Nt'],0:model['Ns']]\n",
    "        F_bb[i,:,:] = np.sqrt(model['Ns'])*F_bb[i,:,:]/np.linalg.norm(F_rf[i,:,:]@F_bb[i,:,:],'fro')\n",
    "    return F_bb\n",
    "\n",
    "def optimal_beamformer(model, channel_index):\n",
    "    \"\"\"\n",
    "    Compute the optimal beamformer by SVD\n",
    "    \n",
    "    Arguments:\n",
    "    model -- channel model\n",
    "    channel_index -- index in 1000 realization channel\n",
    "    \n",
    "    Returns:\n",
    "    Fopt -- optimal precoder\n",
    "    Wopt -- optimal combiner\n",
    "    \"\"\"\n",
    "    Wopt = np.zeros((model['Nr'],model['Ns']),dtype=complex)\n",
    "    Fopt = np.zeros((model['Nt'],model['Ns']),dtype=complex)\n",
    "    U, s, V = np.linalg.svd(model['H'][:,:,channel_index], full_matrices=True)\n",
    "    V = V.conj().T\n",
    "    Fopt = V[0:model['Nt'],0:model['Ns']]\n",
    "    Wopt = U[0:model['Nr'],0:model['Ns']]\n",
    "    return Fopt, Wopt\n",
    "\n",
    "\n",
    "def update_pmf(F_elites,phase_value,nb_elite,R_elite):\n",
    "    \"\"\"\n",
    "    Update new phase shifters's pmf base on previous candidates's results\n",
    "    \n",
    "    Arguments:\n",
    "    F_elites -- elites analog precoder\n",
    "    phase_value -- phase shift value\n",
    "    nb_elite -- number of elites \n",
    "    \n",
    "    Returns:\n",
    "    ps_system_proba -- pmf of phase shifter\n",
    "    \"\"\"\n",
    "    alpha = 0.9\n",
    "    nb_state = phase_value.shape[0]\n",
    "    stat_count = np.zeros(nb_state)\n",
    "    assign = np.zeros(nb_elite)\n",
    "    weight = R_elite/np.mean(R_elite)\n",
    "    for i in range(model['Nt']):\n",
    "        for j in range(model['Nrf']):\n",
    "            for k in range(nb_state):\n",
    "                assign = F_elites[:,i,j] == phase_value[k]\n",
    "#                 proba_est = np.sum(assign*weight)/nb_elite\n",
    "                proba_est = np.sum(assign)/nb_elite\n",
    "                ps_system_proba[i,j,k] = alpha*proba_est + (1-alpha)*ps_system_proba[i,j,k] \n",
    "    return ps_system_proba\n",
    "\n",
    "def data_rate(Ns,SNR,W,H,F):\n",
    "    \"\"\"\n",
    "    Compute the data rate of the beamforming system\n",
    "    \n",
    "    Arguments:\n",
    "    Ns -- number of stream\n",
    "    SNR -- Signal to noise ratio\n",
    "    W -- combiner\n",
    "    H -- channel\n",
    "    F -- precoder\n",
    "    \n",
    "    Returns:\n",
    "    R -- data rate\n",
    "    \"\"\"\n",
    "    R = np.log2(np.linalg.det(np.eye(Ns)+SNR/Ns*np.linalg.pinv(W)@H@F@F.conj().T@H.conj().T@W))\n",
    "    return R.real"
   ]
  },
  {
   "cell_type": "markdown",
   "metadata": {},
   "source": [
    "### Define Phase shiter"
   ]
  },
  {
   "cell_type": "code",
   "execution_count": 5,
   "metadata": {},
   "outputs": [],
   "source": [
    "nb_bit = 2\n",
    "nb_ps = model['Nt']*model['Nrf']\n",
    "nb_ps\n",
    "nb_state = 2**nb_bit"
   ]
  },
  {
   "cell_type": "code",
   "execution_count": 6,
   "metadata": {},
   "outputs": [
    {
     "data": {
      "text/plain": [
       "array([ 0.125+0.   j,  0.   +0.125j, -0.125+0.   j, -0.   -0.125j])"
      ]
     },
     "execution_count": 6,
     "metadata": {},
     "output_type": "execute_result"
    }
   ],
   "source": [
    "phase_value = phase_shifter(nb_bit,model['Nt'])\n",
    "phase_value"
   ]
  },
  {
   "cell_type": "markdown",
   "metadata": {},
   "source": [
    "Phase shifter system dimension is: NtxNrfxN_state"
   ]
  },
  {
   "cell_type": "markdown",
   "metadata": {},
   "source": [
    "### Cross entropy beamforming Algorithm\n",
    " Step 1: Randomly generate S candidate analog beamformers\n",
    "\n",
    " Step 2: Compute S corresponding digital precoders Fbb based on the effective channel Heq = HFrf\n",
    "\n",
    " Step 3: Calculate the achievable sum-rate\n",
    "\n",
    " Step 4: Sort R in a descend order\n",
    "\n",
    " Step 5: Select elites as Frf_1, Frf_2, ..., Frf_elite\n",
    "\n",
    " Step 6: Update new pmf for each phase shifter"
   ]
  },
  {
   "cell_type": "code",
   "execution_count": 7,
   "metadata": {},
   "outputs": [],
   "source": [
    "channel_index = 0\n",
    "model['Fopt'], model['Wopt'] = optimal_beamformer(model,channel_index)\n"
   ]
  },
  {
   "cell_type": "code",
   "execution_count": 8,
   "metadata": {},
   "outputs": [],
   "source": [
    "def CE_beamforming(nb_elite,S,nb_iterate,model,nb_bit,ps_system_proba,channel_index,SNR):\n",
    "    \"\"\"\n",
    "    Hybrid beamforming by Cross-entropy method\n",
    "    \n",
    "    \"\"\"\n",
    "    Fopt, Wopt = model['Fopt'],model['Wopt']\n",
    "    proba_evo = np.copy(ps_system_proba[0,0,:])\n",
    "    print(proba_evo)\n",
    "    relative_std = 1000 # initialize high value of relative standard deviation\n",
    "    i = 0\n",
    "    while ((i<nb_iterate) and (relative_std>3)):\n",
    "        print(i)\n",
    "        F_rf = generate_candidat(S,model,phase_value,ps_system_proba)\n",
    "        F_bb = compute_Fbb(F_rf,model)\n",
    "        R = np.zeros((S))\n",
    "        for j in range(S):\n",
    "            R[j] = data_rate(model['Ns'],SNR,Wopt,model['H'][:,:,channel_index],F_rf[j,:,:]@F_bb[j,:,:])\n",
    "        R_sort_index = np.argsort(R)[::-1][:nb_elite]\n",
    "        if i==0:\n",
    "            R_max = R[R_sort_index[0]]\n",
    "        else:\n",
    "            R_max = np.append(R_max,R[R_sort_index[0]])\n",
    "        F_elites = F_rf[R_sort_index,:,:]\n",
    "        Frf_max = F_rf[R_sort_index[0],:,:]\n",
    "        Fbb_max = F_bb[R_sort_index[0],:,:]\n",
    "        ps_system_proba = update_pmf(F_elites,phase_value,nb_elite,R[R_sort_index])\n",
    "        proba_evo = np.vstack((proba_evo,ps_system_proba[0,0,:]))\n",
    "        if i>=5:\n",
    "            R_max_normalize = R_max-np.min(R_max) ## Need to review\n",
    "            relative_std = 100*np.std(R_max_normalize[i-5:i])/np.mean(R_max_normalize[i-5:i])\n",
    "            print(relative_std)\n",
    "        i +=1\n",
    "    output = {}\n",
    "    output['R_max'] = R_max\n",
    "    output['Frf_max'] = Frf_max\n",
    "    output['Fbb_max'] = Fbb_max\n",
    "    output['nb_ite'] = i\n",
    "    output['proba_evo'] = proba_evo\n",
    "    output['ps_system_proba'] = ps_system_proba\n",
    "    return output"
   ]
  },
  {
   "cell_type": "code",
   "execution_count": 9,
   "metadata": {
    "scrolled": true
   },
   "outputs": [
    {
     "name": "stdout",
     "output_type": "stream",
     "text": [
      "[0.25 0.25 0.25 0.25]\n",
      "0\n",
      "1\n",
      "2\n",
      "3\n",
      "4\n",
      "5\n",
      "69.51111768749425\n",
      "6\n",
      "69.12010865755478\n",
      "7\n",
      "68.41021967284416\n",
      "8\n",
      "69.99167303964771\n",
      "9\n",
      "62.02354234613916\n",
      "10\n",
      "42.70036570019753\n",
      "11\n",
      "26.33054090893619\n",
      "12\n",
      "19.434846767370548\n",
      "13\n",
      "18.967952059838886\n",
      "14\n",
      "15.233067724577202\n",
      "15\n",
      "11.486419995260896\n",
      "16\n",
      "8.466117199507183\n",
      "17\n",
      "6.095199054934541\n",
      "18\n",
      "4.674230664769908\n",
      "19\n",
      "3.9345235402627545\n",
      "20\n",
      "2.943796653605818\n"
     ]
    }
   ],
   "source": [
    "nb_elite = 40\n",
    "S = 200\n",
    "channel_index = 0\n",
    "nb_iterate = 30\n",
    "ps_system_proba = np.ones((model['Nt'],model['Nrf'],nb_state))*(1/nb_state)\n",
    "SNR = 10**(10/10)\n",
    "CE_result = CE_beamforming(nb_elite,S,nb_iterate,model,nb_bit,ps_system_proba,channel_index,SNR)"
   ]
  },
  {
   "cell_type": "code",
   "execution_count": 10,
   "metadata": {},
   "outputs": [
    {
     "data": {
      "text/plain": [
       "array([[0.25 , 0.25 , 0.25 , 0.25 ],\n",
       "       [0.25 , 0.295, 0.34 , 0.115],\n",
       "       [0.272, 0.232, 0.394, 0.102],\n",
       "       [0.275, 0.248, 0.354, 0.123],\n",
       "       [0.32 , 0.137, 0.328, 0.215],\n",
       "       [0.167, 0.104, 0.393, 0.336],\n",
       "       [0.107, 0.055, 0.534, 0.304],\n",
       "       [0.101, 0.073, 0.481, 0.345],\n",
       "       [0.078, 0.03 , 0.453, 0.44 ],\n",
       "       [0.053, 0.003, 0.518, 0.426],\n",
       "       [0.05 , 0.   , 0.412, 0.538],\n",
       "       [0.028, 0.   , 0.401, 0.571],\n",
       "       [0.003, 0.   , 0.355, 0.642],\n",
       "       [0.   , 0.   , 0.373, 0.627],\n",
       "       [0.   , 0.   , 0.307, 0.693],\n",
       "       [0.   , 0.   , 0.256, 0.744],\n",
       "       [0.   , 0.   , 0.206, 0.794],\n",
       "       [0.   , 0.   , 0.178, 0.822],\n",
       "       [0.   , 0.   , 0.108, 0.892],\n",
       "       [0.   , 0.   , 0.101, 0.899],\n",
       "       [0.   , 0.   , 0.168, 0.832],\n",
       "       [0.   , 0.   , 0.152, 0.848]])"
      ]
     },
     "execution_count": 10,
     "metadata": {},
     "output_type": "execute_result"
    }
   ],
   "source": [
    "# Evolution of pmf of 1 phase shifter\n",
    "np.around(CE_result['proba_evo'], decimals=3)"
   ]
  },
  {
   "cell_type": "code",
   "execution_count": 11,
   "metadata": {},
   "outputs": [
    {
     "name": "stdout",
     "output_type": "stream",
     "text": [
      "Data rate evolution: [12.73687325 12.33382457 12.60165619 13.09349123 12.66576877 13.05653077\n",
      " 14.05766667 15.1056383  15.30098554 15.87300206 16.42346333 16.99484612\n",
      " 17.47463937 17.80187263 18.02186134 18.31718634 18.42683248 18.55600899\n",
      " 18.73406803 18.80856738 18.85566353]\n",
      "Number of iteration: 21\n",
      "Phase shifter pmf[[0.25  0.25  0.25  0.25 ]\n",
      " [0.25  0.295 0.34  0.115]\n",
      " [0.272 0.232 0.394 0.102]\n",
      " [0.275 0.248 0.354 0.123]\n",
      " [0.32  0.137 0.328 0.215]\n",
      " [0.167 0.104 0.393 0.336]\n",
      " [0.107 0.055 0.534 0.304]\n",
      " [0.101 0.073 0.481 0.345]\n",
      " [0.078 0.03  0.453 0.44 ]\n",
      " [0.053 0.003 0.518 0.426]\n",
      " [0.05  0.    0.412 0.538]\n",
      " [0.028 0.    0.401 0.571]\n",
      " [0.003 0.    0.355 0.642]\n",
      " [0.    0.    0.373 0.627]\n",
      " [0.    0.    0.307 0.693]\n",
      " [0.    0.    0.256 0.744]\n",
      " [0.    0.    0.206 0.794]\n",
      " [0.    0.    0.178 0.822]\n",
      " [0.    0.    0.108 0.892]\n",
      " [0.    0.    0.101 0.899]\n",
      " [0.    0.    0.168 0.832]\n",
      " [0.    0.    0.152 0.848]]\n"
     ]
    },
    {
     "data": {
      "image/png": "[encoded data removed]",
      "text/plain": [
       "<matplotlib.figure.Figure at 0x27574f01940>"
      ]
     },
     "metadata": {},
     "output_type": "display_data"
    }
   ],
   "source": [
    "print('Data rate evolution: ' + str(CE_result['R_max']))\n",
    "plt.plot(CE_result['R_max'])\n",
    "plt.title('data rate against iteration - 2 bits PS')\n",
    "plt.ylabel('data rate (bps/Hz)')\n",
    "plt.xlabel('iteration')\n",
    "print('Number of iteration: ' + str(CE_result['nb_ite']))\n",
    "print('Phase shifter pmf' + str(np.around(CE_result['proba_evo'], decimals=3)))"
   ]
  },
  {
   "cell_type": "markdown",
   "metadata": {},
   "source": [
    "Test:\n",
    "\n",
    "2 bits -- 17.56 bps/Hz - 16 iterate\n",
    "\n",
    "3 bits -- 17.68 bps/Hz - 18 iterate\n",
    "\n",
    "4 bits -- 17.71 bps/Hz - 18 iterate\n",
    "\n",
    "6 bits -- 17.68 bps/Hz - 19 iterate"
   ]
  },
  {
   "cell_type": "markdown",
   "metadata": {},
   "source": [
    "# Digital Beamforming"
   ]
  },
  {
   "cell_type": "code",
   "execution_count": 12,
   "metadata": {},
   "outputs": [
    {
     "name": "stdout",
     "output_type": "stream",
     "text": [
      "Data rate by digital beamforming: 20.41756613013491\n"
     ]
    }
   ],
   "source": [
    "R_o = data_rate(model['Ns'],SNR,model['Wopt'],model['H'][:,:,channel_index],model['Fopt'])\n",
    "print('Data rate by digital beamforming: ' + str(R_o))"
   ]
  },
  {
   "cell_type": "code",
   "execution_count": 13,
   "metadata": {},
   "outputs": [
    {
     "name": "stdout",
     "output_type": "stream",
     "text": [
      "Ns 2    Frobenius norm FRF*FBB= 2.0000000000000004\n"
     ]
    }
   ],
   "source": [
    "# Normalize condition\n",
    "x = np.linalg.norm(CE_result['Frf_max']@CE_result['Fbb_max'],'fro')\n",
    "print(\"Ns\", model['Ns'] , \"   Frobenius norm FRF*FBB=\", x**2)"
   ]
  },
  {
   "cell_type": "markdown",
   "metadata": {},
   "source": [
    "# OMP Beamforming"
   ]
  },
  {
   "cell_type": "code",
   "execution_count": 14,
   "metadata": {},
   "outputs": [],
   "source": [
    "def OMP(_Fopt,_NRF,_At):\n",
    "    \"\"\"\n",
    "    Orthogonal matching pursuit for hybrid beamforming\n",
    "    \n",
    "    \"\"\"\n",
    "    _FRF = np.empty((_At.shape[0],0))\n",
    "    _Fres = _Fopt\n",
    "    for k in range(_NRF):\n",
    "        PU = _At.conj().T@_Fres\n",
    "        ind = np.argmax(np.sum((np.absolute(PU))**2,axis=1))\n",
    "        _FRF = np.append(_FRF,_At[:,[ind]],axis=1)\n",
    "        _FBB = (np.linalg.pinv(_FRF))@_Fopt\n",
    "        _Fres = (_Fopt-_FRF@_FBB)/np.linalg.norm((_Fopt-_FRF@_FBB),'fro')\n",
    "#         _Fres = (_Fopt-_FRF@_FBB)\n",
    "    return _FRF,_FBB"
   ]
  },
  {
   "cell_type": "code",
   "execution_count": 15,
   "metadata": {},
   "outputs": [],
   "source": [
    "FRF_omp, FBB_omp = OMP( model['Fopt'], model['Nrf'], model['At'][:,:,channel_index] ) "
   ]
  },
  {
   "cell_type": "code",
   "execution_count": 16,
   "metadata": {},
   "outputs": [
    {
     "name": "stdout",
     "output_type": "stream",
     "text": [
      "Data rate by OMP: 16.7201107591366\n"
     ]
    }
   ],
   "source": [
    "R_omp = data_rate(model['Ns'],SNR,model['Wopt'],model['H'][:,:,channel_index],FRF_omp@FBB_omp)\n",
    "print(\"Data rate by OMP: \" + str(R_omp))"
   ]
  },
  {
   "cell_type": "markdown",
   "metadata": {},
   "source": [
    "### Quantize omp beamforming"
   ]
  },
  {
   "cell_type": "code",
   "execution_count": 17,
   "metadata": {},
   "outputs": [],
   "source": [
    "def quantize_Frf(model,n_bit,F_rf,channel_index):\n",
    "    \"\"\"\n",
    "    Quantize precoder for low resolutioin phase shifter\n",
    "    \n",
    "    \"\"\"\n",
    "    q = 2*np.pi/2**n_bit\n",
    "    amplitude = 1/np.sqrt(model['Nt'])\n",
    "    Frf_angle = np.angle(F_rf)\n",
    "    angle_quantized = q * np.round(Frf_angle/q)\n",
    "    Frf_quantized = amplitude*np.exp(1j*angle_quantized)\n",
    "    Frf_quantized = np.around(Frf_quantized, decimals=3)\n",
    "    \n",
    "    channel_eq =  model['H'][:,:,channel_index]@Frf_quantized\n",
    "    U, s, V = np.linalg.svd(channel_eq, full_matrices=True)\n",
    "    V = V.conj().T\n",
    "    F_bb = V[0:model['Nt'],0:model['Ns']]\n",
    "    F_bb = np.sqrt(model['Ns'])*F_bb/np.linalg.norm(Frf_quantized@F_bb,'fro')\n",
    "    \n",
    "    return Frf_quantized, F_bb"
   ]
  },
  {
   "cell_type": "code",
   "execution_count": 18,
   "metadata": {
    "scrolled": true
   },
   "outputs": [],
   "source": [
    "Frf_quantize, Fbb_quantize = quantize_Frf(model,nb_bit,FRF_omp,channel_index)"
   ]
  },
  {
   "cell_type": "code",
   "execution_count": 19,
   "metadata": {},
   "outputs": [
    {
     "name": "stdout",
     "output_type": "stream",
     "text": [
      "Data rate by OMP with quantization: 17.96717163142237\n"
     ]
    }
   ],
   "source": [
    "R_omp_quantized = data_rate(model['Ns'],SNR,model['Wopt'],model['H'][:,:,channel_index],Frf_quantize@Fbb_quantize)\n",
    "print('Data rate by OMP with quantization: ' + str(R_omp_quantized))"
   ]
  },
  {
   "cell_type": "code",
   "execution_count": 20,
   "metadata": {},
   "outputs": [
    {
     "name": "stdout",
     "output_type": "stream",
     "text": [
      "Ns 2    Frobenius norm FRF*FBB= 2.0000000000000004\n"
     ]
    }
   ],
   "source": [
    "# Normalize condition\n",
    "x = np.linalg.norm(Frf_quantize@Fbb_quantize,'fro')\n",
    "print(\"Ns\", model['Ns'] , \"   Frobenius norm FRF*FBB=\", x**2)"
   ]
  },
  {
   "cell_type": "markdown",
   "metadata": {},
   "source": [
    "### Initialize pmf of phase shiter with OMP"
   ]
  },
  {
   "cell_type": "code",
   "execution_count": 21,
   "metadata": {},
   "outputs": [
    {
     "data": {
      "text/plain": [
       "array([ 0.125+0.   j,  0.   +0.125j, -0.125+0.   j, -0.   -0.125j])"
      ]
     },
     "execution_count": 21,
     "metadata": {},
     "output_type": "execute_result"
    }
   ],
   "source": [
    "phase_value"
   ]
  },
  {
   "cell_type": "code",
   "execution_count": 22,
   "metadata": {
    "scrolled": true
   },
   "outputs": [
    {
     "data": {
      "text/plain": [
       "array([[ 0.125+0.   j,  0.125+0.   j],\n",
       "       [-0.125+0.   j, -0.125-0.   j],\n",
       "       [ 0.125+0.   j,  0.   +0.125j],\n",
       "       [-0.125+0.   j,  0.   -0.125j],\n",
       "       [ 0.125+0.   j, -0.125+0.   j],\n",
       "       [-0.125+0.   j,  0.125+0.   j],\n",
       "       [ 0.125+0.   j,  0.   -0.125j],\n",
       "       [-0.125+0.   j,  0.   +0.125j],\n",
       "       [ 0.125+0.   j,  0.125+0.   j],\n",
       "       [-0.125-0.   j, -0.125-0.   j],\n",
       "       [ 0.125+0.   j,  0.   +0.125j],\n",
       "       [-0.125-0.   j,  0.   -0.125j],\n",
       "       [ 0.125+0.   j, -0.125+0.   j],\n",
       "       [-0.125-0.   j,  0.125+0.   j],\n",
       "       [ 0.125+0.   j, -0.125-0.   j],\n",
       "       [-0.125-0.   j,  0.   +0.125j],\n",
       "       [ 0.125+0.   j,  0.125+0.   j],\n",
       "       [-0.125-0.   j, -0.125-0.   j],\n",
       "       [ 0.125+0.   j,  0.   +0.125j],\n",
       "       [-0.125-0.   j,  0.   -0.125j],\n",
       "       [ 0.125+0.   j, -0.125+0.   j],\n",
       "       [-0.125-0.   j,  0.125+0.   j],\n",
       "       [ 0.125+0.   j, -0.125-0.   j],\n",
       "       [-0.125-0.   j,  0.   +0.125j],\n",
       "       [ 0.125+0.   j,  0.125+0.   j],\n",
       "       [-0.125-0.   j, -0.125-0.   j],\n",
       "       [ 0.125+0.   j,  0.   +0.125j],\n",
       "       [-0.125-0.   j,  0.   -0.125j],\n",
       "       [ 0.125+0.   j, -0.125+0.   j],\n",
       "       [-0.125-0.   j,  0.125+0.   j],\n",
       "       [ 0.125+0.   j, -0.125-0.   j],\n",
       "       [-0.125-0.   j,  0.   +0.125j],\n",
       "       [ 0.   +0.125j,  0.125+0.   j],\n",
       "       [ 0.   -0.125j, -0.125-0.   j],\n",
       "       [ 0.   +0.125j,  0.   +0.125j],\n",
       "       [ 0.   -0.125j,  0.   -0.125j],\n",
       "       [ 0.   +0.125j, -0.125+0.   j],\n",
       "       [-0.125-0.   j,  0.125+0.   j],\n",
       "       [ 0.125+0.   j, -0.125-0.   j],\n",
       "       [-0.125-0.   j,  0.   +0.125j],\n",
       "       [ 0.   +0.125j,  0.125+0.   j],\n",
       "       [ 0.   -0.125j, -0.125-0.   j],\n",
       "       [ 0.   +0.125j,  0.   +0.125j],\n",
       "       [ 0.   -0.125j,  0.   -0.125j],\n",
       "       [ 0.   +0.125j, -0.125+0.   j],\n",
       "       [ 0.   -0.125j,  0.125+0.   j],\n",
       "       [ 0.   +0.125j, -0.125-0.   j],\n",
       "       [ 0.   -0.125j,  0.   +0.125j],\n",
       "       [ 0.   +0.125j,  0.125+0.   j],\n",
       "       [ 0.   -0.125j, -0.125-0.   j],\n",
       "       [ 0.   +0.125j,  0.   +0.125j],\n",
       "       [ 0.   -0.125j,  0.   -0.125j],\n",
       "       [ 0.   +0.125j, -0.125+0.   j],\n",
       "       [ 0.   -0.125j,  0.125+0.   j],\n",
       "       [ 0.   +0.125j, -0.125-0.   j],\n",
       "       [ 0.   -0.125j,  0.   +0.125j],\n",
       "       [ 0.   +0.125j,  0.125+0.   j],\n",
       "       [ 0.   -0.125j, -0.125-0.   j],\n",
       "       [ 0.   +0.125j,  0.   +0.125j],\n",
       "       [ 0.   -0.125j,  0.   -0.125j],\n",
       "       [ 0.   +0.125j, -0.125+0.   j],\n",
       "       [ 0.   -0.125j,  0.125+0.   j],\n",
       "       [ 0.   +0.125j, -0.125-0.   j],\n",
       "       [ 0.   -0.125j,  0.   +0.125j]])"
      ]
     },
     "execution_count": 22,
     "metadata": {},
     "output_type": "execute_result"
    }
   ],
   "source": [
    "Frf_quantize"
   ]
  },
  {
   "cell_type": "code",
   "execution_count": 23,
   "metadata": {},
   "outputs": [],
   "source": [
    "def initialize_pmf_omp(model,nb_bit,Frf_omp_quantize,phase_value,ratio):\n",
    "    \"\"\"\n",
    "    Initialize pmf of phase shifter with solution getting by OMP\n",
    "    \n",
    "    \"\"\"\n",
    "    low_proba = 1/(2**nb_bit-1+ratio)\n",
    "    high_proba = ratio*low_proba\n",
    "    proba_init = np.zeros((model['Nt'],model['Nrf'],2**nb_bit))\n",
    "    for i in range(phase_value.shape[0]):\n",
    "        assign = Frf_quantize == phase_value[i]\n",
    "        proba_init[:,:,i] = assign*high_proba + np.invert(assign)*low_proba\n",
    "    return proba_init"
   ]
  },
  {
   "cell_type": "markdown",
   "metadata": {},
   "source": [
    "### Cross entropy method with initialization by quantized OMP"
   ]
  },
  {
   "cell_type": "code",
   "execution_count": 24,
   "metadata": {},
   "outputs": [
    {
     "name": "stdout",
     "output_type": "stream",
     "text": [
      "[0.5        0.16666667 0.16666667 0.16666667]\n",
      "0\n",
      "1\n",
      "2\n",
      "3\n",
      "4\n",
      "5\n",
      "76.19918783758867\n",
      "6\n",
      "50.73839783175737\n",
      "7\n",
      "31.356445808870667\n",
      "8\n",
      "22.51090794356925\n",
      "9\n",
      "15.764530659265539\n",
      "10\n",
      "10.559954462826976\n",
      "11\n",
      "7.394889933539191\n",
      "12\n",
      "6.051861381263081\n",
      "13\n",
      "5.460957157243813\n",
      "14\n",
      "2.9759156585704076\n"
     ]
    }
   ],
   "source": [
    "nb_elite = 40\n",
    "S = 200\n",
    "channel_index = 0\n",
    "nb_iterate = 30\n",
    "ps_system_proba_omp = initialize_pmf_omp(model,nb_bit,Frf_quantize,phase_value,3)\n",
    "SNR = 10**(10/10)\n",
    "CE_result_omp = CE_beamforming(nb_elite,S,nb_iterate,model,nb_bit,ps_system_proba_omp,channel_index,SNR)"
   ]
  },
  {
   "cell_type": "code",
   "execution_count": 25,
   "metadata": {},
   "outputs": [
    {
     "name": "stdout",
     "output_type": "stream",
     "text": [
      "Data rate evolution: [15.24493296 15.55494699 16.36772146 16.96154783 17.34239547 17.86239019\n",
      " 18.25325698 18.51923789 18.52911611 18.864484   18.93430248 19.03811105\n",
      " 19.09904698 19.17854895 19.20855943]\n",
      "Number of iteration: 15\n",
      "Phase shifter pmf[[0.5   0.167 0.167 0.167]\n",
      " [0.54  0.18  0.15  0.13 ]\n",
      " [0.617 0.176 0.128 0.08 ]\n",
      " [0.737 0.108 0.058 0.098]\n",
      " [0.681 0.146 0.028 0.145]\n",
      " [0.721 0.15  0.025 0.104]\n",
      " [0.837 0.082 0.003 0.078]\n",
      " [0.961 0.008 0.    0.03 ]\n",
      " [0.996 0.001 0.    0.003]\n",
      " [1.    0.    0.    0.   ]\n",
      " [1.    0.    0.    0.   ]\n",
      " [1.    0.    0.    0.   ]\n",
      " [1.    0.    0.    0.   ]\n",
      " [1.    0.    0.    0.   ]\n",
      " [1.    0.    0.    0.   ]\n",
      " [1.    0.    0.    0.   ]]\n"
     ]
    },
    {
     "data": {
      "image/png": "[encoded data removed]",
      "text/plain": [
       "<matplotlib.figure.Figure at 0x27575aca470>"
      ]
     },
     "metadata": {},
     "output_type": "display_data"
    }
   ],
   "source": [
    "print('Data rate evolution: ' + str(CE_result_omp['R_max']))\n",
    "plt.plot(CE_result_omp['R_max'])\n",
    "plt.title('data rate against iteration - 2 bits PS')\n",
    "plt.ylabel('data rate (bps/Hz)')\n",
    "plt.xlabel('iteration')\n",
    "print('Number of iteration: ' + str(CE_result_omp['nb_ite']))\n",
    "print('Phase shifter pmf' + str(np.around(CE_result_omp['proba_evo'], decimals=3)))"
   ]
  },
  {
   "cell_type": "code",
   "execution_count": 26,
   "metadata": {},
   "outputs": [],
   "source": [
    "# print(CE_result_omp['Frf_max'] == CE_result['Frf_max'])\n",
    "# print(CE_result_omp['Frf_max'] == Frf_quantize)"
   ]
  }
 ],
 "metadata": {
  "kernelspec": {
   "display_name": "Python 3",
   "language": "python",
   "name": "python3"
  },
  "language_info": {
   "codemirror_mode": {
    "name": "ipython",
    "version": 3
   },
   "file_extension": ".py",
   "mimetype": "text/x-python",
   "name": "python",
   "nbconvert_exporter": "python",
   "pygments_lexer": "ipython3",
   "version": "3.6.4"
  }
 },
 "nbformat": 4,
 "nbformat_minor": 2
}
